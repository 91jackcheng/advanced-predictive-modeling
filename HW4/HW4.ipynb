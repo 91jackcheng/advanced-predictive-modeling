{
 "cells": [
  {
   "cell_type": "markdown",
   "metadata": {
    "collapsed": true
   },
   "source": [
    "\n",
    "# <p style=\"text-align: center;\">MIS 382: Advanced Predictive Modelling</p>\n",
    "# <p style=\"text-align: center;\">Assignment 4</p>\n",
    "## <p style=\"text-align: center;\">Total points: 60</p>\n",
    "## <p style=\"text-align: center;\">Due: Wednesday, November 8th, submitted via Canvas by 11:59 pm</p>\n",
    "\n",
    "Your homework should be written in a **Jupyter notebook**. You may work in groups if you wish. Only one student per team needs to submit the assignment on Canvas.  But be sure to include name and UTID for all students.  Homework groups will be created and managed through Canvas, so please do not arbitrarily change your homework group.  \n",
    "\n",
    "Also, please make sure your code runs and the graphics (and anything else) are displayed in your notebook before submitting. (%matplotlib inline)"
   ]
  },
  {
   "cell_type": "markdown",
   "metadata": {},
   "source": [
    "# Question 1 - Bayesian Classifiers (15 pts)\n",
    "\n",
    "In this problem, you will classify between digits 8 and 9 of the MNIST dataset using Bayesian classifiers (LDA, QDA and Naive Bayes) The code below loads the dataset and all necessary sklearn modules. Look up any module on the scikit-learn website for a full description.\n",
    "\n",
    "1. Train Linear Discriminant Analysis, Quadratic Discriminant Analysis, and (Gaussian) Naive Bayes. Extract the probability of the class being digits 8 or digits 9 for every row. \n",
    "2. Use this to plot the receiver operating characteristic (ROC) curve. (one figure for all 3 models, with a label for each line) \n",
    "3. Report the area under the ROC curve (AUC) for each model. (5 pts for each model. Total of 15 pts)"
   ]
  },
  {
   "cell_type": "code",
   "execution_count": 1,
   "metadata": {
    "collapsed": true
   },
   "outputs": [],
   "source": [
    "%matplotlib inline\n",
    "import pandas as pd\n",
    "from sklearn.model_selection import train_test_split\n",
    "from sklearn.metrics import roc_curve, roc_auc_score\n",
    "from sklearn.naive_bayes import GaussianNB\n",
    "from sklearn.discriminant_analysis import LinearDiscriminantAnalysis as LDA\n",
    "from sklearn.discriminant_analysis import QuadraticDiscriminantAnalysis as QDA\n",
    "import numpy as np\n",
    "import matplotlib.pyplot as plt"
   ]
  },
  {
   "cell_type": "code",
   "execution_count": 2,
   "metadata": {
    "collapsed": true
   },
   "outputs": [],
   "source": [
    "import matplotlib.pyplot as plt\n",
    "from sklearn.datasets import fetch_mldata\n",
    "\n",
    "mnist = fetch_mldata(\"MNIST original\", data_home='./dataset/')  # data downloaded in'./dataset/', change if necessary\n",
    "\n",
    "X= (mnist.data / 255.)\n",
    "y = mnist.target\n",
    "\n",
    "X_train = X[:60000]\n",
    "y_train = y[:60000]\n",
    "\n",
    "X_test = X[60000:]\n",
    "y_test = y[60000:]"
   ]
  },
  {
   "cell_type": "code",
   "execution_count": 3,
   "metadata": {},
   "outputs": [
    {
     "name": "stdout",
     "output_type": "stream",
     "text": [
      "((11800L, 784L), (11800L,), (1983L, 784L), (1983L,))\n"
     ]
    }
   ],
   "source": [
    "idx = (y_train == 8) + (y_train==9)\n",
    "X_train = X_train[idx]\n",
    "y_train = y_train[idx]\n",
    "y_train = (y_train-8)\n",
    "\n",
    "idx = (y_test == 8) + (y_test==9)\n",
    "X_test = X_test[idx]\n",
    "y_test = y_test[idx]\n",
    "y_test = (y_test-8)\n",
    "\n",
    "print(X_train.shape, y_train.shape, X_test.shape, y_test.shape)"
   ]
  },
  {
   "cell_type": "markdown",
   "metadata": {},
   "source": [
    "## Solutions"
   ]
  },
  {
   "cell_type": "code",
   "execution_count": 4,
   "metadata": {},
   "outputs": [],
   "source": [
    "def plot_roc_curve(fpr, npr, label=None, auc=None):\n",
    "    plt.plot(fpr, tpr, linewidth=2, label=label+str(auc))\n",
    "    plt.plot([0,1],[0,1],'k--')\n",
    "    plt.axis([0,1,0,1])\n",
    "    plt.xlabel('False Positive Rate')\n",
    "    plt.ylabel('True Positive Rate')"
   ]
  },
  {
   "cell_type": "code",
   "execution_count": 5,
   "metadata": {},
   "outputs": [
    {
     "name": "stderr",
     "output_type": "stream",
     "text": [
      "C:\\Users\\zjj27\\Anaconda2\\lib\\site-packages\\sklearn\\discriminant_analysis.py:387: UserWarning: Variables are collinear.\n",
      "  warnings.warn(\"Variables are collinear.\")\n"
     ]
    },
    {
     "name": "stdout",
     "output_type": "stream",
     "text": [
      "AUC socre for LDA is  0.970653237902\n"
     ]
    },
    {
     "name": "stderr",
     "output_type": "stream",
     "text": [
      "C:\\Users\\zjj27\\Anaconda2\\lib\\site-packages\\sklearn\\discriminant_analysis.py:695: UserWarning: Variables are collinear\n",
      "  warnings.warn(\"Variables are collinear\")\n"
     ]
    },
    {
     "name": "stdout",
     "output_type": "stream",
     "text": [
      "AUC socre for QDA is  0.922434231546\n",
      "AUC socre for Naive Bayes is  0.873684071285\n"
     ]
    },
    {
     "data": {
      "text/plain": [
       "<matplotlib.legend.Legend at 0xc1609e8>"
      ]
     },
     "execution_count": 5,
     "metadata": {},
     "output_type": "execute_result"
    },
    {
     "data": {
      "image/png": "[encoded data removed]",
      "text/plain": [
       "<matplotlib.figure.Figure at 0xbedefd0>"
      ]
     },
     "metadata": {},
     "output_type": "display_data"
    }
   ],
   "source": [
    "plt.figure(0).clf()\n",
    "\n",
    "LDA_clf = LDA()\n",
    "LDA_clf.fit(X_train, y_train)\n",
    "LDA_y_predicted = LDA_clf.predict(X_test)\n",
    "fpr,tpr,thresholds = roc_curve(y_test, LDA_y_predicted)\n",
    "auc = roc_auc_score(y_test, LDA_y_predicted)\n",
    "plot_roc_curve(fpr,tpr,'LDA',auc)\n",
    "print 'AUC socre for LDA is ', str(auc)\n",
    "\n",
    "QDA_clf = QDA()\n",
    "QDA_clf.fit(X_train, y_train)\n",
    "QDA_y_predicted=QDA_clf.predict(X_test)\n",
    "fpr,tpr,thresholds = roc_curve(y_test, QDA_y_predicted)\n",
    "auc = roc_auc_score(y_test, QDA_y_predicted)\n",
    "plot_roc_curve(fpr,tpr,'QDA',auc)\n",
    "print 'AUC socre for QDA is ', str(auc)\n",
    "\n",
    "NB_clf=GaussianNB()\n",
    "NB_clf.fit(X_train, y_train)\n",
    "NB_y_predicted = NB_clf.predict(X_test)\n",
    "fpr,tpr,thresholds = roc_curve(y_test, NB_y_predicted)\n",
    "auc = roc_auc_score(y_test, NB_y_predicted)\n",
    "plot_roc_curve(fpr,tpr,'Naive Bayes',auc)\n",
    "print 'AUC socre for Naive Bayes is ', str(auc)\n",
    "\n",
    "plt.legend(loc=0)"
   ]
  },
  {
   "cell_type": "markdown",
   "metadata": {},
   "source": [
    "# Question 2: Bayesian Networks (10 pts)\n",
    "In the Bayesian Network shown below, the nodes represent the following random variables: S stands for \"Smoking\", LC for \"Lung Cancer\", B for \"Bronchitis\", T for \"Tuberculosis\", D for \"Dyspnea\". The necessary conditional probabilities are provided alongside. "
   ]
  },
  {
   "cell_type": "code",
   "execution_count": 6,
   "metadata": {},
   "outputs": [
    {
     "data": {
      "image/png": "[encoded data removed]",
      "text/plain": [
       "<IPython.core.display.Image object>"
      ]
     },
     "execution_count": 6,
     "metadata": {},
     "output_type": "execute_result"
    }
   ],
   "source": [
    "from IPython.display import Image\n",
    "Image(filename='BayesianNetworks.png')"
   ]
  },
  {
   "cell_type": "markdown",
   "metadata": {},
   "source": [
    "$$Pr(S = yes) = 0.1$$\n",
    "$$Pr(LC = yes | S = yes) = 0.03$$\n",
    "$$Pr(LC = yes | S = no) = 0.01$$\n",
    "$$Pr(B = yes | S = yes) = 0.06$$\n",
    "$$Pr(B = yes | S = no) = 0.02$$\n",
    "$$Pr(T = yes | LC = yes, B = yes) = 0.8$$\n",
    "$$Pr(T = yes | LC = yes, B = no) = 0.5$$\n",
    "$$Pr(T = yes | LC = no, B = yes) = 0.1$$\n",
    "$$Pr(T = yes | LC = no, B = no) = 0.04$$\n",
    "$$Pr(D = yes | T = yes, B = yes) = 0.9$$\n",
    "$$Pr(D = yes | T = yes, B = no) = 0.7$$\n",
    "$$Pr(D = yes | T = no, B = yes) = 0.65$$\n",
    "$$Pr(D = yes | T = no, B = no) = 0.015$$"
   ]
  },
  {
   "cell_type": "markdown",
   "metadata": {},
   "source": [
    "Compute the following probabilities:\n",
    "\n",
    "(a) (2 pts) $Pr(D = yes)$\n",
    "\n",
    "(b) (2 pts) $Pr(LC = no, B = yes, D = yes)$\n",
    "\n",
    "(c) (3 pts) Given that a person has Bronchitis (B = yes) and no Lung Cancer (LC = no), the probability he will has symptoms of Dyspnea (D = yes).\n",
    "\n",
    "(d) (3 pts) Given that a person is a smoker (S = yes), the probability he will get infected with Tuberculosis (T = yes)."
   ]
  },
  {
   "cell_type": "markdown",
   "metadata": {},
   "source": [
    "## Solutions"
   ]
  },
  {
   "cell_type": "markdown",
   "metadata": {},
   "source": [
    "## (a)"
   ]
  },
  {
   "cell_type": "markdown",
   "metadata": {},
   "source": [
    "$ P(D = yes) = 0.1041 $"
   ]
  },
  {
   "cell_type": "markdown",
   "metadata": {},
   "source": [
    "## (b)"
   ]
  },
  {
   "cell_type": "markdown",
   "metadata": {},
   "source": [
    "By definition, we have $P(LC=no, B=yes, D=yes) = P(D=yes|LC=no, B=yes)*P(LC=no|B=yes)*P(B=yes)$, since event LC is independent from event B, we have $P(LC=no, B=yes, D=yes) = P(D=yes|LC=no, B=yes)*P(LC=no)*P(B=yes)$. After calculation , we have our result where $P(LC=no, B=yes, D=yes) = (0.9*0.1+0.65*0.9)*0.023712 = 0.0160056$"
   ]
  },
  {
   "cell_type": "markdown",
   "metadata": {},
   "source": [
    "## (C)"
   ]
  },
  {
   "cell_type": "markdown",
   "metadata": {},
   "source": [
    "$ P(D=yes | B=yes, LC=no) = \\frac{P(D=yes, B=yes, LC=no}{P(B=yes, LC=no)}=\\frac{0.0160056}{0.023712}=0.675$"
   ]
  },
  {
   "cell_type": "markdown",
   "metadata": {},
   "source": [
    "## (d)"
   ]
  },
  {
   "cell_type": "markdown",
   "metadata": {},
   "source": [
    "$P(T=yes|S=yes)=0.00110212 $"
   ]
  },
  {
   "cell_type": "markdown",
   "metadata": {},
   "source": [
    "# Question 3 - Logistic Regression Classification (15pts)\n",
    "\n",
    "Using the MNIST dataset in Q1, the goal is to build a Logistic Regression classifier to classify between digits $\\textbf{8 and 9}$.  Note that the imported MNIST dataset has 10 labels, from digits 0 to 9.  Use the code below to access the data set and extract the MNIST data."
   ]
  },
  {
   "cell_type": "code",
   "execution_count": 1,
   "metadata": {
    "collapsed": true
   },
   "outputs": [],
   "source": [
    "%matplotlib inline\n",
    "import pandas as pd\n",
    "from sklearn.model_selection import train_test_split\n",
    "from sklearn.metrics import roc_curve, roc_auc_score\n",
    "from sklearn.naive_bayes import GaussianNB\n",
    "from sklearn.discriminant_analysis import LinearDiscriminantAnalysis as LDA\n",
    "from sklearn.discriminant_analysis import QuadraticDiscriminantAnalysis as QDA\n",
    "import numpy as np\n",
    "import matplotlib.pyplot as plt"
   ]
  },
  {
   "cell_type": "code",
   "execution_count": 2,
   "metadata": {},
   "outputs": [],
   "source": [
    "import matplotlib.pyplot as plt\n",
    "from sklearn.datasets import fetch_mldata\n",
    "\n",
    "mnist = fetch_mldata(\"MNIST original\", data_home='./dataset/')  # data downloaded in'./dataset/', change if necessary\n",
    "\n",
    "X= (mnist.data / 255.)\n",
    "y = mnist.target\n",
    "\n",
    "X_train = X[:60000]\n",
    "y_train = y[:60000]\n",
    "\n",
    "X_test = X[60000:]\n",
    "y_test = y[60000:]"
   ]
  },
  {
   "cell_type": "code",
   "execution_count": 3,
   "metadata": {},
   "outputs": [
    {
     "name": "stdout",
     "output_type": "stream",
     "text": [
      "((11800L, 784L), (11800L,), (1983L, 784L), (1983L,))\n"
     ]
    }
   ],
   "source": [
    "idx = (y_train == 8) + (y_train==9)\n",
    "X_train = X_train[idx]\n",
    "y_train = y_train[idx]\n",
    "y_train = (y_train-8)\n",
    "\n",
    "idx = (y_test == 8) + (y_test==9)\n",
    "X_test = X_test[idx]\n",
    "y_test = y_test[idx]\n",
    "y_test = (y_test-8)\n",
    "\n",
    "print(X_train.shape, y_train.shape, X_test.shape, y_test.shape)"
   ]
  },
  {
   "cell_type": "markdown",
   "metadata": {},
   "source": [
    "## Solutions"
   ]
  },
  {
   "cell_type": "markdown",
   "metadata": {},
   "source": [
    "1. Train a logistic regression with almost no regularization (pass l2 (ridge) to penalty and 1,000,000 to the C parameter which is the inverse of regularization strength lambda. This essentially does l2 regularization but applies very little weight to the penalty term) and report the [confusion matrix](http://scikit-learn.org/stable/modules/generated/sklearn.metrics.confusion_matrix.html) on the test data. Also report the accuracy for the \"y = 0\" class, the \"y = 1\" class, and the average per-class accuracy on the test data. Average per-class accuracy is described in this [post](http://rasbt.github.io/mlxtend/user_guide/evaluate/scoring/). You can use your confusion matrix to calculate this.  (4pts)\n",
    "2. Repeat step 1 except use l2 penalty with Cs of [0.01, 0.1, 1, 10 ,100]. You will want to use 3-fold cross validation to select the best parameter. To evaluate which parameter is best, maximize the average per-class accuracy. To help with this task, check out [GridSearchCV](http://scikit-learn.org/stable/modules/generated/sklearn.model_selection.GridSearchCV.html#sklearn.model_selection.GridSearchCV) and how to make your own [custom scorer](http://scikit-learn.org/stable/modules/model_evaluation.html).  (4pts)\n",
    "3. Repeat question 2 except use l1 instead of l2 as the penalty type, use Cs of  [0.01, ..., 100].  Compare the performances of the models (no regularization, l2, l1) using the average per-class accuracy.  (3pts)\n",
    "4. Using the optimal regularization parameter obtained in step 2, train a logistic regression classifier with ridge penalty to clasify $\\textbf{all 10 digits}$ (digits 0,1,2,3,...9) of the MNIST dataset.  Use 'newton-cg' and 'multinomial' options for solver and multi_class parameters, respectively. Report the average per-class accuracy and confusion matrix (10 X 10) on the test data. (4pts)"
   ]
  },
  {
   "cell_type": "markdown",
   "metadata": {},
   "source": [
    "## part 1"
   ]
  },
  {
   "cell_type": "code",
   "execution_count": 4,
   "metadata": {},
   "outputs": [],
   "source": [
    "from sklearn.linear_model import LogisticRegression\n",
    "from sklearn.metrics import confusion_matrix\n",
    "clf = LogisticRegression(C=1000000, penalty='l2')\n",
    "clf.fit(X_train, y_train)\n",
    "y_predicted = clf.predict(X_test)\n",
    "conf_mat=confusion_matrix(y_test, y_predicted)\n"
   ]
  },
  {
   "cell_type": "code",
   "execution_count": 5,
   "metadata": {},
   "outputs": [
    {
     "name": "stdout",
     "output_type": "stream",
     "text": [
      "accuracy of the y=1 class is 0.964065708419\n",
      "accuracy of the y=0 class is 0.965312190287\n",
      "average per class accuracy is 0.964699949571\n"
     ]
    }
   ],
   "source": [
    "accuracy_class1 = (conf_mat[0][0])/float(np.sum(conf_mat[0]))\n",
    "accuracy_class0 = (conf_mat[1][1])/float(np.sum(conf_mat[1]))\n",
    "avg_accuracy = (conf_mat[0][0]+conf_mat[1][1])/float(np.sum(conf_mat))\n",
    "print 'accuracy of the y=1 class is' , accuracy_class1\n",
    "print 'accuracy of the y=0 class is' , accuracy_class0\n",
    "print 'average per class accuracy is' , avg_accuracy"
   ]
  },
  {
   "cell_type": "markdown",
   "metadata": {},
   "source": [
    "## part 2"
   ]
  },
  {
   "cell_type": "code",
   "execution_count": 6,
   "metadata": {
    "scrolled": true
   },
   "outputs": [
    {
     "name": "stdout",
     "output_type": "stream",
     "text": [
      "{'C': 1}\n",
      "0.982542372881\n"
     ]
    }
   ],
   "source": [
    "from sklearn.model_selection import GridSearchCV\n",
    "from sklearn.metrics import fbeta_score, make_scorer\n",
    "\n",
    "def per_class_accuracy(ground_truth, prediction):\n",
    "    cm = confusion_matrix(ground_truth,prediction)\n",
    "    tn = float(cm[1][1])\n",
    "    tp = float(cm[0][0])\n",
    "    return (tp+tn)/len(ground_truth)\n",
    "\n",
    "my_scorer = make_scorer(per_class_accuracy, greater_is_better=True)\n",
    "tuned_parameters = {'C':[0.01, 0.1, 1, 10 ,100]}\n",
    "clf = GridSearchCV(LogisticRegression(penalty='l2'), tuned_parameters, scoring=my_scorer, cv=3)\n",
    "clf.fit(X_train, y_train)\n",
    "print clf.best_params_\n",
    "print clf.best_score_"
   ]
  },
  {
   "cell_type": "markdown",
   "metadata": {},
   "source": [
    "## part 3"
   ]
  },
  {
   "cell_type": "code",
   "execution_count": 8,
   "metadata": {},
   "outputs": [
    {
     "name": "stdout",
     "output_type": "stream",
     "text": [
      "{'C': 1}\n",
      "0.980762711864\n"
     ]
    }
   ],
   "source": [
    "MNIST_logistic_l1 = LogisticRegression(penalty = 'l1')\n",
    "clf = GridSearchCV(MNIST_logistic_l1, tuned_parameters, scoring= my_scorer, cv = 3)\n",
    "clf.fit(X_train,y_train)\n",
    "print clf.best_params_\n",
    "print clf.best_score_"
   ]
  },
  {
   "cell_type": "markdown",
   "metadata": {},
   "source": [
    "## part 4"
   ]
  },
  {
   "cell_type": "code",
   "execution_count": 9,
   "metadata": {},
   "outputs": [
    {
     "data": {
      "text/plain": [
       "array([[ 955,    0,    2,    4,    1,   10,    4,    3,    1,    0],\n",
       "       [   0, 1110,    5,    2,    0,    2,    3,    2,   11,    0],\n",
       "       [   6,    9,  930,   14,   10,    3,   12,   10,   34,    4],\n",
       "       [   4,    1,   16,  925,    1,   23,    2,   10,   19,    9],\n",
       "       [   1,    3,    7,    3,  921,    0,    6,    5,    6,   30],\n",
       "       [   9,    2,    3,   35,   10,  777,   15,    6,   31,    4],\n",
       "       [   8,    3,    8,    2,    6,   16,  912,    2,    1,    0],\n",
       "       [   1,    7,   23,    7,    6,    1,    0,  947,    4,   32],\n",
       "       [   9,   11,    6,   22,    7,   29,   13,   10,  855,   12],\n",
       "       [   9,    8,    1,    9,   21,    7,    0,   21,    9,  924]])"
      ]
     },
     "execution_count": 9,
     "metadata": {},
     "output_type": "execute_result"
    }
   ],
   "source": [
    "X_train = X[:60000]\n",
    "y_train = y[:60000]\n",
    "\n",
    "X_test = X[60000:]\n",
    "y_test = y[60000:]\n",
    "\n",
    "MNIST_logistic_10= LogisticRegression(penalty = 'l2',C=1.0,solver='newton-cg',multi_class='multinomial')\n",
    "MNIST_logistic_10.fit(X_train,y_train)\n",
    "y_pred_10 = MNIST_logistic_10.predict(X_test)\n",
    "cm10 = confusion_matrix(y_test,y_pred_10)\n",
    "cm10"
   ]
  },
  {
   "cell_type": "code",
   "execution_count": 10,
   "metadata": {},
   "outputs": [
    {
     "name": "stdout",
     "output_type": "stream",
     "text": [
      "final average class accuracy is  0.9256\n"
     ]
    }
   ],
   "source": [
    "correct=0\n",
    "for i in range(10):\n",
    "    correct+=cm10[i][i]\n",
    "print 'final average class accuracy is ',round(correct*1.0/len(y_test),4)"
   ]
  },
  {
   "cell_type": "markdown",
   "metadata": {},
   "source": [
    "# Question 4: Regression Trees (6+5+4 = 15 points)\n",
    "In this question, we will be exploring the application of regression tree (RT) using sklearn package in Python. \n",
    "\n",
    "You will be using an NBA dataset (nbasalariesfull.csv) to predict a player’s Salary using all the numeric performance variables available ( so everything but Player, Team, and Position ). \n",
    "\n",
    "- a. Use a random state of 42 and a test size of 1/3 to split the data into training and test.\n",
    "     \n",
    "         Build a regression using DecisionTreeRegressor with max_depth = 6. \n",
    "         Report the mean squared errors on both training and test datasets.( 6 points )\n",
    "\n",
    "\n",
    "- b. Repeat Part-1 with max_depth = 2. (5 points )\n",
    "\n",
    "\n",
    "- c. Briefly explain what you observe from these MSE values obtained by using maximum tree depths 6 and 2? \n",
    "         Which tree is better and why? ( 4 points )"
   ]
  },
  {
   "cell_type": "markdown",
   "metadata": {},
   "source": [
    "## Solutions"
   ]
  },
  {
   "cell_type": "code",
   "execution_count": 1,
   "metadata": {},
   "outputs": [],
   "source": [
    "import pandas as pd\n",
    "from sklearn.tree import DecisionTreeRegressor\n",
    "from sklearn.model_selection import train_test_split\n",
    "from sklearn.metrics import mean_squared_error\n",
    "data = pd.read_csv('nbasalariesfull.csv')\n",
    "#exclude categorical variables \n",
    "X=data.iloc[:,3:-1].copy()\n",
    "y=data.iloc[:,-1].copy()\n",
    "X_train, X_test, y_train, y_test = train_test_split(X, y, test_size=0.33, random_state=42)"
   ]
  },
  {
   "cell_type": "markdown",
   "metadata": {},
   "source": [
    "## part a"
   ]
  },
  {
   "cell_type": "code",
   "execution_count": 7,
   "metadata": {},
   "outputs": [
    {
     "name": "stdout",
     "output_type": "stream",
     "text": [
      "training set MSE is 3.10898385635e+12\n",
      "testing set MSE is 2.01303544618e+13\n"
     ]
    }
   ],
   "source": [
    "DR = DecisionTreeRegressor(max_depth=6)\n",
    "DR.fit(X_train,y_train)\n",
    "\n",
    "y_predicted_train = DR.predict(X_train)\n",
    "y_predicted_test = DR.predict(X_test)\n",
    "\n",
    "print 'training set MSE is',mean_squared_error(y_train, y_predicted_train)\n",
    "print 'testing set MSE is',mean_squared_error(y_test, y_predicted_test)"
   ]
  },
  {
   "cell_type": "markdown",
   "metadata": {},
   "source": [
    "## part b"
   ]
  },
  {
   "cell_type": "code",
   "execution_count": 8,
   "metadata": {},
   "outputs": [
    {
     "name": "stdout",
     "output_type": "stream",
     "text": [
      "training set MSE is 1.21381635555e+13\n",
      "testing set MSE is 1.68555751673e+13\n"
     ]
    }
   ],
   "source": [
    "DR = DecisionTreeRegressor(max_depth=2)\n",
    "DR.fit(X_train,y_train)\n",
    "\n",
    "y_predicted_train = DR.predict(X_train)\n",
    "y_predicted_test = DR.predict(X_test)\n",
    "\n",
    "print 'training set MSE is',mean_squared_error(y_train, y_predicted_train)\n",
    "print 'testing set MSE is',mean_squared_error(y_test, y_predicted_test)"
   ]
  },
  {
   "cell_type": "markdown",
   "metadata": {},
   "source": [
    "## part c"
   ]
  },
  {
   "cell_type": "markdown",
   "metadata": {},
   "source": [
    "By using decision tree regressor with max_depth =6, we have training set MSE around 3e+12 and testing set MSE around 2e+13. Since testing set MSE value is much higher than training set MSE value, it is likely the decision tree regressor with max_depth = 6 is overfitting. On the other hand, when we use decision tree regressor with max_depth = 2, we got MSE for training set to be around 1.2e+13 and testing set to be around 1.7e+13. In this case, model still perform better in training set than testing set. However, we can see that difference between training set MSE and testing set MSE is much smaller in this case. In addition, by comparing the testing set MSE value obtained by using maximum tree depths 6 and 2, we conclude decision tree regressor with max_depth =2 is better because it has a lower MSE value."
   ]
  },
  {
   "cell_type": "markdown",
   "metadata": {},
   "source": [
    "# Question 5.  AUC vs Lift Curve ( 5 points )\n",
    "Describe the similarities and differences between AUC and Lift Curves."
   ]
  },
  {
   "cell_type": "markdown",
   "metadata": {},
   "source": [
    "## Solution"
   ]
  },
  {
   "cell_type": "markdown",
   "metadata": {},
   "source": [
    "By definition, AUC is typically the area under the ROC curve, which is a graph that plots the relation between the false positve rate (X-axis) and true positive rate (Y-axis). In this case, an AUC value of 1 means it is a perfect classifier and an AUC value of 0.5 means it is a purely random classifier. On the other hand, lift curve shows the relation between the sorted list of the population (X-axis) and true positve rate (Y-axis). And it generally measures the performance of a chosen classifier against a random classifier. In terms of similarity, both AUC and Lift Curve use true positive rate as a measurement to judge the model and both of them can be compared to a purely random classifier (the y=x line) to see how well the model performs. However, while AUC is comparing to the false positve rate, Lift Curve compares to the sorted list of population. Therefore, while we can see how the model does as a whole from AUC curve, Lift Curve is used to how well the model perform in sorted list of the population case compare to purely random case. In such sense, Lift Curve is often used in segmenting the population such as market segmentation where AUC is not."
   ]
  }
 ],
 "metadata": {
  "kernelspec": {
   "display_name": "Python 2",
   "language": "python",
   "name": "python2"
  },
  "language_info": {
   "codemirror_mode": {
    "name": "ipython",
    "version": 2
   },
   "file_extension": ".py",
   "mimetype": "text/x-python",
   "name": "python",
   "nbconvert_exporter": "python",
   "pygments_lexer": "ipython2",
   "version": "2.7.13"
  }
 },
 "nbformat": 4,
 "nbformat_minor": 1
}
