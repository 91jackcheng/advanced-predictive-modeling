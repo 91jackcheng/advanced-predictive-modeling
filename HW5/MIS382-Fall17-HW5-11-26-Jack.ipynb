{
 "cells": [
  {
   "cell_type": "markdown",
   "metadata": {},
   "source": [
    "\n",
    "# <p style=\"text-align: center;\">MIS382: Advanced Predictive Modeling</p>\n",
    "# <p style=\"text-align: center;\">Assignment 5</p>\n",
    "## <p style=\"text-align: center;\">Total points: 35</p>\n",
    "## <p style=\"text-align: center;\">Due: Monday, November 27th, submitted via Canvas by 11:59 pm</p>\n",
    "\n",
    "Your homework should be written in a **Jupyter notebook**. You may work in groups of two if you wish. Only one student per team needs to submit the assignment on Canvas.  But be sure to include name and UTID for both students.  Homework groups will be created and managed through Canvas, so please do not arbitrarily change your homework group.  \n",
    "\n",
    "Also, please make sure your code runs and the graphics (and anything else) are displayed in your notebook before submitting. (%matplotlib inline)"
   ]
  },
  {
   "cell_type": "markdown",
   "metadata": {},
   "source": [
    "# Question 1: Ensembles (1+12+2 = 15pts)\n",
    "In this question, we will compare performance of different ensemble methods: [Random Forest](http://scikit-learn.org/stable/modules/generated/sklearn.ensemble.RandomForestClassifier.html), [Gradient Boosting Decision Tree](http://scikit-learn.org/stable/modules/generated/sklearn.ensemble.GradientBoostingClassifier.html) (GBDT), and [XGBoost](http://xgboost.readthedocs.io/en/latest/).  Note that you have to install xgboost package in addition to scikit-learn.  You can see installation guides [here](http://xgboost.readthedocs.io/en/latest/build.html).\n",
    "\n",
    "\n",
    "\n",
    "\n",
    "Two  datasets are provided for this problem. For **each of the datasets ((X1.csv, y1.csv), (X2.csv, y2.csv))**, do the following:\n",
    "\n",
    "1. Load the data and partition it into features (X) and the target label (y) for classification task. Then, use [train_test_split](http://scikit-learn.org/stable/modules/generated/sklearn.model_selection.train_test_split.html) to split data into training and testing: test_size=0.33, random_state=42.\n",
    "\n",
    "2. Build a classifier using [Random Forest](http://scikit-learn.org/stable/modules/generated/sklearn.ensemble.RandomForestClassifier.html), [Gradient Boosting Decision Tree](http://scikit-learn.org/stable/modules/generated/sklearn.ensemble.GradientBoostingClassifier.html), and [XGBoost](http://xgboost.readthedocs.io/en/latest/), respectively, and answer the following for each classifier.\n",
    "\n",
    " - Mention any design choices (with reasoning/justification) that you made, e.g. the hyperparameters considered for each classifier.\n",
    " - Report the mean error rate (fraction of incorrect labels) and the confusion matrix on test data. <br>\n",
    " - Report the feature importance and time of execution (training and predicting times).\n",
    "\n",
    "3. Compare the three classifiers for the two different datasets ((X1.csv, y1.csv), (X2.csv, y2.csv)) in terms of the misclassification rate.  What are the characteristics of the dataset and the classifiers that resulted in somewhat different comparative results?"
   ]
  },
  {
   "cell_type": "code",
   "execution_count": 1,
   "metadata": {
    "collapsed": true
   },
   "outputs": [],
   "source": [
    "import os\n",
    "mingw_path = 'C:\\\\Program Files\\\\mingw-w64\\\\x86_64-7.2.0-posix-seh-rt_v5-rev1\\\\mingw64\\\\bin'\n",
    "os.environ['PATH'] = mingw_path + ';' + os.environ['PATH']"
   ]
  },
  {
   "cell_type": "code",
   "execution_count": 2,
   "metadata": {
    "ExecuteTime": {
<<<<<<< HEAD
     "end_time": "2017-11-21T16:01:16.056024Z",
     "start_time": "2017-11-21T16:01:16.038082Z"
=======
     "end_time": "2017-11-26T17:13:06.125640Z",
     "start_time": "2017-11-26T17:13:06.112996Z"
>>>>>>> ac05724c854ce4026fe98ff5fac5ecc7dc28a73f
    },
    "collapsed": true
   },
   "outputs": [],
   "source": [
    "import numpy as np\n",
    "from sklearn.ensemble import RandomForestClassifier\n",
    "from sklearn.metrics import confusion_matrix\n",
    "from sklearn.ensemble import GradientBoostingClassifier\n",
    "from sklearn.model_selection import GridSearchCV\n",
    "from xgboost.sklearn import XGBClassifier\n",
    "from time import time\n",
    "import matplotlib.pyplot as plt\n",
    "from sklearn.model_selection import train_test_split\n",
    "import warnings\n",
    "warnings.filterwarnings(\"ignore\")\n",
    "%matplotlib inline"
   ]
  },
  {
<<<<<<< HEAD
   "cell_type": "code",
   "execution_count": 72,
   "metadata": {
    "collapsed": true
   },
   "outputs": [],
   "source": []
  },
  {
=======
>>>>>>> ac05724c854ce4026fe98ff5fac5ecc7dc28a73f
   "cell_type": "markdown",
   "metadata": {},
   "source": [
    "## Solution"
   ]
  },
  {
   "cell_type": "markdown",
   "metadata": {},
   "source": [
    "# For Data 1, (X1,y1)"
   ]
  },
  {
   "cell_type": "markdown",
   "metadata": {},
   "source": [
    "## part 1"
   ]
  },
  {
   "cell_type": "code",
   "execution_count": 3,
   "metadata": {
    "ExecuteTime": {
<<<<<<< HEAD
     "end_time": "2017-11-21T16:00:36.707095Z",
     "start_time": "2017-11-21T16:00:36.702093Z"
=======
     "end_time": "2017-11-26T17:13:08.631362Z",
     "start_time": "2017-11-26T17:13:08.625222Z"
>>>>>>> ac05724c854ce4026fe98ff5fac5ecc7dc28a73f
    },
    "collapsed": true
   },
   "outputs": [],
   "source": [
    "import pandas as pd\n",
    "from sklearn.metrics import mean_squared_error\n",
    "from sklearn.metrics import confusion_matrix\n",
    "from sklearn import metrics"
   ]
  },
  {
   "cell_type": "code",
   "execution_count": 4,
   "metadata": {
    "ExecuteTime": {
<<<<<<< HEAD
     "end_time": "2017-11-21T16:00:37.565588Z",
     "start_time": "2017-11-21T16:00:37.388016Z"
=======
     "end_time": "2017-11-26T17:13:09.195086Z",
     "start_time": "2017-11-26T17:13:09.023199Z"
>>>>>>> ac05724c854ce4026fe98ff5fac5ecc7dc28a73f
    },
    "collapsed": true
   },
   "outputs": [],
   "source": [
    "# load each data set\n",
    "X1 = pd.read_csv('X1.csv')\n",
    "y1 = pd.read_csv('y1.csv')\n",
    "X2 = pd.read_csv('X2.csv')\n",
    "y2 = pd.read_csv('y2.csv')"
   ]
  },
  {
   "cell_type": "code",
   "execution_count": 5,
   "metadata": {
    "ExecuteTime": {
<<<<<<< HEAD
     "end_time": "2017-11-21T16:00:38.216943Z",
     "start_time": "2017-11-21T16:00:38.189984Z"
=======
     "end_time": "2017-11-26T17:13:10.598204Z",
     "start_time": "2017-11-26T17:13:10.564308Z"
>>>>>>> ac05724c854ce4026fe98ff5fac5ecc7dc28a73f
    },
    "collapsed": true
   },
   "outputs": [],
   "source": [
    "# split each data set into training and testing set\n",
    "X1_train, X1_test, y1_train, y1_test = train_test_split(X1, y1, test_size=0.33, random_state=42)\n",
    "X2_train, X2_test, y2_train, y2_test = train_test_split(X2, y2, test_size=0.33, random_state=42)"
   ]
  },
  {
   "cell_type": "markdown",
   "metadata": {},
   "source": [
    "## part 2"
   ]
  },
  {
   "cell_type": "code",
<<<<<<< HEAD
   "execution_count": 6,
   "metadata": {},
=======
   "execution_count": 5,
   "metadata": {
    "ExecuteTime": {
     "end_time": "2017-11-25T22:12:28.489242Z",
     "start_time": "2017-11-25T22:12:17.881924Z"
    }
   },
>>>>>>> ac05724c854ce4026fe98ff5fac5ecc7dc28a73f
   "outputs": [
    {
     "name": "stdout",
     "output_type": "stream",
     "text": [
      "(9999, 30)\n"
     ]
    },
    {
     "data": {
      "image/png": "iVBORw0KGgoAAAANSUhEUgAABIgAAANeCAYAAAB57DV/AAAABHNCSVQICAgIfAhkiAAAAAlwSFlz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\nAAAAsOL+H0hA/PESGBxoAAAAAElFTkSuQmCC\n",
      "text/plain": [
<<<<<<< HEAD
       "<matplotlib.figure.Figure at 0xc02fe48>"
=======
       "<matplotlib.figure.Figure at 0x1a160e30d0>"
>>>>>>> ac05724c854ce4026fe98ff5fac5ecc7dc28a73f
      ]
     },
     "metadata": {},
     "output_type": "display_data"
    },
    {
     "data": {
      "image/png": "iVBORw0KGgoAAAANSUhEUgAAAYEAAAEICAYAAAC55kg0AAAABHNCSVQICAgIfAhkiAAAAAlwSFlz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\nQmCC\n",
      "text/plain": [
<<<<<<< HEAD
       "<matplotlib.figure.Figure at 0x2551160>"
=======
       "<matplotlib.figure.Figure at 0x1a193fc210>"
>>>>>>> ac05724c854ce4026fe98ff5fac5ecc7dc28a73f
      ]
     },
     "metadata": {},
     "output_type": "display_data"
    }
   ],
   "source": [
    "print X1.shape3\n",
    "X1.hist(bins=50, figsize=(20,15))\n",
    "y1.hist()\n",
    "plt.show()"
   ]
  },
  {
   "cell_type": "markdown",
   "metadata": {},
   "source": [
    "In data set (X1,y1), every variable nearly perfect follows normal distribution except feature 25 is slightly different. And y value is either class 0 or class 1 and each class has similar size (around 5000 for class 0, 5000 for class 1). "
   ]
  },
  {
   "cell_type": "markdown",
   "metadata": {},
   "source": [
    "### RandomForest "
   ]
  },
  {
   "cell_type": "code",
<<<<<<< HEAD
   "execution_count": 50,
   "metadata": {
    "ExecuteTime": {
     "end_time": "2017-11-21T16:01:39.909708Z",
     "start_time": "2017-11-21T16:01:38.189159Z"
=======
   "execution_count": 6,
   "metadata": {
    "ExecuteTime": {
     "end_time": "2017-11-25T22:12:42.421783Z",
     "start_time": "2017-11-25T22:12:29.168786Z"
>>>>>>> ac05724c854ce4026fe98ff5fac5ecc7dc28a73f
    }
   },
   "outputs": [
    {
     "name": "stdout",
     "output_type": "stream",
     "text": [
<<<<<<< HEAD
      "Optimal regularization parameter for dataset 1: 20\n"
=======
      "Optimal regularization parameter: 20\n"
>>>>>>> ac05724c854ce4026fe98ff5fac5ecc7dc28a73f
     ]
    }
   ],
   "source": [
    "# train max_depth in RF\n",
    "# Compute train and test errors\n",
    "alphas = np.arange(2, 30, 1)\n",
    "RF = RandomForestClassifier(criterion='entropy', random_state=0)\n",
    "train_errors = list()\n",
    "test_errors = list()\n",
    "for alpha in alphas:\n",
    "    RF.set_params(max_depth=alpha)\n",
    "    RF.fit(X1_train, y1_train)\n",
    "    train_errors.append(RF.score(X1_train, y1_train))\n",
    "    test_errors.append(RF.score(X1_test, y1_test))\n",
    "\n",
    "i_alpha_optim = np.argmax(test_errors)\n",
    "alpha_optim = alphas[i_alpha_optim]\n",
    "print(\"Optimal regularization parameter: %s\" % alpha_optim)\n"
   ]
  },
  {
   "cell_type": "code",
<<<<<<< HEAD
   "execution_count": null,
   "metadata": {
    "ExecuteTime": {
     "end_time": "2017-11-21T16:01:24.887807Z",
     "start_time": "2017-11-21T16:01:23.091673Z"
    },
    "collapsed": true
   },
   "outputs": [],
   "source": []
  },
  {
   "cell_type": "code",
   "execution_count": 48,
   "metadata": {},
=======
   "execution_count": 7,
   "metadata": {
    "ExecuteTime": {
     "end_time": "2017-11-25T22:16:51.366691Z",
     "start_time": "2017-11-25T22:16:20.507749Z"
    }
   },
>>>>>>> ac05724c854ce4026fe98ff5fac5ecc7dc28a73f
   "outputs": [
    {
     "name": "stdout",
     "output_type": "stream",
     "text": [
      "Optimal regularization parameter : 28\n"
     ]
    }
   ],
   "source": [
    "# train max_features in RF\n",
    "# Compute train and test errors\n",
    "alphas = np.arange(2, 30, 1)\n",
    "RF = RandomForestClassifier(criterion='entropy',max_depth=20, random_state=0)\n",
    "train_errors = list()\n",
    "test_errors = list()\n",
    "for alpha in alphas:\n",
    "    RF.set_params(max_features=alpha)\n",
    "    RF.fit(X1_train, y1_train)\n",
    "    train_errors.append(RF.score(X1_train, y1_train))\n",
    "    test_errors.append(RF.score(X1_test, y1_test))\n",
    "\n",
    "i_alpha_optim = np.argmax(test_errors)\n",
    "alpha_optim = alphas[i_alpha_optim]\n",
    "print(\"Optimal regularization parameter : %s\" % alpha_optim)"
   ]
  },
  {
   "cell_type": "code",
<<<<<<< HEAD
   "execution_count": 83,
   "metadata": {},
=======
   "execution_count": 8,
   "metadata": {
    "ExecuteTime": {
     "end_time": "2017-11-25T22:16:53.730533Z",
     "start_time": "2017-11-25T22:16:51.943268Z"
    }
   },
>>>>>>> ac05724c854ce4026fe98ff5fac5ecc7dc28a73f
   "outputs": [
    {
     "name": "stdout",
     "output_type": "stream",
     "text": [
      "Training set MSE is 0.00552321241976\n",
      "Testing set MSE is 0.0863636363636\n",
      "The confusion matrix is:\n",
      "[[1567  133]\n",
      " [ 152 1448]]\n",
      "The features importance is shown as following matrix:\n",
      "[ 0.07768061  0.00983699  0.00760746  0.00797506  0.01077287  0.00749434\n",
      "  0.00895328  0.00763865  0.0074954   0.00984153  0.00907784  0.0095423\n",
      "  0.00997116  0.00872612  0.00791259  0.01044357  0.01135784  0.01024489\n",
      "  0.12784597  0.00915813  0.00777456  0.11109579  0.45477562  0.00618641\n",
      "  0.00938736  0.0084616   0.00766416  0.00882369  0.00953727  0.00671694]\n",
      "accuracy rate is  0.913636363636\n",
      "mean of error rate is  0.0863636363636\n",
<<<<<<< HEAD
      "--- time of execution is 1.93400001526 seconds ---\n"
=======
      "--- time of execution is 1.76748800278 seconds ---\n"
>>>>>>> ac05724c854ce4026fe98ff5fac5ecc7dc28a73f
     ]
    }
   ],
   "source": [
    "import time\n",
    "start_time = time.time()\n",
    "# using Random Forest \n",
    "# make criterion = 'entropy', test error changes from 0.1593 to 0.156666\n",
    "# max_depth = 2 or 3 has same best test errors, test error is still 0.156666\n",
    "# max_features = 12 improves from 0.15666 t0 0.15\n",
    "RF = RandomForestClassifier(criterion='entropy',max_depth=20, random_state=0, max_features=28)\n",
    "RF.fit(X1_train, y1_train)\n",
    "y1_predicted_train = RF.predict(X1_train)\n",
    "y1_predicted_test = RF.predict(X1_test)\n",
    "print 'Training set MSE is', mean_squared_error(y1_train, y1_predicted_train)\n",
    "print 'Testing set MSE is', mean_squared_error(y1_test, y1_predicted_test)\n",
    "print 'The confusion matrix is:\\n',confusion_matrix(y1_test,y1_predicted_test)\n",
    "print 'The features importance is shown as following matrix:\\n',RF.feature_importances_\n",
    "print 'accuracy rate is ',metrics.accuracy_score(y1_test,y1_predicted_test)\n",
    "print 'mean of error rate is ', 1-metrics.accuracy_score(y1_test,y1_predicted_test)\n",
    "print(\"--- time of execution is %s seconds ---\" % (time.time() - start_time))"
   ]
  },
  {
   "cell_type": "code",
<<<<<<< HEAD
   "execution_count": null,
   "metadata": {
    "collapsed": true
   },
   "outputs": [],
=======
   "execution_count": 9,
   "metadata": {
    "ExecuteTime": {
     "end_time": "2017-11-25T22:22:17.618975Z",
     "start_time": "2017-11-25T22:16:54.314481Z"
    }
   },
   "outputs": [
    {
     "name": "stdout",
     "output_type": "stream",
     "text": [
      "{'max_features': 30, 'criterion': 'entropy', 'max_depth': 12}\n",
      "0.910583669204\n"
     ]
    }
   ],
>>>>>>> ac05724c854ce4026fe98ff5fac5ecc7dc28a73f
   "source": [
    "# Random Forest using GridSearch method\n",
    "# Create a classifier object with the classifier and parameter candidates\n",
    "parameter_candidates = {'criterion': ('gini','entropy'), 'max_depth':np.arange(2, 30, 5), 'max_features':np.arange(10, 31, 10)}\n",
    "RF = RandomForestClassifier(random_state=0)\n",
    "RFGS = GridSearchCV(estimator= RF, param_grid=parameter_candidates,cv=10)\n",
    "\n",
    "# Train the classifier on data1's feature and target data\n",
    "RFGS.fit(X1_train, y1_train)\n",
    "print RFGS.best_params_\n",
    "print RFGS.best_score_"
   ]
  },
  {
   "cell_type": "markdown",
   "metadata": {},
   "source": [
    "### Gradient Boosting Decision Tree"
   ]
  },
  {
   "cell_type": "code",
<<<<<<< HEAD
   "execution_count": null,
   "metadata": {
    "collapsed": true
   },
   "outputs": [],
=======
   "execution_count": 10,
   "metadata": {
    "ExecuteTime": {
     "end_time": "2017-11-25T22:56:23.912451Z",
     "start_time": "2017-11-25T22:22:18.335466Z"
    }
   },
   "outputs": [
    {
     "name": "stdout",
     "output_type": "stream",
     "text": [
      "{'loss': 'exponential', 'learning_rate': 0.21544346900318834, 'max_depth': 8}\n",
      "0.926854754441\n"
     ]
    }
   ],
>>>>>>> ac05724c854ce4026fe98ff5fac5ecc7dc28a73f
   "source": [
    "# using Gradient Boosting Decision Tree\n",
    "\n",
    "parameter_candidates = {\n",
    "    'loss': ('deviance', 'exponential'),\n",
    "    'learning_rate': np.logspace(-2, 2, 4),\n",
    "    'max_depth': np.arange(2, 20, 6)\n",
    "}\n",
    "GBDT = GradientBoostingClassifier()\n",
    "GBDTGS = GridSearchCV(estimator=GBDT, param_grid=parameter_candidates, cv=10)\n",
    "\n",
    "GBDTGS.fit(X1_train, y1_train)\n",
    "print GBDTGS.best_params_\n",
    "print GBDTGS.best_score_"
   ]
  },
  {
   "cell_type": "markdown",
   "metadata": {
    "collapsed": true
   },
   "source": [
    "### XGBoost"
   ]
  },
  {
   "cell_type": "code",
<<<<<<< HEAD
   "execution_count": 22,
   "metadata": {
    "ExecuteTime": {
     "end_time": "2017-11-21T16:01:58.295977Z",
     "start_time": "2017-11-21T16:01:45.519830Z"
=======
   "execution_count": 13,
   "metadata": {
    "ExecuteTime": {
     "end_time": "2017-11-25T23:03:21.764763Z",
     "start_time": "2017-11-25T23:00:36.995168Z"
>>>>>>> ac05724c854ce4026fe98ff5fac5ecc7dc28a73f
    }
   },
   "outputs": [
    {
     "name": "stdout",
     "output_type": "stream",
     "text": [
      "Optimal regularization parameter : 14\n"
     ]
    }
   ],
   "source": [
    "# train max_depth in XGB\n",
    "# Compute train and test errors\n",
    "alphas = np.arange(2, 30, 1)\n",
<<<<<<< HEAD
    "XGB = xgb.XGBClassifier(learning_rate=0.1,random_state=0)\n",
=======
    "XGB = XGBClassifier(learning_rate=0.1,random_state=0)\n",
>>>>>>> ac05724c854ce4026fe98ff5fac5ecc7dc28a73f
    "train_errors = list()\n",
    "test_errors = list()\n",
    "for alpha in alphas:\n",
    "    XGB.set_params(max_depth=alpha)\n",
    "    XGB.fit(X1_train, y1_train)\n",
    "    train_errors.append(XGB.score(X1_train, y1_train))\n",
    "    test_errors.append(XGB.score(X1_test, y1_test))\n",
    "\n",
    "i_alpha_optim = np.argmax(test_errors)\n",
    "alpha_optim = alphas[i_alpha_optim]\n",
    "print(\"Optimal regularization parameter : %s\" % alpha_optim)"
   ]
  },
  {
   "cell_type": "code",
<<<<<<< HEAD
   "execution_count": 33,
   "metadata": {
    "ExecuteTime": {
     "end_time": "2017-11-21T16:02:30.365470Z",
     "start_time": "2017-11-21T16:01:59.517614Z"
=======
   "execution_count": 16,
   "metadata": {
    "ExecuteTime": {
     "end_time": "2017-11-26T17:16:14.400071Z",
     "start_time": "2017-11-26T17:15:29.355848Z"
>>>>>>> ac05724c854ce4026fe98ff5fac5ecc7dc28a73f
    }
   },
   "outputs": [
    {
     "name": "stdout",
     "output_type": "stream",
     "text": [
<<<<<<< HEAD
      "Optimal regularization parameter : 0.21\n"
=======
      "Optimal regularization parameter : 0.1\n"
>>>>>>> ac05724c854ce4026fe98ff5fac5ecc7dc28a73f
     ]
    }
   ],
   "source": [
    "# train learning_rate in XGB\n",
    "# Compute train and test errors\n",
<<<<<<< HEAD
    "alphas = np.arange(0, 1, 0.01)\n",
    "XGB = xgb.XGBClassifier(max_depth=14,random_state=0)\n",
=======
    "alphas = np.arange(0, 1, 0.1)\n",
    "XGB = XGBClassifier(max_depth=14,random_state=0)\n",
>>>>>>> ac05724c854ce4026fe98ff5fac5ecc7dc28a73f
    "train_errors = list()\n",
    "test_errors = list()\n",
    "for alpha in alphas:\n",
    "    XGB.set_params(learning_rate=alpha)\n",
    "    XGB.fit(X1_train, y1_train)\n",
    "    train_errors.append(XGB.score(X1_train, y1_train))\n",
    "    test_errors.append(XGB.score(X1_test, y1_test))\n",
    "\n",
    "i_alpha_optim = np.argmax(test_errors)\n",
    "alpha_optim = alphas[i_alpha_optim]\n",
    "print(\"Optimal regularization parameter : %s\" % alpha_optim)"
   ]
  },
  {
   "cell_type": "code",
<<<<<<< HEAD
   "execution_count": 34,
   "metadata": {},
=======
   "execution_count": 17,
   "metadata": {
    "ExecuteTime": {
     "end_time": "2017-11-26T17:16:56.331732Z",
     "start_time": "2017-11-26T17:16:39.333841Z"
    }
   },
>>>>>>> ac05724c854ce4026fe98ff5fac5ecc7dc28a73f
   "outputs": [
    {
     "name": "stdout",
     "output_type": "stream",
     "text": [
      "Optimal regularization parameter : gbtree\n"
     ]
    }
   ],
   "source": [
    "# train booster in XGB, default = gbtree\n",
    "alphas = ['gbtree','gblinear','dart']\n",
<<<<<<< HEAD
    "XGB = xgb.XGBClassifier(max_depth=14,learning_rate=0.21,random_state=0)\n",
=======
    "XGB = XGBClassifier(max_depth=14,learning_rate=0.1,random_state=0)\n",
>>>>>>> ac05724c854ce4026fe98ff5fac5ecc7dc28a73f
    "train_errors = list()\n",
    "test_errors = list()\n",
    "for alpha in alphas:\n",
    "    XGB.set_params(booster=alpha)\n",
    "    XGB.fit(X1_train, y1_train)\n",
    "    train_errors.append(XGB.score(X1_train, y1_train))\n",
    "    test_errors.append(XGB.score(X1_test, y1_test))\n",
    "\n",
    "i_alpha_optim = np.argmax(test_errors)\n",
    "alpha_optim = alphas[i_alpha_optim]\n",
    "print(\"Optimal regularization parameter : %s\" % alpha_optim)\n"
   ]
  },
  {
   "cell_type": "code",
<<<<<<< HEAD
   "execution_count": 36,
   "metadata": {},
=======
   "execution_count": 19,
   "metadata": {
    "ExecuteTime": {
     "end_time": "2017-11-26T17:17:32.665904Z",
     "start_time": "2017-11-26T17:17:10.206429Z"
    }
   },
>>>>>>> ac05724c854ce4026fe98ff5fac5ecc7dc28a73f
   "outputs": [
    {
     "name": "stdout",
     "output_type": "stream",
     "text": [
      "Optimal regularization parameter : binary:logitraw\n"
     ]
    }
   ],
   "source": [
    "# training objective in XGB, default is 'reg:linear'\n",
    "alphas = ['reg:linear','reg:logistic','binary:logistic','binary:logitraw']\n",
<<<<<<< HEAD
    "XGB = xgb.XGBClassifier(max_depth=14,learning_rate=0.21,booster='gbtree',random_state=0)\n",
=======
    "XGB = XGBClassifier(max_depth=14,learning_rate=0.21,booster='gbtree',random_state=0)\n",
>>>>>>> ac05724c854ce4026fe98ff5fac5ecc7dc28a73f
    "train_errors = list()\n",
    "test_errors = list()\n",
    "for alpha in alphas:\n",
    "    XGB.set_params(objective=alpha)\n",
    "    XGB.fit(X1_train, y1_train)\n",
    "    train_errors.append(XGB.score(X1_train, y1_train))\n",
    "    test_errors.append(XGB.score(X1_test, y1_test))\n",
    "\n",
    "i_alpha_optim = np.argmax(test_errors)\n",
    "alpha_optim = alphas[i_alpha_optim]\n",
    "print(\"Optimal regularization parameter : %s\" % alpha_optim)\n"
   ]
  },
  {
   "cell_type": "code",
<<<<<<< HEAD
   "execution_count": 87,
   "metadata": {},
=======
   "execution_count": 21,
   "metadata": {
    "ExecuteTime": {
     "end_time": "2017-11-26T17:18:15.218822Z",
     "start_time": "2017-11-26T17:18:09.200626Z"
    }
   },
>>>>>>> ac05724c854ce4026fe98ff5fac5ecc7dc28a73f
   "outputs": [
    {
     "name": "stdout",
     "output_type": "stream",
     "text": [
      "Training set MSE is 0.0\n",
      "Testing set MSE is 0.0730303030303\n",
      "The confusion matrix is:\n",
      "[[1572  128]\n",
      " [ 113 1487]]\n",
      "The features importance is shown as following matrix:\n",
      "[ 0.08822765  0.0262474   0.02585759  0.02468815  0.02546778  0.0252079\n",
      "  0.02455821  0.02468815  0.01910083  0.02702703  0.02468815  0.02455821\n",
      "  0.0231289   0.02066008  0.02767671  0.02845634  0.02066008  0.02481809\n",
      "  0.11044698  0.02533784  0.02273908  0.10433992  0.06847713  0.02286902\n",
      "  0.02130977  0.02715696  0.02234927  0.02247921  0.02234927  0.02442827]\n",
      "accuracy rate is 0.92696969697\n",
      "mean of error rate is  0.0730303030303\n",
<<<<<<< HEAD
      "--- time of execution is 3.69400000572 seconds ---\n"
=======
      "--- time of execution is 6.00355005264 seconds ---\n"
>>>>>>> ac05724c854ce4026fe98ff5fac5ecc7dc28a73f
     ]
    }
   ],
   "source": [
    "# final trained XGB model\n",
<<<<<<< HEAD
    "import xgboost as xgb\n",
    "start_time = time.time()\n",
    "# specify parameters via map\n",
    "XGB = xgb.XGBClassifier(max_depth=14, learning_rate=0.21,objective = 'binary:logitraw',booster='gbtree',random_state=0)\n",
=======
    "import time\n",
    "start_time = time.time()\n",
    "# specify parameters via map\n",
    "XGB = XGBClassifier(max_depth=14, learning_rate=0.21,objective = 'binary:logitraw',booster='gbtree',random_state=0)\n",
>>>>>>> ac05724c854ce4026fe98ff5fac5ecc7dc28a73f
    "XGB.fit(X1_train, y1_train)\n",
    "y1_XGBpredicted_train = XGB.predict(X1_train)\n",
    "y1_XGBpredicted_test = XGB.predict(X1_test)\n",
    "print 'Training set MSE is', mean_squared_error(y1_train, y1_XGBpredicted_train)\n",
    "print 'Testing set MSE is', mean_squared_error(y1_test, y1_XGBpredicted_test)\n",
    "print 'The confusion matrix is:\\n',confusion_matrix(y1_test,y1_XGBpredicted_test)\n",
    "print 'The features importance is shown as following matrix:\\n',XGB.feature_importances_\n",
    "print 'accuracy rate is',metrics.accuracy_score(y1_test,y1_XGBpredicted_test)\n",
    "print 'mean of error rate is ', 1-metrics.accuracy_score(y1_test,y1_XGBpredicted_test)\n",
    "print(\"--- time of execution is %s seconds ---\" % (time.time() - start_time))\n"
   ]
  },
  {
   "cell_type": "markdown",
   "metadata": {},
   "source": [
    "# Dataset 2, (X2,y2)"
   ]
  },
  {
   "cell_type": "code",
   "execution_count": 44,
   "metadata": {
    "ExecuteTime": {
     "end_time": "2017-11-21T16:21:14.401269Z",
     "start_time": "2017-11-21T16:15:38.268484Z"
    }
   },
   "outputs": [
    {
     "name": "stdout",
     "output_type": "stream",
     "text": [
      "(4999, 20)\n"
     ]
    },
    {
     "data": {
      "image/png": "iVBORw0KGgoAAAANSUhEUgAABIgAAANeCAYAAAB57DV/AAAABHNCSVQICAgIfAhkiAAAAAlwSFlz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\niCRJkiRJkjru/weJjxAmkH2LyAAAAABJRU5ErkJggg==\n",
      "text/plain": [
       "<matplotlib.figure.Figure at 0xe978470>"
      ]
     },
     "metadata": {},
     "output_type": "display_data"
    },
    {
     "data": {
      "image/png": "iVBORw0KGgoAAAANSUhEUgAAAYEAAAEICAYAAAC55kg0AAAABHNCSVQICAgIfAhkiAAAAAlwSFlz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\n1DBDQJIa9v8BzO9lpkDPErgAAAAASUVORK5CYII=\n",
      "text/plain": [
       "<matplotlib.figure.Figure at 0xf4736a0>"
      ]
     },
     "metadata": {},
     "output_type": "display_data"
    }
   ],
   "source": [
    "print X2.shape\n",
    "X2.hist(bins=50, figsize=(20,15))\n",
    "y2.hist()\n",
    "plt.show()"
   ]
  },
  {
   "cell_type": "markdown",
   "metadata": {
    "ExecuteTime": {
     "end_time": "2017-11-22T10:24:09.479645Z",
     "start_time": "2017-11-22T10:24:09.472812Z"
    }
   },
   "source": [
    "### dataset 1 (X1, y1) has shape of (9999, 30), dataset 2 (X2, y2) has shape of (4999, 20), so dataset 2 has half data size compare to dataset 1 and less features than dataset 1."
   ]
  },
  {
   "cell_type": "markdown",
   "metadata": {},
   "source": [
    "## Random Forest "
   ]
  },
  {
   "cell_type": "code",
   "execution_count": 51,
   "metadata": {
    "ExecuteTime": {
     "end_time": "2017-11-22T10:19:25.583386Z",
     "start_time": "2017-11-22T09:51:42.609013Z"
    },
    "scrolled": true
   },
   "outputs": [
    {
     "name": "stdout",
     "output_type": "stream",
     "text": [
      "Optimal regularization parameter: 13\n"
     ]
    }
   ],
   "source": [
    "# train max_depth in RF\n",
    "# Compute train and test errors\n",
    "alphas = np.arange(2, 30, 1)\n",
    "RF = RandomForestClassifier(criterion='entropy', random_state=0)\n",
    "train_errors = list()\n",
    "test_errors = list()\n",
    "for alpha in alphas:\n",
    "    RF.set_params(max_depth=alpha)\n",
    "    RF.fit(X2_train, y2_train)\n",
    "    train_errors.append(RF.score(X2_train, y2_train))\n",
    "    test_errors.append(RF.score(X2_test, y2_test))\n",
    "\n",
    "i_alpha_optim = np.argmax(test_errors)\n",
    "alpha_optim = alphas[i_alpha_optim]\n",
    "print(\"Optimal regularization parameter: %s\" % alpha_optim)\n"
   ]
  },
  {
   "cell_type": "code",
   "execution_count": 58,
   "metadata": {},
   "outputs": [
    {
     "name": "stdout",
     "output_type": "stream",
     "text": [
      "Optimal regularization parameter : 9\n"
     ]
    }
   ],
   "source": [
    "# train max_features in RF\n",
    "# Compute train and test errors\n",
    "alphas = np.arange(2, 20, 1)\n",
    "RF = RandomForestClassifier(criterion='entropy',max_depth=13, random_state=0)\n",
    "train_errors = list()\n",
    "test_errors = list()\n",
    "for alpha in alphas:\n",
    "    RF.set_params(max_features=alpha)\n",
    "    RF.fit(X2_train, y2_train)\n",
    "    train_errors.append(RF.score(X2_train, y2_train))\n",
    "    test_errors.append(RF.score(X2_test, y2_test))\n",
    "\n",
    "i_alpha_optim = np.argmax(test_errors)\n",
    "alpha_optim = alphas[i_alpha_optim]\n",
    "print(\"Optimal regularization parameter : %s\" % alpha_optim)"
   ]
  },
  {
   "cell_type": "code",
   "execution_count": 88,
   "metadata": {
    "ExecuteTime": {
     "end_time": "2017-11-22T10:24:21.034254Z",
     "start_time": "2017-11-22T10:24:21.028495Z"
    }
   },
   "outputs": [
    {
     "name": "stdout",
     "output_type": "stream",
     "text": [
      "Training set MSE is 0.00328456255599\n",
      "Testing set MSE is 0.0890909090909\n",
      "The confusion matrix is:\n",
      "[[773  81]\n",
      " [ 66 730]]\n",
      "The features importance is shown as following matrix:\n",
      "[ 0.03091194  0.01241833  0.01170855  0.06920401  0.05747528  0.05538397\n",
      "  0.03775708  0.06836894  0.03552398  0.15017183  0.03744679  0.09060482\n",
      "  0.00815038  0.07008214  0.01010798  0.06473565  0.05126177  0.01281599\n",
      "  0.09232288  0.03354768]\n",
      "accuracy rate is  0.910909090909\n",
      "mean of error rate is  0.0890909090909\n",
      "--- time of execution is 0.336999893188 seconds ---\n"
     ]
    }
   ],
   "source": [
    "# using Random Forest \n",
    "# make criterion = 'entropy', test error changes from 0.1593 to 0.156666\n",
    "# max_depth = 2 or 3 has same best test errors, test error is still 0.156666\n",
    "# max_features = 12 improves from 0.15666 t0 0.15\n",
    "start_time = time.time()\n",
    "RF = RandomForestClassifier(criterion='entropy',max_depth=13,max_features=9, random_state=0)\n",
    "RF.fit(X2_train, y2_train)\n",
    "y2_predicted_train = RF.predict(X2_train)\n",
    "y2_predicted_test = RF.predict(X2_test)\n",
    "print 'Training set MSE is', mean_squared_error(y2_train, y2_predicted_train)\n",
    "print 'Testing set MSE is', mean_squared_error(y2_test, y2_predicted_test)\n",
    "print 'The confusion matrix is:\\n',confusion_matrix(y2_test,y2_predicted_test)\n",
    "print 'The features importance is shown as following matrix:\\n',RF.feature_importances_\n",
    "print 'accuracy rate is ',metrics.accuracy_score(y2_test,y2_predicted_test)\n",
    "print 'mean of error rate is ', 1-metrics.accuracy_score(y2_test,y2_predicted_test)\n",
    "print(\"--- time of execution is %s seconds ---\" % (time.time() - start_time))"
   ]
  },
  {
   "cell_type": "markdown",
   "metadata": {},
   "source": [
    "### Gradient Boosting Decision Tree"
   ]
  },
  {
   "cell_type": "markdown",
   "metadata": {},
   "source": [
    "### XGBoost"
   ]
  },
  {
   "cell_type": "code",
   "execution_count": 67,
   "metadata": {},
   "outputs": [
    {
     "name": "stdout",
     "output_type": "stream",
     "text": [
      "Optimal regularization parameter : 7\n"
     ]
    }
   ],
   "source": [
    "# train max_depth in XGB\n",
    "# Compute train and test errors\n",
    "alphas = np.arange(2, 20, 1)\n",
    "XGB = xgb.XGBClassifier(learning_rate=0.1,random_state=0)\n",
    "train_errors = list()\n",
    "test_errors = list()\n",
    "for alpha in alphas:\n",
    "    XGB.set_params(max_depth=alpha)\n",
    "    XGB.fit(X2_train, y2_train)\n",
    "    train_errors.append(XGB.score(X2_train, y2_train))\n",
    "    test_errors.append(XGB.score(X2_test, y2_test))\n",
    "\n",
    "i_alpha_optim = np.argmax(test_errors)\n",
    "alpha_optim = alphas[i_alpha_optim]\n",
    "print(\"Optimal regularization parameter : %s\" % alpha_optim)"
   ]
  },
  {
   "cell_type": "code",
   "execution_count": 68,
   "metadata": {},
   "outputs": [
    {
     "name": "stdout",
     "output_type": "stream",
     "text": [
      "Optimal regularization parameter : 0.28\n"
     ]
    }
   ],
   "source": [
    "# train learning_rate in XGB\n",
    "# Compute train and test errors\n",
    "alphas = np.arange(0, 1, 0.01)\n",
    "XGB = xgb.XGBClassifier(max_depth=7,random_state=0)\n",
    "train_errors = list()\n",
    "test_errors = list()\n",
    "for alpha in alphas:\n",
    "    XGB.set_params(learning_rate=alpha)\n",
    "    XGB.fit(X2_train, y2_train)\n",
    "    train_errors.append(XGB.score(X2_train, y2_train))\n",
    "    test_errors.append(XGB.score(X2_test, y2_test))\n",
    "\n",
    "i_alpha_optim = np.argmax(test_errors)\n",
    "alpha_optim = alphas[i_alpha_optim]\n",
    "print(\"Optimal regularization parameter : %s\" % alpha_optim)"
   ]
  },
  {
   "cell_type": "code",
   "execution_count": 69,
   "metadata": {},
   "outputs": [
    {
     "name": "stdout",
     "output_type": "stream",
     "text": [
      "Optimal regularization parameter : gbtree\n"
     ]
    }
   ],
   "source": [
    "# train booster in XGB, default = gbtree\n",
    "alphas = ['gbtree','gblinear','dart']\n",
    "XGB = xgb.XGBClassifier(max_depth=7,learning_rate=0.28,random_state=0)\n",
    "train_errors = list()\n",
    "test_errors = list()\n",
    "for alpha in alphas:\n",
    "    XGB.set_params(booster=alpha)\n",
    "    XGB.fit(X2_train, y2_train)\n",
    "    train_errors.append(XGB.score(X2_train, y2_train))\n",
    "    test_errors.append(XGB.score(X2_test, y2_test))\n",
    "\n",
    "i_alpha_optim = np.argmax(test_errors)\n",
    "alpha_optim = alphas[i_alpha_optim]\n",
    "print(\"Optimal regularization parameter : %s\" % alpha_optim)\n"
   ]
  },
  {
   "cell_type": "code",
   "execution_count": 70,
   "metadata": {},
   "outputs": [
    {
     "name": "stdout",
     "output_type": "stream",
     "text": [
      "Optimal regularization parameter : reg:logistic\n"
     ]
    }
   ],
   "source": [
    "# training objective in XGB, default is 'reg:linear'\n",
    "alphas = ['reg:linear','reg:logistic','binary:logistic','binary:logitraw']\n",
<<<<<<< HEAD
    "XGB = xgb.XGBClassifier(max_depth=7,learning_rate=0.28,booster='gbtree',random_state=0)\n",
=======
    "XGB = XGBClassifier(max_depth=7,learning_rate=0.28,booster='gbtree',random_state=0)\n",
>>>>>>> ac05724c854ce4026fe98ff5fac5ecc7dc28a73f
    "train_errors = list()\n",
    "test_errors = list()\n",
    "for alpha in alphas:\n",
    "    XGB.set_params(objective=alpha)\n",
    "    XGB.fit(X2_train, y2_train)\n",
    "    train_errors.append(XGB.score(X2_train, y2_train))\n",
    "    test_errors.append(XGB.score(X2_test, y2_test))\n",
    "\n",
    "i_alpha_optim = np.argmax(test_errors)\n",
    "alpha_optim = alphas[i_alpha_optim]\n",
    "print(\"Optimal regularization parameter : %s\" % alpha_optim)\n"
   ]
  },
  {
   "cell_type": "code",
<<<<<<< HEAD
   "execution_count": 89,
   "metadata": {},
=======
   "execution_count": 23,
   "metadata": {
    "ExecuteTime": {
     "end_time": "2017-11-26T17:21:55.510578Z",
     "start_time": "2017-11-26T17:21:54.118689Z"
    }
   },
>>>>>>> ac05724c854ce4026fe98ff5fac5ecc7dc28a73f
   "outputs": [
    {
     "name": "stdout",
     "output_type": "stream",
     "text": [
      "Training set MSE is 0.0\n",
      "Testing set MSE is 0.06\n",
      "The confusion matrix is:\n",
      "[[792  62]\n",
      " [ 37 759]]\n",
      "The features importance is shown as following matrix:\n",
      "[ 0.04998215  0.02249197  0.01606569  0.06818993  0.06426276  0.06390575\n",
      "  0.0535523   0.06818993  0.05248126  0.05783649  0.05997858  0.0628347\n",
      "  0.02142092  0.06569082  0.01463763  0.0767583   0.06354874  0.01606569\n",
      "  0.05676544  0.04534095]\n",
      "accuracy rate is  0.94\n",
      "mean of error rate is  0.06\n",
<<<<<<< HEAD
      "--- time of execution is 0.824000120163 seconds ---\n"
=======
      "--- time of execution is 1.37825798988 seconds ---\n"
>>>>>>> ac05724c854ce4026fe98ff5fac5ecc7dc28a73f
     ]
    }
   ],
   "source": [
    "# final trained XGB model\n",
<<<<<<< HEAD
    "import xgboost as xgb\n",
    "start_time = time.time()\n",
    "# specify parameters via map\n",
    "XGB2 = xgb.XGBClassifier(max_depth=7, learning_rate=0.28,objective = 'reg:logistic',booster='gbtree',random_state=0)\n",
=======
    "start_time = time.time()\n",
    "# specify parameters via map\n",
    "XGB2 = XGBClassifier(max_depth=7, learning_rate=0.28,objective = 'reg:logistic',booster='gbtree',random_state=0)\n",
>>>>>>> ac05724c854ce4026fe98ff5fac5ecc7dc28a73f
    "XGB2.fit(X2_train, y2_train)\n",
    "y2_XGBpredicted_train = XGB2.predict(X2_train)\n",
    "y2_XGBpredicted_test = XGB2.predict(X2_test)\n",
    "print 'Training set MSE is', mean_squared_error(y2_train, y2_XGBpredicted_train)\n",
    "print 'Testing set MSE is', mean_squared_error(y2_test, y2_XGBpredicted_test)\n",
    "print 'The confusion matrix is:\\n',confusion_matrix(y2_test,y2_XGBpredicted_test)\n",
    "print 'The features importance is shown as following matrix:\\n',XGB2.feature_importances_\n",
    "print 'accuracy rate is ',metrics.accuracy_score(y2_test,y2_XGBpredicted_test)\n",
    "print 'mean of error rate is ', 1-metrics.accuracy_score(y2_test,y2_XGBpredicted_test)\n",
    "print(\"--- time of execution is %s seconds ---\" % (time.time() - start_time))"
   ]
  },
  {
<<<<<<< HEAD
   "cell_type": "code",
   "execution_count": null,
   "metadata": {
    "collapsed": true
   },
   "outputs": [],
   "source": []
  },
  {
=======
>>>>>>> ac05724c854ce4026fe98ff5fac5ecc7dc28a73f
   "cell_type": "markdown",
   "metadata": {},
   "source": [
    "# Question 2: Visualization using Bokeh (10 pts)\n",
    "\n",
    "In this problem, you'll build an interactive visualization. Bokeh is a Python interactive visualization library that targets modern web browsers for presentation. For more information on Bokeh, see http://bokeh.pydata.org/en/latest/. The problem statement is as follows:\n",
    "\n",
    "Using the \"nbasalariesfull.csv\" data set from HMK4, your goal is to build a Bokeh visualization which allows the user to explore how salary (on a log scale) varies with points per game (PSG) and age. You will create a visualization that allows the user to toggle the X axis of a scatter plot between PSG and age, with the y-axis always being log Salary. Also add the hover tool so that if the user hovers over a datapoint in the plot a window pops up that shows the player name, team, position, salary, and the current x variable (PSG or age) depending on the current tab.  Color each point according to a player's position and provide a legend for the colors. Add the ability to Zoom in/out.  Add slight horizontal jitter to a player's age.\n",
    "\n",
    "Hints: \n",
    "1. see: http://bokeh.pydata.org/en/latest/docs/user_guide/tools.html#basic-tooltips for hover and zoom tool examples.\n",
    "2. See: http://bokeh.pydata.org/en/latest/docs/reference/plotting.html. Look for the scatter API.\n",
    "3. See: http://bokeh.pydata.org/en/0.10.0/docs/user_guide/styling.html#labels. For labeling axes.\n",
    "4. See: https://bokeh.pydata.org/en/latest/docs/user_guide/categorical.html  for how to use jitter transform\n",
    "5. See: http://bokeh.pydata.org/en/latest/docs/gallery/iris.html for coloring points by category\n",
    "6. Use output_notebook() from Bokeh to output the plot to your notebook\n",
    "\n",
    "Include an image screenshot in addition to the visualization output."
   ]
  },
  {
<<<<<<< HEAD
   "cell_type": "code",
   "execution_count": 116,
   "metadata": {},
   "outputs": [],
   "source": [
    "import warnings\n",
    "warnings.filterwarnings('ignore')\n",
    "\n",
    "import pandas as pd\n",
    "import numpy as np\n",
    "from bokeh.models.widgets import Panel, Tabs\n",
    "from bokeh.models import CustomJS, ColumnDataSource, HoverTool, BoxZoomTool,PanTool\n",
    "from bokeh.models import Jitter\n",
    "from bokeh.plotting import figure, output_notebook, show\n",
    "from bokeh.models import ZoomInTool,ZoomOutTool\n",
    "from bokeh.models import Legend\n",
=======
   "cell_type": "markdown",
   "metadata": {},
   "source": [
    "## Solution"
   ]
  },
  {
   "cell_type": "code",
   "execution_count": 1,
   "metadata": {
    "ExecuteTime": {
     "end_time": "2017-11-26T17:10:21.663753Z",
     "start_time": "2017-11-26T17:10:20.562871Z"
    }
   },
   "outputs": [],
   "source": [
    "import pandas as pd\n",
    "import numpy as np\n",
    "from bokeh.models.widgets import Panel, Tabs\n",
    "from bokeh.models import CustomJS, ColumnDataSource, HoverTool, BoxZoomTool, PanTool\n",
    "from bokeh.transform import jitter\n",
    "from bokeh.plotting import figure, output_notebook, show\n",
    "from bokeh.models import ZoomInTool, ZoomOutTool\n",
    "from bokeh.models import Legend\n",
    "from bokeh.transform import factor_cmap\n",
    "from bokeh.palettes import magma\n",
    "# from bokeh.models import Select\n",
    "# from bokeh.models.widgets import Toggle, Tabs\n",
    "# from bokeh.layouts import row\n",
>>>>>>> ac05724c854ce4026fe98ff5fac5ecc7dc28a73f
    "\n",
    "data = pd.read_csv(\"nbasalariesfull.csv\")\n",
    "data[\"logsalary\"] = data.SALARY.apply(np.log)"
   ]
  },
  {
<<<<<<< HEAD
   "cell_type": "markdown",
   "metadata": {},
   "source": [
    "### 1.Missing Legend 2. what does it mean by log salary vs PSG and Age, just did log salary vs PSG"
=======
   "cell_type": "code",
   "execution_count": 2,
   "metadata": {
    "ExecuteTime": {
     "end_time": "2017-11-26T17:10:22.531624Z",
     "start_time": "2017-11-26T17:10:22.514454Z"
    },
    "code_folding": [],
    "collapsed": true
   },
   "outputs": [],
   "source": [
    "PSG = data[\"PSG\"]\n",
    "Age = data['Age']\n",
    "y = data[\"logsalary\"]\n",
    "team = data['Tm']\n",
    "salary = data['SALARY']\n",
    "positions = data['Pos']\n",
    "players = data['Player']\n",
    "\n",
    "source = ColumnDataSource(data=dict(\n",
    "    PSG=PSG,\n",
    "    Age=Age,\n",
    "    y=y,\n",
    "    team=team,\n",
    "    salary=salary,\n",
    "    positions=positions,\n",
    "    players=players))"
>>>>>>> ac05724c854ce4026fe98ff5fac5ecc7dc28a73f
   ]
  },
  {
   "cell_type": "code",
<<<<<<< HEAD
   "execution_count": 141,
   "metadata": {},
=======
   "execution_count": 3,
   "metadata": {
    "ExecuteTime": {
     "end_time": "2017-11-26T17:10:23.826163Z",
     "start_time": "2017-11-26T17:10:23.475015Z"
    }
   },
>>>>>>> ac05724c854ce4026fe98ff5fac5ecc7dc28a73f
   "outputs": [
    {
     "data": {
      "text/html": [
       "\n",
       "    <div class=\"bk-root\">\n",
<<<<<<< HEAD
       "        <a href=\"http://bokeh.pydata.org\" target=\"_blank\" class=\"bk-logo bk-logo-small bk-logo-notebook\"></a>\n",
       "        <span id=\"d066f5b8-f009-4270-9b38-e883031f07f3\">Loading BokehJS ...</span>\n",
=======
       "        <a href=\"https://bokeh.pydata.org\" target=\"_blank\" class=\"bk-logo bk-logo-small bk-logo-notebook\"></a>\n",
       "        <span id=\"dcb362ad-495d-4dec-bd39-a421850b92da\">Loading BokehJS ...</span>\n",
>>>>>>> ac05724c854ce4026fe98ff5fac5ecc7dc28a73f
       "    </div>"
      ]
     },
     "metadata": {},
     "output_type": "display_data"
    },
    {
     "data": {
      "application/javascript": [
       "\n",
<<<<<<< HEAD
       "(function(global) {\n",
=======
       "(function(root) {\n",
>>>>>>> ac05724c854ce4026fe98ff5fac5ecc7dc28a73f
       "  function now() {\n",
       "    return new Date();\n",
       "  }\n",
       "\n",
       "  var force = true;\n",
       "\n",
<<<<<<< HEAD
       "  if (typeof (window._bokeh_onload_callbacks) === \"undefined\" || force === true) {\n",
       "    window._bokeh_onload_callbacks = [];\n",
       "    window._bokeh_is_loading = undefined;\n",
       "  }\n",
       "\n",
       "\n",
       "  \n",
       "  if (typeof (window._bokeh_timeout) === \"undefined\" || force === true) {\n",
       "    window._bokeh_timeout = Date.now() + 5000;\n",
       "    window._bokeh_failed_load = false;\n",
=======
       "  if (typeof (root._bokeh_onload_callbacks) === \"undefined\" || force === true) {\n",
       "    root._bokeh_onload_callbacks = [];\n",
       "    root._bokeh_is_loading = undefined;\n",
       "  }\n",
       "\n",
       "  var JS_MIME_TYPE = 'application/javascript';\n",
       "  var HTML_MIME_TYPE = 'text/html';\n",
       "  var EXEC_MIME_TYPE = 'application/vnd.bokehjs_exec.v0+json';\n",
       "  var CLASS_NAME = 'output_bokeh rendered_html';\n",
       "\n",
       "  /**\n",
       "   * Render data to the DOM node\n",
       "   */\n",
       "  function render(props, node) {\n",
       "    var script = document.createElement(\"script\");\n",
       "    node.appendChild(script);\n",
       "  }\n",
       "\n",
       "  /**\n",
       "   * Handle when an output is cleared or removed\n",
       "   */\n",
       "  function handleClearOutput(event, handle) {\n",
       "    var cell = handle.cell;\n",
       "\n",
       "    var id = cell.output_area._bokeh_element_id;\n",
       "    var server_id = cell.output_area._bokeh_server_id;\n",
       "    // Clean up Bokeh references\n",
       "    if (id !== undefined) {\n",
       "      Bokeh.index[id].model.document.clear();\n",
       "      delete Bokeh.index[id];\n",
       "    }\n",
       "\n",
       "    if (server_id !== undefined) {\n",
       "      // Clean up Bokeh references\n",
       "      var cmd = \"from bokeh.io.state import curstate; print(curstate().uuid_to_server['\" + server_id + \"'].get_sessions()[0].document.roots[0]._id)\";\n",
       "      cell.notebook.kernel.execute(cmd, {\n",
       "        iopub: {\n",
       "          output: function(msg) {\n",
       "            var element_id = msg.content.text.trim();\n",
       "            Bokeh.index[element_id].model.document.clear();\n",
       "            delete Bokeh.index[element_id];\n",
       "          }\n",
       "        }\n",
       "      });\n",
       "      // Destroy server and session\n",
       "      var cmd = \"import bokeh.io.notebook as ion; ion.destroy_server('\" + server_id + \"')\";\n",
       "      cell.notebook.kernel.execute(cmd);\n",
       "    }\n",
       "  }\n",
       "\n",
       "  /**\n",
       "   * Handle when a new output is added\n",
       "   */\n",
       "  function handleAddOutput(event, handle) {\n",
       "    var output_area = handle.output_area;\n",
       "    var output = handle.output;\n",
       "\n",
       "    // limit handleAddOutput to display_data with EXEC_MIME_TYPE content only\n",
       "    if ((output.output_type != \"display_data\") || (!output.data.hasOwnProperty(EXEC_MIME_TYPE))) {\n",
       "      return\n",
       "    }\n",
       "\n",
       "    var toinsert = output_area.element.find(`.${CLASS_NAME.split(' ')[0]}`);\n",
       "\n",
       "    if (output.metadata[EXEC_MIME_TYPE][\"id\"] !== undefined) {\n",
       "      toinsert[0].firstChild.textContent = output.data[JS_MIME_TYPE];\n",
       "      // store reference to embed id on output_area\n",
       "      output_area._bokeh_element_id = output.metadata[EXEC_MIME_TYPE][\"id\"];\n",
       "    }\n",
       "    if (output.metadata[EXEC_MIME_TYPE][\"server_id\"] !== undefined) {\n",
       "      var bk_div = document.createElement(\"div\");\n",
       "      bk_div.innerHTML = output.data[HTML_MIME_TYPE];\n",
       "      var script_attrs = bk_div.children[0].attributes;\n",
       "      for (var i = 0; i < script_attrs.length; i++) {\n",
       "        toinsert[0].firstChild.setAttribute(script_attrs[i].name, script_attrs[i].value);\n",
       "      }\n",
       "      // store reference to server id on output_area\n",
       "      output_area._bokeh_server_id = output.metadata[EXEC_MIME_TYPE][\"server_id\"];\n",
       "    }\n",
       "  }\n",
       "\n",
       "  function register_renderer(events, OutputArea) {\n",
       "\n",
       "    function append_mime(data, metadata, element) {\n",
       "      // create a DOM node to render to\n",
       "      var toinsert = this.create_output_subarea(\n",
       "        metadata,\n",
       "        CLASS_NAME,\n",
       "        EXEC_MIME_TYPE\n",
       "      );\n",
       "      this.keyboard_manager.register_events(toinsert);\n",
       "      // Render to node\n",
       "      var props = {data: data, metadata: metadata[EXEC_MIME_TYPE]};\n",
       "      render(props, toinsert[0]);\n",
       "      element.append(toinsert);\n",
       "      return toinsert\n",
       "    }\n",
       "\n",
       "    /* Handle when an output is cleared or removed */\n",
       "    events.on('clear_output.CodeCell', handleClearOutput);\n",
       "    events.on('delete.Cell', handleClearOutput);\n",
       "\n",
       "    /* Handle when a new output is added */\n",
       "    events.on('output_added.OutputArea', handleAddOutput);\n",
       "\n",
       "    /**\n",
       "     * Register the mime type and append_mime function with output_area\n",
       "     */\n",
       "    OutputArea.prototype.register_mime_type(EXEC_MIME_TYPE, append_mime, {\n",
       "      /* Is output safe? */\n",
       "      safe: true,\n",
       "      /* Index of renderer in `output_area.display_order` */\n",
       "      index: 0\n",
       "    });\n",
       "  }\n",
       "\n",
       "  // register the mime type if in Jupyter Notebook environment and previously unregistered\n",
       "  if (root.Jupyter !== undefined) {\n",
       "    var events = require('base/js/events');\n",
       "    var OutputArea = require('notebook/js/outputarea').OutputArea;\n",
       "\n",
       "    if (OutputArea.prototype.mime_types().indexOf(EXEC_MIME_TYPE) == -1) {\n",
       "      register_renderer(events, OutputArea);\n",
       "    }\n",
       "  }\n",
       "\n",
       "  \n",
       "  if (typeof (root._bokeh_timeout) === \"undefined\" || force === true) {\n",
       "    root._bokeh_timeout = Date.now() + 5000;\n",
       "    root._bokeh_failed_load = false;\n",
>>>>>>> ac05724c854ce4026fe98ff5fac5ecc7dc28a73f
       "  }\n",
       "\n",
       "  var NB_LOAD_WARNING = {'data': {'text/html':\n",
       "     \"<div style='background-color: #fdd'>\\n\"+\n",
       "     \"<p>\\n\"+\n",
       "     \"BokehJS does not appear to have successfully loaded. If loading BokehJS from CDN, this \\n\"+\n",
       "     \"may be due to a slow or bad network connection. Possible fixes:\\n\"+\n",
       "     \"</p>\\n\"+\n",
       "     \"<ul>\\n\"+\n",
       "     \"<li>re-rerun `output_notebook()` to attempt to load from CDN again, or</li>\\n\"+\n",
       "     \"<li>use INLINE resources instead, as so:</li>\\n\"+\n",
       "     \"</ul>\\n\"+\n",
       "     \"<code>\\n\"+\n",
       "     \"from bokeh.resources import INLINE\\n\"+\n",
       "     \"output_notebook(resources=INLINE)\\n\"+\n",
       "     \"</code>\\n\"+\n",
       "     \"</div>\"}};\n",
       "\n",
       "  function display_loaded() {\n",
<<<<<<< HEAD
       "    if (window.Bokeh !== undefined) {\n",
       "      var el = document.getElementById(\"d066f5b8-f009-4270-9b38-e883031f07f3\");\n",
       "      el.textContent = \"BokehJS \" + Bokeh.version + \" successfully loaded.\";\n",
       "    } else if (Date.now() < window._bokeh_timeout) {\n",
=======
       "    var el = document.getElementById(\"dcb362ad-495d-4dec-bd39-a421850b92da\");\n",
       "    if (el != null) {\n",
       "      el.textContent = \"BokehJS is loading...\";\n",
       "    }\n",
       "    if (root.Bokeh !== undefined) {\n",
       "      if (el != null) {\n",
       "        el.textContent = \"BokehJS \" + root.Bokeh.version + \" successfully loaded.\";\n",
       "      }\n",
       "    } else if (Date.now() < root._bokeh_timeout) {\n",
>>>>>>> ac05724c854ce4026fe98ff5fac5ecc7dc28a73f
       "      setTimeout(display_loaded, 100)\n",
       "    }\n",
       "  }\n",
       "\n",
<<<<<<< HEAD
       "  function run_callbacks() {\n",
       "    window._bokeh_onload_callbacks.forEach(function(callback) { callback() });\n",
       "    delete window._bokeh_onload_callbacks\n",
=======
       "\n",
       "  function run_callbacks() {\n",
       "    try {\n",
       "      root._bokeh_onload_callbacks.forEach(function(callback) { callback() });\n",
       "    }\n",
       "    finally {\n",
       "      delete root._bokeh_onload_callbacks\n",
       "    }\n",
>>>>>>> ac05724c854ce4026fe98ff5fac5ecc7dc28a73f
       "    console.info(\"Bokeh: all callbacks have finished\");\n",
       "  }\n",
       "\n",
       "  function load_libs(js_urls, callback) {\n",
<<<<<<< HEAD
       "    window._bokeh_onload_callbacks.push(callback);\n",
       "    if (window._bokeh_is_loading > 0) {\n",
=======
       "    root._bokeh_onload_callbacks.push(callback);\n",
       "    if (root._bokeh_is_loading > 0) {\n",
>>>>>>> ac05724c854ce4026fe98ff5fac5ecc7dc28a73f
       "      console.log(\"Bokeh: BokehJS is being loaded, scheduling callback at\", now());\n",
       "      return null;\n",
       "    }\n",
       "    if (js_urls == null || js_urls.length === 0) {\n",
       "      run_callbacks();\n",
       "      return null;\n",
       "    }\n",
       "    console.log(\"Bokeh: BokehJS not loaded, scheduling load and callback at\", now());\n",
<<<<<<< HEAD
       "    window._bokeh_is_loading = js_urls.length;\n",
=======
       "    root._bokeh_is_loading = js_urls.length;\n",
>>>>>>> ac05724c854ce4026fe98ff5fac5ecc7dc28a73f
       "    for (var i = 0; i < js_urls.length; i++) {\n",
       "      var url = js_urls[i];\n",
       "      var s = document.createElement('script');\n",
       "      s.src = url;\n",
       "      s.async = false;\n",
       "      s.onreadystatechange = s.onload = function() {\n",
<<<<<<< HEAD
       "        window._bokeh_is_loading--;\n",
       "        if (window._bokeh_is_loading === 0) {\n",
=======
       "        root._bokeh_is_loading--;\n",
       "        if (root._bokeh_is_loading === 0) {\n",
>>>>>>> ac05724c854ce4026fe98ff5fac5ecc7dc28a73f
       "          console.log(\"Bokeh: all BokehJS libraries loaded\");\n",
       "          run_callbacks()\n",
       "        }\n",
       "      };\n",
       "      s.onerror = function() {\n",
       "        console.warn(\"failed to load library \" + url);\n",
       "      };\n",
       "      console.log(\"Bokeh: injecting script tag for BokehJS library: \", url);\n",
       "      document.getElementsByTagName(\"head\")[0].appendChild(s);\n",
       "    }\n",
<<<<<<< HEAD
       "  };var element = document.getElementById(\"d066f5b8-f009-4270-9b38-e883031f07f3\");\n",
       "  if (element == null) {\n",
       "    console.log(\"Bokeh: ERROR: autoload.js configured with elementid 'd066f5b8-f009-4270-9b38-e883031f07f3' but no matching script tag was found. \")\n",
       "    return false;\n",
       "  }\n",
       "\n",
       "  var js_urls = [\"https://cdn.pydata.org/bokeh/release/bokeh-0.12.5.min.js\", \"https://cdn.pydata.org/bokeh/release/bokeh-widgets-0.12.5.min.js\"];\n",
=======
       "  };var element = document.getElementById(\"dcb362ad-495d-4dec-bd39-a421850b92da\");\n",
       "  if (element == null) {\n",
       "    console.log(\"Bokeh: ERROR: autoload.js configured with elementid 'dcb362ad-495d-4dec-bd39-a421850b92da' but no matching script tag was found. \")\n",
       "    return false;\n",
       "  }\n",
       "\n",
       "  var js_urls = [\"https://cdn.pydata.org/bokeh/release/bokeh-0.12.10.min.js\", \"https://cdn.pydata.org/bokeh/release/bokeh-widgets-0.12.10.min.js\", \"https://cdn.pydata.org/bokeh/release/bokeh-tables-0.12.10.min.js\", \"https://cdn.pydata.org/bokeh/release/bokeh-gl-0.12.10.min.js\"];\n",
>>>>>>> ac05724c854ce4026fe98ff5fac5ecc7dc28a73f
       "\n",
       "  var inline_js = [\n",
       "    function(Bokeh) {\n",
       "      Bokeh.set_log_level(\"info\");\n",
       "    },\n",
       "    \n",
       "    function(Bokeh) {\n",
       "      \n",
       "    },\n",
<<<<<<< HEAD
       "    \n",
       "    function(Bokeh) {\n",
       "      \n",
       "      document.getElementById(\"d066f5b8-f009-4270-9b38-e883031f07f3\").textContent = \"BokehJS is loading...\";\n",
       "    },\n",
       "    function(Bokeh) {\n",
       "      console.log(\"Bokeh: injecting CSS: https://cdn.pydata.org/bokeh/release/bokeh-0.12.5.min.css\");\n",
       "      Bokeh.embed.inject_css(\"https://cdn.pydata.org/bokeh/release/bokeh-0.12.5.min.css\");\n",
       "      console.log(\"Bokeh: injecting CSS: https://cdn.pydata.org/bokeh/release/bokeh-widgets-0.12.5.min.css\");\n",
       "      Bokeh.embed.inject_css(\"https://cdn.pydata.org/bokeh/release/bokeh-widgets-0.12.5.min.css\");\n",
=======
       "    function(Bokeh) {\n",
       "      console.log(\"Bokeh: injecting CSS: https://cdn.pydata.org/bokeh/release/bokeh-0.12.10.min.css\");\n",
       "      Bokeh.embed.inject_css(\"https://cdn.pydata.org/bokeh/release/bokeh-0.12.10.min.css\");\n",
       "      console.log(\"Bokeh: injecting CSS: https://cdn.pydata.org/bokeh/release/bokeh-widgets-0.12.10.min.css\");\n",
       "      Bokeh.embed.inject_css(\"https://cdn.pydata.org/bokeh/release/bokeh-widgets-0.12.10.min.css\");\n",
       "      console.log(\"Bokeh: injecting CSS: https://cdn.pydata.org/bokeh/release/bokeh-tables-0.12.10.min.css\");\n",
       "      Bokeh.embed.inject_css(\"https://cdn.pydata.org/bokeh/release/bokeh-tables-0.12.10.min.css\");\n",
>>>>>>> ac05724c854ce4026fe98ff5fac5ecc7dc28a73f
       "    }\n",
       "  ];\n",
       "\n",
       "  function run_inline_js() {\n",
       "    \n",
<<<<<<< HEAD
       "    if ((window.Bokeh !== undefined) || (force === true)) {\n",
       "      for (var i = 0; i < inline_js.length; i++) {\n",
       "        inline_js[i](window.Bokeh);\n",
       "      }if (force === true) {\n",
       "        display_loaded();\n",
       "      }} else if (Date.now() < window._bokeh_timeout) {\n",
       "      setTimeout(run_inline_js, 100);\n",
       "    } else if (!window._bokeh_failed_load) {\n",
       "      console.log(\"Bokeh: BokehJS failed to load within specified timeout.\");\n",
       "      window._bokeh_failed_load = true;\n",
       "    } else if (force !== true) {\n",
       "      var cell = $(document.getElementById(\"d066f5b8-f009-4270-9b38-e883031f07f3\")).parents('.cell').data().cell;\n",
=======
       "    if ((root.Bokeh !== undefined) || (force === true)) {\n",
       "      for (var i = 0; i < inline_js.length; i++) {\n",
       "        inline_js[i].call(root, root.Bokeh);\n",
       "      }if (force === true) {\n",
       "        display_loaded();\n",
       "      }} else if (Date.now() < root._bokeh_timeout) {\n",
       "      setTimeout(run_inline_js, 100);\n",
       "    } else if (!root._bokeh_failed_load) {\n",
       "      console.log(\"Bokeh: BokehJS failed to load within specified timeout.\");\n",
       "      root._bokeh_failed_load = true;\n",
       "    } else if (force !== true) {\n",
       "      var cell = $(document.getElementById(\"dcb362ad-495d-4dec-bd39-a421850b92da\")).parents('.cell').data().cell;\n",
>>>>>>> ac05724c854ce4026fe98ff5fac5ecc7dc28a73f
       "      cell.output_area.append_execute_result(NB_LOAD_WARNING)\n",
       "    }\n",
       "\n",
       "  }\n",
       "\n",
<<<<<<< HEAD
       "  if (window._bokeh_is_loading === 0) {\n",
=======
       "  if (root._bokeh_is_loading === 0) {\n",
>>>>>>> ac05724c854ce4026fe98ff5fac5ecc7dc28a73f
       "    console.log(\"Bokeh: BokehJS loaded, going straight to plotting\");\n",
       "    run_inline_js();\n",
       "  } else {\n",
       "    load_libs(js_urls, function() {\n",
       "      console.log(\"Bokeh: BokehJS plotting callback run at\", now());\n",
       "      run_inline_js();\n",
       "    });\n",
       "  }\n",
<<<<<<< HEAD
       "}(this));"
      ]
=======
       "}(window));"
      ],
      "application/vnd.bokehjs_load.v0+json": "\n(function(root) {\n  function now() {\n    return new Date();\n  }\n\n  var force = true;\n\n  if (typeof (root._bokeh_onload_callbacks) === \"undefined\" || force === true) {\n    root._bokeh_onload_callbacks = [];\n    root._bokeh_is_loading = undefined;\n  }\n\n  \n\n  \n  if (typeof (root._bokeh_timeout) === \"undefined\" || force === true) {\n    root._bokeh_timeout = Date.now() + 5000;\n    root._bokeh_failed_load = false;\n  }\n\n  var NB_LOAD_WARNING = {'data': {'text/html':\n     \"<div style='background-color: #fdd'>\\n\"+\n     \"<p>\\n\"+\n     \"BokehJS does not appear to have successfully loaded. If loading BokehJS from CDN, this \\n\"+\n     \"may be due to a slow or bad network connection. Possible fixes:\\n\"+\n     \"</p>\\n\"+\n     \"<ul>\\n\"+\n     \"<li>re-rerun `output_notebook()` to attempt to load from CDN again, or</li>\\n\"+\n     \"<li>use INLINE resources instead, as so:</li>\\n\"+\n     \"</ul>\\n\"+\n     \"<code>\\n\"+\n     \"from bokeh.resources import INLINE\\n\"+\n     \"output_notebook(resources=INLINE)\\n\"+\n     \"</code>\\n\"+\n     \"</div>\"}};\n\n  function display_loaded() {\n    var el = document.getElementById(\"dcb362ad-495d-4dec-bd39-a421850b92da\");\n    if (el != null) {\n      el.textContent = \"BokehJS is loading...\";\n    }\n    if (root.Bokeh !== undefined) {\n      if (el != null) {\n        el.textContent = \"BokehJS \" + root.Bokeh.version + \" successfully loaded.\";\n      }\n    } else if (Date.now() < root._bokeh_timeout) {\n      setTimeout(display_loaded, 100)\n    }\n  }\n\n\n  function run_callbacks() {\n    try {\n      root._bokeh_onload_callbacks.forEach(function(callback) { callback() });\n    }\n    finally {\n      delete root._bokeh_onload_callbacks\n    }\n    console.info(\"Bokeh: all callbacks have finished\");\n  }\n\n  function load_libs(js_urls, callback) {\n    root._bokeh_onload_callbacks.push(callback);\n    if (root._bokeh_is_loading > 0) {\n      console.log(\"Bokeh: BokehJS is being loaded, scheduling callback at\", now());\n      return null;\n    }\n    if (js_urls == null || js_urls.length === 0) {\n      run_callbacks();\n      return null;\n    }\n    console.log(\"Bokeh: BokehJS not loaded, scheduling load and callback at\", now());\n    root._bokeh_is_loading = js_urls.length;\n    for (var i = 0; i < js_urls.length; i++) {\n      var url = js_urls[i];\n      var s = document.createElement('script');\n      s.src = url;\n      s.async = false;\n      s.onreadystatechange = s.onload = function() {\n        root._bokeh_is_loading--;\n        if (root._bokeh_is_loading === 0) {\n          console.log(\"Bokeh: all BokehJS libraries loaded\");\n          run_callbacks()\n        }\n      };\n      s.onerror = function() {\n        console.warn(\"failed to load library \" + url);\n      };\n      console.log(\"Bokeh: injecting script tag for BokehJS library: \", url);\n      document.getElementsByTagName(\"head\")[0].appendChild(s);\n    }\n  };var element = document.getElementById(\"dcb362ad-495d-4dec-bd39-a421850b92da\");\n  if (element == null) {\n    console.log(\"Bokeh: ERROR: autoload.js configured with elementid 'dcb362ad-495d-4dec-bd39-a421850b92da' but no matching script tag was found. \")\n    return false;\n  }\n\n  var js_urls = [\"https://cdn.pydata.org/bokeh/release/bokeh-0.12.10.min.js\", \"https://cdn.pydata.org/bokeh/release/bokeh-widgets-0.12.10.min.js\", \"https://cdn.pydata.org/bokeh/release/bokeh-tables-0.12.10.min.js\", \"https://cdn.pydata.org/bokeh/release/bokeh-gl-0.12.10.min.js\"];\n\n  var inline_js = [\n    function(Bokeh) {\n      Bokeh.set_log_level(\"info\");\n    },\n    \n    function(Bokeh) {\n      \n    },\n    function(Bokeh) {\n      console.log(\"Bokeh: injecting CSS: https://cdn.pydata.org/bokeh/release/bokeh-0.12.10.min.css\");\n      Bokeh.embed.inject_css(\"https://cdn.pydata.org/bokeh/release/bokeh-0.12.10.min.css\");\n      console.log(\"Bokeh: injecting CSS: https://cdn.pydata.org/bokeh/release/bokeh-widgets-0.12.10.min.css\");\n      Bokeh.embed.inject_css(\"https://cdn.pydata.org/bokeh/release/bokeh-widgets-0.12.10.min.css\");\n      console.log(\"Bokeh: injecting CSS: https://cdn.pydata.org/bokeh/release/bokeh-tables-0.12.10.min.css\");\n      Bokeh.embed.inject_css(\"https://cdn.pydata.org/bokeh/release/bokeh-tables-0.12.10.min.css\");\n    }\n  ];\n\n  function run_inline_js() {\n    \n    if ((root.Bokeh !== undefined) || (force === true)) {\n      for (var i = 0; i < inline_js.length; i++) {\n        inline_js[i].call(root, root.Bokeh);\n      }if (force === true) {\n        display_loaded();\n      }} else if (Date.now() < root._bokeh_timeout) {\n      setTimeout(run_inline_js, 100);\n    } else if (!root._bokeh_failed_load) {\n      console.log(\"Bokeh: BokehJS failed to load within specified timeout.\");\n      root._bokeh_failed_load = true;\n    } else if (force !== true) {\n      var cell = $(document.getElementById(\"dcb362ad-495d-4dec-bd39-a421850b92da\")).parents('.cell').data().cell;\n      cell.output_area.append_execute_result(NB_LOAD_WARNING)\n    }\n\n  }\n\n  if (root._bokeh_is_loading === 0) {\n    console.log(\"Bokeh: BokehJS loaded, going straight to plotting\");\n    run_inline_js();\n  } else {\n    load_libs(js_urls, function() {\n      console.log(\"Bokeh: BokehJS plotting callback run at\", now());\n      run_inline_js();\n    });\n  }\n}(window));"
>>>>>>> ac05724c854ce4026fe98ff5fac5ecc7dc28a73f
     },
     "metadata": {},
     "output_type": "display_data"
    },
    {
     "data": {
      "text/html": [
       "\n",
<<<<<<< HEAD
       "\n",
       "    <div class=\"bk-root\">\n",
       "        <div class=\"bk-plotdiv\" id=\"b226fdec-f6ba-43c9-81b1-5fad2ca77d96\"></div>\n",
       "    </div>\n",
       "<script type=\"text/javascript\">\n",
       "  \n",
       "  (function(global) {\n",
       "    function now() {\n",
       "      return new Date();\n",
       "    }\n",
       "  \n",
       "    var force = false;\n",
       "  \n",
       "    if (typeof (window._bokeh_onload_callbacks) === \"undefined\" || force === true) {\n",
       "      window._bokeh_onload_callbacks = [];\n",
       "      window._bokeh_is_loading = undefined;\n",
       "    }\n",
       "  \n",
       "  \n",
       "    \n",
       "    if (typeof (window._bokeh_timeout) === \"undefined\" || force === true) {\n",
       "      window._bokeh_timeout = Date.now() + 0;\n",
       "      window._bokeh_failed_load = false;\n",
       "    }\n",
       "  \n",
       "    var NB_LOAD_WARNING = {'data': {'text/html':\n",
       "       \"<div style='background-color: #fdd'>\\n\"+\n",
       "       \"<p>\\n\"+\n",
       "       \"BokehJS does not appear to have successfully loaded. If loading BokehJS from CDN, this \\n\"+\n",
       "       \"may be due to a slow or bad network connection. Possible fixes:\\n\"+\n",
       "       \"</p>\\n\"+\n",
       "       \"<ul>\\n\"+\n",
       "       \"<li>re-rerun `output_notebook()` to attempt to load from CDN again, or</li>\\n\"+\n",
       "       \"<li>use INLINE resources instead, as so:</li>\\n\"+\n",
       "       \"</ul>\\n\"+\n",
       "       \"<code>\\n\"+\n",
       "       \"from bokeh.resources import INLINE\\n\"+\n",
       "       \"output_notebook(resources=INLINE)\\n\"+\n",
       "       \"</code>\\n\"+\n",
       "       \"</div>\"}};\n",
       "  \n",
       "    function display_loaded() {\n",
       "      if (window.Bokeh !== undefined) {\n",
       "        var el = document.getElementById(\"b226fdec-f6ba-43c9-81b1-5fad2ca77d96\");\n",
       "        el.textContent = \"BokehJS \" + Bokeh.version + \" successfully loaded.\";\n",
       "      } else if (Date.now() < window._bokeh_timeout) {\n",
       "        setTimeout(display_loaded, 100)\n",
       "      }\n",
       "    }\n",
       "  \n",
       "    function run_callbacks() {\n",
       "      window._bokeh_onload_callbacks.forEach(function(callback) { callback() });\n",
       "      delete window._bokeh_onload_callbacks\n",
       "      console.info(\"Bokeh: all callbacks have finished\");\n",
       "    }\n",
       "  \n",
       "    function load_libs(js_urls, callback) {\n",
       "      window._bokeh_onload_callbacks.push(callback);\n",
       "      if (window._bokeh_is_loading > 0) {\n",
       "        console.log(\"Bokeh: BokehJS is being loaded, scheduling callback at\", now());\n",
       "        return null;\n",
       "      }\n",
       "      if (js_urls == null || js_urls.length === 0) {\n",
       "        run_callbacks();\n",
       "        return null;\n",
       "      }\n",
       "      console.log(\"Bokeh: BokehJS not loaded, scheduling load and callback at\", now());\n",
       "      window._bokeh_is_loading = js_urls.length;\n",
       "      for (var i = 0; i < js_urls.length; i++) {\n",
       "        var url = js_urls[i];\n",
       "        var s = document.createElement('script');\n",
       "        s.src = url;\n",
       "        s.async = false;\n",
       "        s.onreadystatechange = s.onload = function() {\n",
       "          window._bokeh_is_loading--;\n",
       "          if (window._bokeh_is_loading === 0) {\n",
       "            console.log(\"Bokeh: all BokehJS libraries loaded\");\n",
       "            run_callbacks()\n",
       "          }\n",
       "        };\n",
       "        s.onerror = function() {\n",
       "          console.warn(\"failed to load library \" + url);\n",
       "        };\n",
       "        console.log(\"Bokeh: injecting script tag for BokehJS library: \", url);\n",
       "        document.getElementsByTagName(\"head\")[0].appendChild(s);\n",
       "      }\n",
       "    };var element = document.getElementById(\"b226fdec-f6ba-43c9-81b1-5fad2ca77d96\");\n",
       "    if (element == null) {\n",
       "      console.log(\"Bokeh: ERROR: autoload.js configured with elementid 'b226fdec-f6ba-43c9-81b1-5fad2ca77d96' but no matching script tag was found. \")\n",
       "      return false;\n",
       "    }\n",
       "  \n",
       "    var js_urls = [];\n",
       "  \n",
       "    var inline_js = [\n",
       "      function(Bokeh) {\n",
       "        (function() {\n",
       "          var fn = function() {\n",
       "            var docs_json = {\"b6f33b30-cad5-480b-bf89-40f31ab3c387\":{\"roots\":{\"references\":[{\"attributes\":{\"callback\":null},\"id\":\"944460e6-2b0b-409b-9236-694c5374feeb\",\"type\":\"DataRange1d\"},{\"attributes\":{\"axis_label\":\"log salary\",\"formatter\":{\"id\":\"de7e6b04-e49a-44d3-bc0c-6bcb2820d82f\",\"type\":\"BasicTickFormatter\"},\"plot\":{\"id\":\"cd91a1e3-4e89-4775-9b10-282804b01949\",\"subtype\":\"Figure\",\"type\":\"Plot\"},\"ticker\":{\"id\":\"d1b2c77a-f882-4b09-a794-3324ef225199\",\"type\":\"BasicTicker\"}},\"id\":\"ecc55c18-50c6-4406-bca4-113cf1970b27\",\"type\":\"LinearAxis\"},{\"attributes\":{\"fill_color\":{\"field\":\"fill_color\"},\"line_color\":{\"field\":\"line_color\"},\"size\":{\"units\":\"screen\",\"value\":8},\"x\":{\"field\":\"x\"},\"y\":{\"field\":\"age\",\"transform\":{\"id\":\"2756e654-4f23-405c-8e18-86270bdf4e7c\",\"type\":\"Jitter\"}}},\"id\":\"f937d0e4-7434-4966-aa53-c9a3413a49ff\",\"type\":\"Circle\"},{\"attributes\":{\"plot\":{\"id\":\"cd91a1e3-4e89-4775-9b10-282804b01949\",\"subtype\":\"Figure\",\"type\":\"Plot\"},\"ticker\":{\"id\":\"f64837c9-5002-4161-a0f5-4d3f2ee05840\",\"type\":\"BasicTicker\"}},\"id\":\"171012bd-748b-43d1-8b84-822d15043914\",\"type\":\"Grid\"},{\"attributes\":{\"callback\":null},\"id\":\"c09a3aca-7a4f-4913-9979-76b493b8a83e\",\"type\":\"DataRange1d\"},{\"attributes\":{\"dimension\":1,\"plot\":{\"id\":\"cd91a1e3-4e89-4775-9b10-282804b01949\",\"subtype\":\"Figure\",\"type\":\"Plot\"},\"ticker\":{\"id\":\"d1b2c77a-f882-4b09-a794-3324ef225199\",\"type\":\"BasicTicker\"}},\"id\":\"4c5aad6a-14b3-468e-9d84-29f1a1133bf8\",\"type\":\"Grid\"},{\"attributes\":{},\"id\":\"de7e6b04-e49a-44d3-bc0c-6bcb2820d82f\",\"type\":\"BasicTickFormatter\"},{\"attributes\":{\"plot\":{\"id\":\"cd91a1e3-4e89-4775-9b10-282804b01949\",\"subtype\":\"Figure\",\"type\":\"Plot\"}},\"id\":\"b93d76a1-cacd-43c6-b22c-234fbf4b49b0\",\"type\":\"PanTool\"},{\"attributes\":{},\"id\":\"f0c38f96-a4f8-4f24-a05a-c8e4b3275905\",\"type\":\"ToolEvents\"},{\"attributes\":{},\"id\":\"d1b2c77a-f882-4b09-a794-3324ef225199\",\"type\":\"BasicTicker\"},{\"attributes\":{},\"id\":\"f64837c9-5002-4161-a0f5-4d3f2ee05840\",\"type\":\"BasicTicker\"},{\"attributes\":{\"data_source\":{\"id\":\"f87768a6-f405-4450-af7b-57987209265f\",\"type\":\"ColumnDataSource\"},\"glyph\":{\"id\":\"f937d0e4-7434-4966-aa53-c9a3413a49ff\",\"type\":\"Circle\"},\"hover_glyph\":null,\"muted_glyph\":null,\"nonselection_glyph\":{\"id\":\"06f8846f-1eb2-4a13-b8b5-374103a66671\",\"type\":\"Circle\"},\"selection_glyph\":null},\"id\":\"391716c4-81e9-4870-aa20-2e279e871cc9\",\"type\":\"GlyphRenderer\"},{\"attributes\":{\"callback\":null,\"plot\":{\"id\":\"cd91a1e3-4e89-4775-9b10-282804b01949\",\"subtype\":\"Figure\",\"type\":\"Plot\"},\"tooltips\":[[\"Player\",\"@player\"],[\"x\",\"$x\"],[\"team\",\"@team\"],[\"pos\",\"@pos\"],[\"salary\",\"@salary\"],[\"age\",\"@age\"]]},\"id\":\"22a6d5e6-b3a0-4787-bc10-43811882dc4e\",\"type\":\"HoverTool\"},{\"attributes\":{\"width\":0.5},\"id\":\"2756e654-4f23-405c-8e18-86270bdf4e7c\",\"type\":\"Jitter\"},{\"attributes\":{\"plot\":{\"id\":\"cd91a1e3-4e89-4775-9b10-282804b01949\",\"subtype\":\"Figure\",\"type\":\"Plot\"}},\"id\":\"ed01441f-7b81-4d01-96c0-1ee8c6f21656\",\"type\":\"ZoomOutTool\"},{\"attributes\":{\"active_drag\":\"auto\",\"active_scroll\":\"auto\",\"active_tap\":\"auto\",\"tools\":[{\"id\":\"22a6d5e6-b3a0-4787-bc10-43811882dc4e\",\"type\":\"HoverTool\"},{\"id\":\"b93d76a1-cacd-43c6-b22c-234fbf4b49b0\",\"type\":\"PanTool\"},{\"id\":\"eae3a0f5-de0f-4478-90dd-4955ed1020de\",\"type\":\"ZoomInTool\"},{\"id\":\"ed01441f-7b81-4d01-96c0-1ee8c6f21656\",\"type\":\"ZoomOutTool\"}]},\"id\":\"087556ac-262c-4d9c-a5fa-59f27a3d90a8\",\"type\":\"Toolbar\"},{\"attributes\":{},\"id\":\"47684b38-88bc-4331-8b5d-9bba5acc18e0\",\"type\":\"BasicTickFormatter\"},{\"attributes\":{\"callback\":null,\"column_names\":[\"salary\",\"player\",\"team\",\"y\",\"x\",\"age\",\"pos\",\"line_color\",\"fill_color\"],\"data\":{\"age\":{\"__ndarray__\":\"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\",\"dtype\":\"float64\",\"shape\":[379]},\"fill_color\":[\"orange\",\"purple\",\"cyan\",\"red\",\"cyan\",\"orange\",\"green\",\"purple\",\"orange\",\"cyan\",\"orange\",\"purple\",\"cyan\",\"green\",\"cyan\",\"purple\",\"orange\",\"purple\",\"cyan\",\"orange\",\"orange\",\"cyan\",\"orange\",\"purple\",\"cyan\",\"orange\",\"green\",\"purple\",\"orange\",\"green\",\"red\",\"purple\",\"red\",\"green\",\"cyan\",\"red\",\"purple\",\"cyan\",\"green\",\"orange\",\"orange\",\"red\",\"red\",\"orange\",\"purple\",\"red\",\"green\",\"purple\",\"orange\",\"cyan\",\"orange\",\"green\",\"purple\",\"purple\",\"purple\",\"green\",\"cyan\",\"green\",\"purple\",\"purple\",\"purple\",\"green\",\"purple\",\"cyan\",\"red\",\"orange\",\"green\",\"orange\",\"orange\",\"green\",\"purple\",\"purple\",\"purple\",\"red\",\"cyan\",\"red\",\"purple\",\"orange\",\"purple\",\"cyan\",\"cyan\",\"orange\",\"orange\",\"red\",\"cyan\",\"red\",\"cyan\",\"green\",\"green\",\"green\",\"purple\",\"cyan\",\"green\",\"red\",\"green\",\"orange\",\"orange\",\"cyan\",\"cyan\",\"green\",\"cyan\",\"cyan\",\"purple\",\"green\",\"cyan\",\"orange\",\"cyan\",\"green\",\"cyan\",\"purple\",\"red\",\"purple\",\"cyan\",\"orange\",\"orange\",\"orange\",\"orange\",\"orange\",\"cyan\",\"purple\",\"green\",\"orange\",\"red\",\"green\",\"red\",\"cyan\",\"purple\",\"red\",\"orange\",\"cyan\",\"red\",\"red\",\"orange\",\"cyan\",\"orange\",\"green\",\"purple\",\"purple\",\"cyan\",\"purple\",\"purple\",\"purple\",\"orange\",\"cyan\",\"red\",\"purple\",\"green\",\"green\",\"purple\",\"red\",\"red\",\"orange\",\"red\",\"orange\",\"purple\",\"orange\",\"red\",\"purple\",\"orange\",\"purple\",\"purple\",\"green\",\"green\",\"red\",\"red\",\"green\",\"orange\",\"red\",\"green\",\"purple\",\"purple\",\"green\",\"orange\",\"cyan\",\"red\",\"green\",\"orange\",\"cyan\",\"red\",\"cyan\",\"green\",\"red\",\"green\",\"purple\",\"green\",\"purple\",\"orange\",\"orange\",\"orange\",\"orange\",\"green\",\"orange\",\"green\",\"green\",\"orange\",\"purple\",\"cyan\",\"purple\",\"green\",\"cyan\",\"red\",\"cyan\",\"cyan\",\"purple\",\"red\",\"orange\",\"red\",\"green\",\"cyan\",\"red\",\"red\",\"red\",\"red\",\"cyan\",\"green\",\"orange\",\"green\",\"green\",\"green\",\"red\",\"red\",\"purple\",\"purple\",\"green\",\"green\",\"purple\",\"green\",\"cyan\",\"cyan\",\"cyan\",\"red\",\"orange\",\"red\",\"cyan\",\"green\",\"green\",\"cyan\",\"blue\",\"cyan\",\"green\",\"cyan\",\"red\",\"red\",\"green\",\"green\",\"purple\",\"red\",\"orange\",\"cyan\",\"purple\",\"orange\",\"green\",\"orange\",\"purple\",\"purple\",\"orange\",\"green\",\"purple\",\"purple\",\"red\",\"red\",\"red\",\"green\",\"green\",\"red\",\"cyan\",\"green\",\"green\",\"red\",\"cyan\",\"green\",\"orange\",\"orange\",\"green\",\"purple\",\"green\",\"green\",\"orange\",\"cyan\",\"orange\",\"cyan\",\"orange\",\"red\",\"orange\",\"green\",\"red\",\"green\",\"orange\",\"red\",\"cyan\",\"cyan\",\"orange\",\"green\",\"purple\",\"cyan\",\"purple\",\"red\",\"cyan\",\"green\",\"purple\",\"orange\",\"red\",\"red\",\"cyan\",\"orange\",\"orange\",\"cyan\",\"purple\",\"orange\",\"orange\",\"orange\",\"green\",\"green\",\"green\",\"green\",\"purple\",\"purple\",\"red\",\"red\",\"red\",\"cyan\",\"cyan\",\"orange\",\"green\",\"red\",\"purple\",\"cyan\",\"orange\",\"cyan\",\"green\",\"orange\",\"green\",\"green\",\"red\",\"green\",\"purple\",\"cyan\",\"red\",\"orange\",\"green\",\"orange\",\"black\",\"cyan\",\"cyan\",\"green\",\"cyan\",\"cyan\",\"green\",\"cyan\",\"red\",\"red\",\"red\",\"green\",\"green\",\"red\",\"green\",\"red\",\"orange\",\"cyan\",\"green\",\"purple\",\"orange\",\"red\",\"orange\",\"purple\",\"orange\",\"orange\",\"green\",\"green\",\"orange\",\"purple\",\"purple\",\"orange\",\"purple\",\"red\",\"purple\",\"red\",\"cyan\",\"cyan\"],\"line_color\":[\"orange\",\"purple\",\"cyan\",\"red\",\"cyan\",\"orange\",\"green\",\"purple\",\"orange\",\"cyan\",\"orange\",\"purple\",\"cyan\",\"green\",\"cyan\",\"purple\",\"orange\",\"purple\",\"cyan\",\"orange\",\"orange\",\"cyan\",\"orange\",\"purple\",\"cyan\",\"orange\",\"green\",\"purple\",\"orange\",\"green\",\"red\",\"purple\",\"red\",\"green\",\"cyan\",\"red\",\"purple\",\"cyan\",\"green\",\"orange\",\"orange\",\"red\",\"red\",\"orange\",\"purple\",\"red\",\"green\",\"purple\",\"orange\",\"cyan\",\"orange\",\"green\",\"purple\",\"purple\",\"purple\",\"green\",\"cyan\",\"green\",\"purple\",\"purple\",\"purple\",\"green\",\"purple\",\"cyan\",\"red\",\"orange\",\"green\",\"orange\",\"orange\",\"green\",\"purple\",\"purple\",\"purple\",\"red\",\"cyan\",\"red\",\"purple\",\"orange\",\"purple\",\"cyan\",\"cyan\",\"orange\",\"orange\",\"red\",\"cyan\",\"red\",\"cyan\",\"green\",\"green\",\"green\",\"purple\",\"cyan\",\"green\",\"red\",\"green\",\"orange\",\"orange\",\"cyan\",\"cyan\",\"green\",\"cyan\",\"cyan\",\"purple\",\"green\",\"cyan\",\"orange\",\"cyan\",\"green\",\"cyan\",\"purple\",\"red\",\"purple\",\"cyan\",\"orange\",\"orange\",\"orange\",\"orange\",\"orange\",\"cyan\",\"purple\",\"green\",\"orange\",\"red\",\"green\",\"red\",\"cyan\",\"purple\",\"red\",\"orange\",\"cyan\",\"red\",\"red\",\"orange\",\"cyan\",\"orange\",\"green\",\"purple\",\"purple\",\"cyan\",\"purple\",\"purple\",\"purple\",\"orange\",\"cyan\",\"red\",\"purple\",\"green\",\"green\",\"purple\",\"red\",\"red\",\"orange\",\"red\",\"orange\",\"purple\",\"orange\",\"red\",\"purple\",\"orange\",\"purple\",\"purple\",\"green\",\"green\",\"red\",\"red\",\"green\",\"orange\",\"red\",\"green\",\"purple\",\"purple\",\"green\",\"orange\",\"cyan\",\"red\",\"green\",\"orange\",\"cyan\",\"red\",\"cyan\",\"green\",\"red\",\"green\",\"purple\",\"green\",\"purple\",\"orange\",\"orange\",\"orange\",\"orange\",\"green\",\"orange\",\"green\",\"green\",\"orange\",\"purple\",\"cyan\",\"purple\",\"green\",\"cyan\",\"red\",\"cyan\",\"cyan\",\"purple\",\"red\",\"orange\",\"red\",\"green\",\"cyan\",\"red\",\"red\",\"red\",\"red\",\"cyan\",\"green\",\"orange\",\"green\",\"green\",\"green\",\"red\",\"red\",\"purple\",\"purple\",\"green\",\"green\",\"purple\",\"green\",\"cyan\",\"cyan\",\"cyan\",\"red\",\"orange\",\"red\",\"cyan\",\"green\",\"green\",\"cyan\",\"blue\",\"cyan\",\"green\",\"cyan\",\"red\",\"red\",\"green\",\"green\",\"purple\",\"red\",\"orange\",\"cyan\",\"purple\",\"orange\",\"green\",\"orange\",\"purple\",\"purple\",\"orange\",\"green\",\"purple\",\"purple\",\"red\",\"red\",\"red\",\"green\",\"green\",\"red\",\"cyan\",\"green\",\"green\",\"red\",\"cyan\",\"green\",\"orange\",\"orange\",\"green\",\"purple\",\"green\",\"green\",\"orange\",\"cyan\",\"orange\",\"cyan\",\"orange\",\"red\",\"orange\",\"green\",\"red\",\"green\",\"orange\",\"red\",\"cyan\",\"cyan\",\"orange\",\"green\",\"purple\",\"cyan\",\"purple\",\"red\",\"cyan\",\"green\",\"purple\",\"orange\",\"red\",\"red\",\"cyan\",\"orange\",\"orange\",\"cyan\",\"purple\",\"orange\",\"orange\",\"orange\",\"green\",\"green\",\"green\",\"green\",\"purple\",\"purple\",\"red\",\"red\",\"red\",\"cyan\",\"cyan\",\"orange\",\"green\",\"red\",\"purple\",\"cyan\",\"orange\",\"cyan\",\"green\",\"orange\",\"green\",\"green\",\"red\",\"green\",\"purple\",\"cyan\",\"red\",\"orange\",\"green\",\"orange\",\"black\",\"cyan\",\"cyan\",\"green\",\"cyan\",\"cyan\",\"green\",\"cyan\",\"red\",\"red\",\"red\",\"green\",\"green\",\"red\",\"green\",\"red\",\"orange\",\"cyan\",\"green\",\"purple\",\"orange\",\"red\",\"orange\",\"purple\",\"orange\",\"orange\",\"green\",\"green\",\"orange\",\"purple\",\"purple\",\"orange\",\"purple\",\"red\",\"purple\",\"red\",\"cyan\",\"cyan\"],\"player\":[\"Stephen Curry\",\"James Harden\",\"Kevin Durant\",\"DeMarcus Cousins\",\"LeBron James\",\"Damian Lillard\",\"Anthony Davis\",\"DeMar DeRozan\",\"Russell Westbrook\",\"Paul George\",\"Isaiah Thomas\",\"Klay Thompson\",\"Carmelo Anthony\",\"Blake Griffin\",\"Kawhi Leonard\",\"Jimmy Butler\",\"Kemba Walker\",\"C.J. McCollum\",\"Andrew Wiggins\",\"Eric Bledsoe\",\"John Wall\",\"Gordon Hayward\",\"Kyrie Irving\",\"Brandon Knight\",\"Danilo Gallinari\",\"Chris Paul\",\"Chris Bosh\",\"Dwyane Wade\",\"Reggie Jackson\",\"Dirk Nowitzki\",\"Karl-Anthony Towns\",\"Khris Middleton\",\"Nikola Vucevic\",\"LaMarcus Aldridge\",\"Kobe Bryant\",\"Jahlil Okafor\",\"Bradley Beal\",\"Rudy Gay\",\"Paul Millsap\",\"Giannis Antetokounmpo\",\"Jrue Holiday\",\"Marc Gasol\",\"Pau Gasol\",\"Derrick Rose\",\"J.J. Redick\",\"Andre Drummond\",\"Kevin Love\",\"Victor Oladipo\",\"Jeff Teague\",\"Evan Fournier\",\"Mike Conley\",\"Zach Randolph\",\"Avery Bradley\",\"Tyreke Evans\",\"Eric Gordon\",\"Thaddeus Young\",\"Nicolas Batum\",\"Tobias Harris\",\"Kentavious Caldwell-Pope\",\"Rodney Hood\",\"Will Barton\",\"Kristaps Porzingis\",\"Jamal Crawford\",\"Jae Crowder\",\"Hassan Whiteside\",\"Goran Dragic\",\"Jabari Parker\",\"Deron Williams\",\"Darren Collison\",\"Draymond Green\",\"Zach LaVine\",\"Devin Booker\",\"Monta Ellis\",\"Dwight Howard\",\"Chandler Parsons\",\"Marcin Gortat\",\"Alec Burks\",\"D'Angelo Russell\",\"Arron Afflalo\",\"Michael Beasley\",\"Robert Covington\",\"Jarrett Jack\",\"Emmanuel Mudiay\",\"Jonas Valanciunas\",\"Trevor Ariza\",\"Enes Kanter\",\"Michael Kidd-Gilchrist\",\"Serge Ibaka\",\"Kenneth Faried\",\"Luol Deng\",\"Gary Harris\",\"Joe Johnson\",\"Mirza Teletovic\",\"Al Jefferson\",\"Markieff Morris\",\"Tony Parker\",\"Rajon Rondo\",\"Omri Casspi\",\"C.J. Miles\",\"Nikola Mirotic\",\"Harrison Barnes\",\"Jeff Green\",\"Jeremy Lin\",\"Marvin Williams\",\"Kent Bazemore\",\"Michael Carter-Williams\",\"Jordan Hamilton\",\"Julius Randle\",\"Bojan Bogdanovic\",\"Sean Kilpatrick\",\"Nerlens Noel\",\"Isaiah Canaan\",\"DeMarre Carroll\",\"Dennis Schroder\",\"J.J. Barea\",\"Elfrid Payton\",\"Trey Burke\",\"Norris Cole\",\"Shabazz Muhammad\",\"Evan Turner\",\"Ersan Ilyasova\",\"Mario Chalmers\",\"Robin Lopez\",\"Jared Sullinger\",\"Myles Turner\",\"Al-Farouq Aminu\",\"Marco Belinelli\",\"Gorgui Dieng\",\"Ricky Rubio\",\"Matt Barnes\",\"Nikola Jokic\",\"Kelly Olynyk\",\"Patrick Beverley\",\"Terrence Ross\",\"Ramon Sessions\",\"Carl Landry\",\"Gary Neal\",\"Dion Waiters\",\"Jerami Grant\",\"Marcus Thornton\",\"Manu Ginobili\",\"Courtney Lee\",\"Raymond Felton\",\"Doug McDermott\",\"Ian Mahinmi\",\"Kevin Martin\",\"Aaron Gordon\",\"Nene Hilario\",\"Kyle Korver\",\"Rudy Gobert\",\"Mason Plumlee\",\"Marcus Smart\",\"Alex Len\",\"Archie Goodwin\",\"Austin Rivers\",\"Rodney Stuckey\",\"Jordan Hill\",\"Jeremy Lamb\",\"Toney Douglas\",\"Gerald Henderson\",\"Tyler Johnson\",\"Terrence Jones\",\"Luis Scola\",\"Cody Zeller\",\"Tim Duncan\",\"Taj Gibson\",\"Shelvin Mack\",\"Zaza Pachulia\",\"Jon Leuer\",\"Nik Stauskas\",\"Tony Allen\",\"Meyers Leonard\",\"Tony Wroten\",\"Lance Stephenson\",\"Jusuf Nurkic\",\"Lance Thomas\",\"Mo Williams\",\"Stanley Johnson\",\"Steven Adams\",\"P.J. Tucker\",\"Jared Dudley\",\"Joffrey Lauvergne\",\"David Lee\",\"Ben McLemore\",\"Tristan Thompson\",\"Wayne Ellington\",\"Jameer Nelson\",\"Jose Calderon\",\"Langston Galloway\",\"Devin Harris\",\"Darrell Arthur\",\"Matthew Dellavedova\",\"JaMychal Green\",\"Amir Johnson\",\"Shane Larkin\",\"Jodie Meeks\",\"Garrett Temple\",\"Nick Young\",\"Brandon Bass\",\"Corey Brewer\",\"Tyson Chandler\",\"Mike Dunleavy\",\"James Ennis\",\"Danny Green\",\"Jason Smith\",\"Aaron Brooks\",\"Marreese Speights\",\"David West\",\"Luke Babbitt\",\"Clint Capela\",\"Willie Cauley-Stein\",\"Festus Ezeli\",\"John Henson\",\"Andre Iguodala\",\"Bobby Portis\",\"Brandon Jennings\",\"Andrew Nicholson\",\"Patrick Patterson\",\"Brandan Wright\",\"Kosta Koufos\",\"Andrea Bargnani\",\"Vince Carter\",\"Josh Richardson\",\"Ed Davis\",\"Kris Humphries\",\"Leandro Barbosa\",\"Boris Diaw\",\"Maurice Harkless\",\"Thabo Sefolosha\",\"Justise Winslow\",\"Aron Baynes\",\"Shaun Livingston\",\"Timofey Mozgov\",\"P.J. Hairston\",\"Donatas Motiejunas\",\"Mike Scott\",\"Dante Cunningham\",\"Channing Frye\",\"Mario Hezonja\",\"Trey Lyles\",\"Paul Pierce\",\"Tyler Zeller\",\"Alexis Ajinca\",\"Spencer Hawes\",\"Trevor Booker\",\"Randy Foye\",\"Roy Hibbert\",\"Raul Neto\",\"Rondae Hollis-Jefferson\",\"Iman Shumpert\",\"Ty Lawson\",\"Jarell Martin\",\"Greivis Vasquez\",\"Troy Daniels\",\"Bryce Dejean-Jones\",\"Jerian Grant\",\"Richaun Holmes\",\"Anthony Morrow\",\"Norman Powell\",\"Tiago Splitter\",\"Cole Aldrich\",\"Boban Marjanovic\",\"Larry Nance Jr.\",\"Lavoy Allen\",\"Andrew Bogut\",\"Tony Snell\",\"Anthony Tolliver\",\"Nemanja Bjelica\",\"Miles Plumlee\",\"JaKarr Sampson\",\"James Johnson\",\"Cameron Payne\",\"Spencer Dinwiddie\",\"Kyle O'Quinn\",\"Andre Roberson\",\"Chris McCullough\",\"Willie Reed\",\"Beno Udrih\",\"Kyle Anderson\",\"Tyler Ennis\",\"Alonzo Gee\",\"Jordan McRae\",\"Nikola Pekovic\",\"Steve Blake\",\"Jonas Jerebko\",\"Joakim Noah\",\"Thomas Robinson\",\"C.J. Watson\",\"Jeff Withey\",\"Solomon Hill\",\"Joe Ingles\",\"Tyus Jones\",\"Ryan Kelly\",\"Brandon Rush\",\"Chase Budinger\",\"John Jenkins\",\"Omer Asik\",\"Anthony Brown\",\"Rakeem Christmas\",\"Darrun Hilliard\",\"Brian Roberts\",\"Chris Andersen\",\"Kevin Seraphin\",\"Justin Anderson\",\"Delon Wright\",\"Joe Young\",\"Caron Butler\",\"Orlando Johnson\",\"Kendall Marshall\",\"Andre Miller\",\"Shabazz Napier\",\"Montrezl Harrell\",\"Josh McRoberts\",\"Noah Vonleh\",\"Christian Wood\",\"Jordan Adams\",\"James Anderson\",\"Robert Sacre\",\"Cristiano Felicio\",\"Ryan Hollins\",\"Kyle Singler\",\"Reggie Bullock\",\"Phil Pressey\",\"Kevin Garnett\",\"Jason Thompson\",\"Rashad Vaughn\",\"Thanasis Antetokounmpo\",\"Kirk Hinrich\",\"Chris Johnson\",\"Alan Williams\",\"Andrew Goudelock\",\"Josh Huestis\",\"Cory Jefferson\",\"Chris Kaman\",\"Drew Gooden\",\"R.J. Hunter\",\"Kostas Papanikolaou\",\"Anderson Varejao\",\"Lorenzo Brown\",\"Adreian Payne\",\"Pablo Prigioni\",\"Sonny Weems\",\"Jarell Eddie\",\"Jeremy Evans\",\"Tyler Hansbrough\",\"Sergey Karasev\",\"K.J. McDaniels\",\"Steve Novak\",\"Damjan Rudez\",\"Walter Tavares\",\"Lucas Nogueira\",\"DeJuan Blair\",\"Nick Collison\",\"Chris Copeland\",\"Tibor Pleiss\",\"Lou Amundson\",\"Jeff Ayres\",\"Jorge Gutierrez\",\"Damien Inglis\",\"Kevon Looney\",\"Elijah Millsap\",\"Terry Rozier\",\"Nazr Mohammed\",\"Elliot Williams\",\"Jimmer Fredette\",\"Russ Smith\",\"Erick Green\",\"Mitch McGary\",\"Jordan Mickey\",\"Keith Appling\",\"Luis Montero\",\"Pat Connaughton\",\"Bryce Cotton\",\"James Young\",\"Joel Anthony\",\"Aaron Harrison\",\"Sasha Kaun\",\"Bruno Caboclo\",\"Sam Dekker\"],\"pos\":[\"PG\",\"SG\",\"SF\",\"C\",\"SF\",\"PG\",\"PF\",\"SG\",\"PG\",\"SF\",\"PG\",\"SG\",\"SF\",\"PF\",\"SF\",\"SG\",\"PG\",\"SG\",\"SF\",\"PG\",\"PG\",\"SF\",\"PG\",\"SG\",\"SF\",\"PG\",\"PF\",\"SG\",\"PG\",\"PF\",\"C\",\"SG\",\"C\",\"PF\",\"SF\",\"C\",\"SG\",\"SF\",\"PF\",\"PG\",\"PG\",\"C\",\"C\",\"PG\",\"SG\",\"C\",\"PF\",\"SG\",\"PG\",\"SF\",\"PG\",\"PF\",\"SG\",\"SG\",\"SG\",\"PF\",\"SF\",\"PF\",\"SG\",\"SG\",\"SG\",\"PF\",\"SG\",\"SF\",\"C\",\"PG\",\"PF\",\"PG\",\"PG\",\"PF\",\"SG\",\"SG\",\"SG\",\"C\",\"SF\",\"C\",\"SG\",\"PG\",\"SG\",\"SF\",\"SF\",\"PG\",\"PG\",\"C\",\"SF\",\"C\",\"SF\",\"PF\",\"PF\",\"PF\",\"SG\",\"SF\",\"PF\",\"C\",\"PF\",\"PG\",\"PG\",\"SF\",\"SF\",\"PF\",\"SF\",\"SF\",\"SG\",\"PF\",\"SF\",\"PG\",\"SF\",\"PF\",\"SF\",\"SG\",\"C\",\"SG\",\"SF\",\"PG\",\"PG\",\"PG\",\"PG\",\"PG\",\"SF\",\"SG\",\"PF\",\"PG\",\"C\",\"PF\",\"C\",\"SF\",\"SG\",\"C\",\"PG\",\"SF\",\"C\",\"C\",\"PG\",\"SF\",\"PG\",\"PF\",\"SG\",\"SG\",\"SF\",\"SG\",\"SG\",\"SG\",\"PG\",\"SF\",\"C\",\"SG\",\"PF\",\"PF\",\"SG\",\"C\",\"C\",\"PG\",\"C\",\"PG\",\"SG\",\"PG\",\"C\",\"SG\",\"PG\",\"SG\",\"SG\",\"PF\",\"PF\",\"C\",\"C\",\"PF\",\"PG\",\"C\",\"PF\",\"SG\",\"SG\",\"PF\",\"PG\",\"SF\",\"C\",\"PF\",\"PG\",\"SF\",\"C\",\"SF\",\"PF\",\"C\",\"PF\",\"SG\",\"PF\",\"SG\",\"PG\",\"PG\",\"PG\",\"PG\",\"PF\",\"PG\",\"PF\",\"PF\",\"PG\",\"SG\",\"SF\",\"SG\",\"PF\",\"SF\",\"C\",\"SF\",\"SF\",\"SG\",\"C\",\"PG\",\"C\",\"PF\",\"SF\",\"C\",\"C\",\"C\",\"C\",\"SF\",\"PF\",\"PG\",\"PF\",\"PF\",\"PF\",\"C\",\"C\",\"SG\",\"SG\",\"PF\",\"PF\",\"SG\",\"PF\",\"SF\",\"SF\",\"SF\",\"C\",\"PG\",\"C\",\"SF\",\"PF\",\"PF\",\"SF\",\"PF-C\",\"SF\",\"PF\",\"SF\",\"C\",\"C\",\"PF\",\"PF\",\"SG\",\"C\",\"PG\",\"SF\",\"SG\",\"PG\",\"PF\",\"PG\",\"SG\",\"SG\",\"PG\",\"PF\",\"SG\",\"SG\",\"C\",\"C\",\"C\",\"PF\",\"PF\",\"C\",\"SF\",\"PF\",\"PF\",\"C\",\"SF\",\"PF\",\"PG\",\"PG\",\"PF\",\"SG\",\"PF\",\"PF\",\"PG\",\"SF\",\"PG\",\"SF\",\"PG\",\"C\",\"PG\",\"PF\",\"C\",\"PF\",\"PG\",\"C\",\"SF\",\"SF\",\"PG\",\"PF\",\"SG\",\"SF\",\"SG\",\"C\",\"SF\",\"PF\",\"SG\",\"PG\",\"C\",\"C\",\"SF\",\"PG\",\"PG\",\"SF\",\"SG\",\"PG\",\"PG\",\"PG\",\"PF\",\"PF\",\"PF\",\"PF\",\"SG\",\"SG\",\"C\",\"C\",\"C\",\"SF\",\"SF\",\"PG\",\"PF\",\"C\",\"SG\",\"SF\",\"PG\",\"SF\",\"PF\",\"PG\",\"PF\",\"PF\",\"C\",\"PF\",\"SG\",\"SF\",\"C\",\"PG\",\"PF\",\"PG\",\"SG-SF\",\"SF\",\"SF\",\"PF\",\"SF\",\"SF\",\"PF\",\"SF\",\"C\",\"C\",\"C\",\"PF\",\"PF\",\"C\",\"PF\",\"C\",\"PG\",\"SF\",\"PF\",\"SG\",\"PG\",\"C\",\"PG\",\"SG\",\"PG\",\"PG\",\"PF\",\"PF\",\"PG\",\"SG\",\"SG\",\"PG\",\"SG\",\"C\",\"SG\",\"C\",\"SF\",\"SF\"],\"salary\":[11370786,15756438,20158622,15851950,22970500,4236287,7070730,10050000,16744218,17120106,6912869,15501000,22875000,18907726,16407500,16407500,12000000,2525160,5758680,13500000,15851950,15409570,16407501,13500000,14000000,21468695,22192730,20000000,13913044,8333334,5703600,14700000,11250000,19689000,25000000,4582680,5694674,12403101,18671659,1953960,10595507,19688000,7448760,20093064,7085000,3272091,19689000,5192520,8000000,2288205,9588426,9638555,7730337,10734586,15514031,11235955,13125306,16000000,2891760,1348440,3533333,4131720,5675000,6796117,981348,14783000,5152440,5378974,5013559,14260870,2148360,2127840,10300000,22359364,15361500,11217391,9463484,5103120,8000000,306527,1000000,6300000,3102240,4660482,8193030,16407500,6331404,12250000,11235955,10151612,1584480,261894,5500000,13500000,8000000,13437500,9500000,2836186,4394225,5543725,3873398,9650000,2139000,7000000,2000000,2399040,1015421,3132240,3425510,134215,3457800,947276,13600000,1763400,4290000,2505720,2658240,3036927,2056920,3425510,7900000,4300000,12650000,2569260,2357760,8042895,6060606,1474440,12700000,3542500,1300000,2165160,6486486,3553917,2170465,6500000,2139000,5138430,845059,200600,2814000,5675000,3950313,2380440,4000000,200600,4171680,13000000,5746479,1175880,1415520,3431040,3807120,1160160,3110796,7000000,4000000,3034356,1164858,6000000,845059,2489530,2900000,4204200,5250000,8500000,2433333,5200000,1035000,2869440,5158539,3075880,167406,9000000,1842000,1636842,2100000,2841960,2279040,5500000,4375000,1709719,2085671,3156600,14260870,1500000,4345000,7402812,845059,4053446,2814000,1147276,845059,12000000,1500000,6270000,1100602,5219169,3000000,8229375,13000000,4500000,845059,10000000,4300000,2250000,3815000,1499187,1100602,1242720,3398280,2008748,2943221,11710456,1391160,8344497,2380593,6268675,5464000,7700000,1362897,4088019,525093,6980802,1000000,2500000,7500000,2894059,4000000,2481720,6500000,5543725,4950000,1201440,2288205,3333333,2850000,8193029,3741480,2239800,3376000,2616975,4389607,6110034,4775000,3135000,15592217,900000,1335480,8988765,211744,1230840,6600000,947276,169883,1572360,1074169,3344000,650000,9756250,1100602,1200000,1155600,4050000,13800000,1535880,3000000,3950001,2109294,258489,2500000,2021520,845059,3750000,1210800,1140240,947276,2170465,1142880,1662360,1320000,111196,12100000,2170465,5000000,13400000,981348,5000000,947276,1358880,2050000,1282080,1724250,1270964,206192,981348,9213483,700000,1007026,600000,2854940,5000000,2814000,1449000,1509360,1007026,1449187,55722,2144772,250750,1294440,1000000,5543725,2637720,525093,1404600,1015421,981348,525093,239605,4500000,1252440,55722,8500000,245177,1733040,30888,2854940,981348,83397,200600,1140240,49709,5016000,3300000,1148640,800321,289755,111444,1938840,947726,2814000,561716,1100602,947276,1599840,3189794,295327,1149500,1000000,1842000,2000000,3750000,1150000,2900000,1635476,111444,189455,855000,1131960,845059,1824360,222888,55722,874837,845059,99418,1463040,1170960,61776,525093,625093,700902,1749840,2500000,525093,1276000,1524000,1646400],\"team\":[\"GSW\",\"HOU\",\"OKC\",\"SAC\",\"CLE\",\"POR\",\"NOP\",\"TOR\",\"OKC\",\"IND\",\"BOS\",\"GSW\",\"NYK\",\"LAC\",\"SAS\",\"CHI\",\"CHO\",\"POR\",\"MIN\",\"PHO\",\"WAS\",\"UTA\",\"CLE\",\"PHO\",\"DEN\",\"LAC\",\"MIA\",\"MIA\",\"DET\",\"DAL\",\"MIN\",\"MIL\",\"ORL\",\"SAS\",\"LAL\",\"PHI\",\"WAS\",\"SAC\",\"ATL\",\"MIL\",\"NOP\",\"MEM\",\"CHI\",\"CHI\",\"LAC\",\"DET\",\"CLE\",\"ORL\",\"ATL\",\"ORL\",\"MEM\",\"MEM\",\"BOS\",\"NOP\",\"NOP\",\"BRK\",\"CHO\",\"TOT\",\"DET\",\"UTA\",\"DEN\",\"NYK\",\"LAC\",\"BOS\",\"MIA\",\"MIA\",\"MIL\",\"DAL\",\"SAC\",\"GSW\",\"MIN\",\"PHO\",\"IND\",\"HOU\",\"DAL\",\"WAS\",\"UTA\",\"LAL\",\"NYK\",\"HOU\",\"PHI\",\"BRK\",\"DEN\",\"TOR\",\"HOU\",\"OKC\",\"CHO\",\"OKC\",\"DEN\",\"MIA\",\"DEN\",\"TOT\",\"PHO\",\"CHO\",\"TOT\",\"SAS\",\"SAC\",\"SAC\",\"IND\",\"CHI\",\"GSW\",\"TOT\",\"CHO\",\"CHO\",\"ATL\",\"MIL\",\"NOP\",\"LAL\",\"BRK\",\"TOT\",\"PHI\",\"PHI\",\"TOR\",\"ATL\",\"DAL\",\"ORL\",\"UTA\",\"NOP\",\"MIN\",\"BOS\",\"TOT\",\"TOT\",\"NYK\",\"BOS\",\"IND\",\"POR\",\"SAC\",\"MIN\",\"MIN\",\"MEM\",\"DEN\",\"BOS\",\"HOU\",\"TOR\",\"WAS\",\"PHI\",\"WAS\",\"OKC\",\"PHI\",\"TOT\",\"SAS\",\"TOT\",\"DAL\",\"CHI\",\"IND\",\"TOT\",\"ORL\",\"WAS\",\"ATL\",\"UTA\",\"POR\",\"BOS\",\"PHO\",\"PHO\",\"LAC\",\"IND\",\"IND\",\"CHO\",\"NOP\",\"POR\",\"MIA\",\"HOU\",\"TOR\",\"CHO\",\"SAS\",\"CHI\",\"TOT\",\"DAL\",\"PHO\",\"PHI\",\"MEM\",\"POR\",\"PHI\",\"TOT\",\"DEN\",\"NYK\",\"CLE\",\"DET\",\"OKC\",\"PHO\",\"WAS\",\"DEN\",\"TOT\",\"SAC\",\"CLE\",\"BRK\",\"DEN\",\"NYK\",\"NYK\",\"DAL\",\"DEN\",\"CLE\",\"MEM\",\"BOS\",\"BRK\",\"DET\",\"WAS\",\"LAL\",\"LAL\",\"HOU\",\"PHO\",\"CHI\",\"TOT\",\"SAS\",\"ORL\",\"CHI\",\"GSW\",\"SAS\",\"NOP\",\"HOU\",\"SAC\",\"GSW\",\"MIL\",\"GSW\",\"CHI\",\"TOT\",\"ORL\",\"TOR\",\"MEM\",\"SAC\",\"BRK\",\"MEM\",\"MIA\",\"POR\",\"TOT\",\"GSW\",\"SAS\",\"POR\",\"ATL\",\"MIA\",\"DET\",\"GSW\",\"CLE\",\"TOT\",\"HOU\",\"ATL\",\"NOP\",\"TOT\",\"ORL\",\"UTA\",\"LAC\",\"BOS\",\"NOP\",\"CHO\",\"UTA\",\"TOT\",\"LAL\",\"UTA\",\"BRK\",\"CLE\",\"TOT\",\"MEM\",\"MIL\",\"CHO\",\"NOP\",\"NYK\",\"PHI\",\"OKC\",\"TOR\",\"ATL\",\"LAC\",\"SAS\",\"LAL\",\"IND\",\"GSW\",\"CHI\",\"DET\",\"MIN\",\"MIL\",\"TOT\",\"TOR\",\"OKC\",\"DET\",\"NYK\",\"OKC\",\"BRK\",\"BRK\",\"TOT\",\"SAS\",\"MIL\",\"NOP\",\"TOT\",\"MIN\",\"DET\",\"BOS\",\"CHI\",\"BRK\",\"ORL\",\"UTA\",\"IND\",\"UTA\",\"MIN\",\"LAL\",\"GSW\",\"TOT\",\"TOT\",\"NOP\",\"LAL\",\"IND\",\"DET\",\"TOT\",\"TOT\",\"NYK\",\"DAL\",\"TOR\",\"IND\",\"SAC\",\"TOT\",\"PHI\",\"TOT\",\"ORL\",\"HOU\",\"MIA\",\"POR\",\"PHI\",\"MEM\",\"SAC\",\"LAL\",\"CHI\",\"TOT\",\"OKC\",\"DET\",\"TOT\",\"MIN\",\"TOT\",\"MIL\",\"NYK\",\"TOT\",\"UTA\",\"PHO\",\"HOU\",\"OKC\",\"PHO\",\"POR\",\"WAS\",\"BOS\",\"DEN\",\"TOT\",\"PHO\",\"MIN\",\"LAC\",\"TOT\",\"WAS\",\"DAL\",\"CHO\",\"BRK\",\"HOU\",\"TOT\",\"MIN\",\"ATL\",\"TOR\",\"WAS\",\"OKC\",\"MIL\",\"UTA\",\"NYK\",\"LAC\",\"CHO\",\"MIL\",\"GSW\",\"UTA\",\"BOS\",\"OKC\",\"MEM\",\"TOT\",\"MEM\",\"TOT\",\"OKC\",\"BOS\",\"ORL\",\"POR\",\"POR\",\"TOT\",\"BOS\",\"DET\",\"CHO\",\"CLE\",\"TOR\",\"HOU\"],\"x\":{\"__ndarray__\":\"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\",\"dtype\":\"float64\",\"shape\":[379]},\"y\":{\"__ndarray__\":\"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\",\"dtype\":\"float64\",\"shape\":[379]}}},\"id\":\"f87768a6-f405-4450-af7b-57987209265f\",\"type\":\"ColumnDataSource\"},{\"attributes\":{\"axis_label\":\"PSG\",\"formatter\":{\"id\":\"47684b38-88bc-4331-8b5d-9bba5acc18e0\",\"type\":\"BasicTickFormatter\"},\"plot\":{\"id\":\"cd91a1e3-4e89-4775-9b10-282804b01949\",\"subtype\":\"Figure\",\"type\":\"Plot\"},\"ticker\":{\"id\":\"f64837c9-5002-4161-a0f5-4d3f2ee05840\",\"type\":\"BasicTicker\"}},\"id\":\"9b41c530-d08f-4b35-a6d8-bccda58b2871\",\"type\":\"LinearAxis\"},{\"attributes\":{\"fill_alpha\":{\"value\":0.1},\"fill_color\":{\"value\":\"#1f77b4\"},\"line_alpha\":{\"value\":0.1},\"line_color\":{\"value\":\"#1f77b4\"},\"size\":{\"units\":\"screen\",\"value\":8},\"x\":{\"field\":\"x\"},\"y\":{\"field\":\"age\",\"transform\":{\"id\":\"2756e654-4f23-405c-8e18-86270bdf4e7c\",\"type\":\"Jitter\"}}},\"id\":\"06f8846f-1eb2-4a13-b8b5-374103a66671\",\"type\":\"Circle\"},{\"attributes\":{\"plot\":null,\"text\":\"log salary vs. PSG\"},\"id\":\"d426161c-74ec-4b3d-b54f-603517394598\",\"type\":\"Title\"},{\"attributes\":{\"below\":[{\"id\":\"9b41c530-d08f-4b35-a6d8-bccda58b2871\",\"type\":\"LinearAxis\"}],\"left\":[{\"id\":\"ecc55c18-50c6-4406-bca4-113cf1970b27\",\"type\":\"LinearAxis\"}],\"plot_height\":400,\"plot_width\":400,\"renderers\":[{\"id\":\"9b41c530-d08f-4b35-a6d8-bccda58b2871\",\"type\":\"LinearAxis\"},{\"id\":\"171012bd-748b-43d1-8b84-822d15043914\",\"type\":\"Grid\"},{\"id\":\"ecc55c18-50c6-4406-bca4-113cf1970b27\",\"type\":\"LinearAxis\"},{\"id\":\"4c5aad6a-14b3-468e-9d84-29f1a1133bf8\",\"type\":\"Grid\"},{\"id\":\"391716c4-81e9-4870-aa20-2e279e871cc9\",\"type\":\"GlyphRenderer\"}],\"title\":{\"id\":\"d426161c-74ec-4b3d-b54f-603517394598\",\"type\":\"Title\"},\"tool_events\":{\"id\":\"f0c38f96-a4f8-4f24-a05a-c8e4b3275905\",\"type\":\"ToolEvents\"},\"toolbar\":{\"id\":\"087556ac-262c-4d9c-a5fa-59f27a3d90a8\",\"type\":\"Toolbar\"},\"x_range\":{\"id\":\"944460e6-2b0b-409b-9236-694c5374feeb\",\"type\":\"DataRange1d\"},\"y_range\":{\"id\":\"c09a3aca-7a4f-4913-9979-76b493b8a83e\",\"type\":\"DataRange1d\"}},\"id\":\"cd91a1e3-4e89-4775-9b10-282804b01949\",\"subtype\":\"Figure\",\"type\":\"Plot\"},{\"attributes\":{\"plot\":{\"id\":\"cd91a1e3-4e89-4775-9b10-282804b01949\",\"subtype\":\"Figure\",\"type\":\"Plot\"}},\"id\":\"eae3a0f5-de0f-4478-90dd-4955ed1020de\",\"type\":\"ZoomInTool\"}],\"root_ids\":[\"cd91a1e3-4e89-4775-9b10-282804b01949\"]},\"title\":\"Bokeh Application\",\"version\":\"0.12.5\"}};\n",
       "            var render_items = [{\"docid\":\"b6f33b30-cad5-480b-bf89-40f31ab3c387\",\"elementid\":\"b226fdec-f6ba-43c9-81b1-5fad2ca77d96\",\"modelid\":\"cd91a1e3-4e89-4775-9b10-282804b01949\"}];\n",
       "            \n",
       "            Bokeh.embed.embed_items(docs_json, render_items);\n",
       "          };\n",
       "          if (document.readyState != \"loading\") fn();\n",
       "          else document.addEventListener(\"DOMContentLoaded\", fn);\n",
       "        })();\n",
       "      },\n",
       "      function(Bokeh) {\n",
       "      }\n",
       "    ];\n",
       "  \n",
       "    function run_inline_js() {\n",
       "      \n",
       "      if ((window.Bokeh !== undefined) || (force === true)) {\n",
       "        for (var i = 0; i < inline_js.length; i++) {\n",
       "          inline_js[i](window.Bokeh);\n",
       "        }if (force === true) {\n",
       "          display_loaded();\n",
       "        }} else if (Date.now() < window._bokeh_timeout) {\n",
       "        setTimeout(run_inline_js, 100);\n",
       "      } else if (!window._bokeh_failed_load) {\n",
       "        console.log(\"Bokeh: BokehJS failed to load within specified timeout.\");\n",
       "        window._bokeh_failed_load = true;\n",
       "      } else if (force !== true) {\n",
       "        var cell = $(document.getElementById(\"b226fdec-f6ba-43c9-81b1-5fad2ca77d96\")).parents('.cell').data().cell;\n",
       "        cell.output_area.append_execute_result(NB_LOAD_WARNING)\n",
       "      }\n",
       "  \n",
       "    }\n",
       "  \n",
       "    if (window._bokeh_is_loading === 0) {\n",
       "      console.log(\"Bokeh: BokehJS loaded, going straight to plotting\");\n",
       "      run_inline_js();\n",
       "    } else {\n",
       "      load_libs(js_urls, function() {\n",
       "        console.log(\"Bokeh: BokehJS plotting callback run at\", now());\n",
       "        run_inline_js();\n",
       "      });\n",
       "    }\n",
       "  }(this));\n",
       "</script>"
      ]
     },
     "metadata": {},
=======
       "<div class=\"bk-root\">\n",
       "    <div class=\"bk-plotdiv\" id=\"72763ab5-ceef-4f62-9ce6-b1b39fdcb23a\"></div>\n",
       "</div>"
      ]
     },
     "metadata": {},
     "output_type": "display_data"
    },
    {
     "data": {
      "application/javascript": [
       "(function(root) {\n",
       "  function embed_document(root) {\n",
       "    var docs_json = {\"3a8c7294-2643-45b9-85c7-ea8db86ba197\":{\"roots\":{\"references\":[{\"attributes\":{\"axis_label\":\"PSG\",\"formatter\":{\"id\":\"364f2663-1087-433d-bf57-4225bddc772c\",\"type\":\"BasicTickFormatter\"},\"plot\":{\"id\":\"990777ba-e1ea-4ed5-b4d9-4bbfed4ed721\",\"subtype\":\"Figure\",\"type\":\"Plot\"},\"ticker\":{\"id\":\"29b4a511-ec81-46e8-8571-cf8cf994c29c\",\"type\":\"BasicTicker\"}},\"id\":\"b5aacf21-4f05-4c46-a9a0-26910cfbd8dc\",\"type\":\"LinearAxis\"},{\"attributes\":{},\"id\":\"dc7c56d7-f4ae-4653-b56c-1430dda34a93\",\"type\":\"ZoomInTool\"},{\"attributes\":{},\"id\":\"4031462a-0347-479a-9a4d-20c19cb9a556\",\"type\":\"PanTool\"},{\"attributes\":{\"callback\":null,\"tabs\":[{\"id\":\"c018b740-14cd-458f-89d4-204b9a1e07a7\",\"type\":\"Panel\"},{\"id\":\"684e4957-5af3-40d5-a7d4-5744a603715b\",\"type\":\"Panel\"}]},\"id\":\"266ff7e0-efdf-462a-867c-0a3902642fb8\",\"type\":\"Tabs\"},{\"attributes\":{},\"id\":\"ade370b6-6944-4306-81f9-19722eaf22b9\",\"type\":\"BasicTickFormatter\"},{\"attributes\":{},\"id\":\"3c2bca39-1571-4bd5-864d-8f7e73d7e91e\",\"type\":\"LinearScale\"},{\"attributes\":{\"label\":{\"field\":\"positions\"},\"renderers\":[{\"id\":\"b464c739-9fca-4882-b76e-5a0790972e9b\",\"type\":\"GlyphRenderer\"}]},\"id\":\"8043fffb-178e-4355-88b8-7dad6a9681d1\",\"type\":\"LegendItem\"},{\"attributes\":{},\"id\":\"b8a28c56-b5b8-4c72-8b80-c1cd36f2f25f\",\"type\":\"LinearScale\"},{\"attributes\":{\"fill_alpha\":{\"value\":0.1},\"fill_color\":{\"value\":\"#1f77b4\"},\"line_alpha\":{\"value\":0.1},\"line_color\":{\"value\":\"#1f77b4\"},\"size\":{\"units\":\"screen\",\"value\":12},\"x\":{\"field\":\"PSG\"},\"y\":{\"field\":\"y\"}},\"id\":\"28c23fac-07a9-4782-ab96-fa444c89eb93\",\"type\":\"Circle\"},{\"attributes\":{\"callback\":null},\"id\":\"7ff3da83-048e-429e-b47c-85b2899e4f01\",\"type\":\"DataRange1d\"},{\"attributes\":{\"callback\":null},\"id\":\"feb97d95-b0d3-44bf-9a91-64f8b843b2f0\",\"type\":\"DataRange1d\"},{\"attributes\":{\"active_drag\":\"auto\",\"active_inspect\":\"auto\",\"active_scroll\":\"auto\",\"active_tap\":\"auto\",\"tools\":[{\"id\":\"a6f55fbb-820f-4121-b945-3a377c8eeed7\",\"type\":\"HoverTool\"},{\"id\":\"8ee7b21e-7fba-4da9-9c44-8bddd7b66d69\",\"type\":\"BoxZoomTool\"},{\"id\":\"4031462a-0347-479a-9a4d-20c19cb9a556\",\"type\":\"PanTool\"},{\"id\":\"112741c5-2d20-49ce-8b7d-46aab2bd877c\",\"type\":\"ZoomInTool\"},{\"id\":\"b4096753-12c2-4d5e-a61c-46a1ff97b7e9\",\"type\":\"ZoomOutTool\"}]},\"id\":\"9d0d6b7a-32c1-4d30-b00b-92447b53a2ba\",\"type\":\"Toolbar\"},{\"attributes\":{},\"id\":\"acae65e3-17cf-42ac-b7bf-29c878aa45ed\",\"type\":\"BasicTickFormatter\"},{\"attributes\":{\"source\":{\"id\":\"2287c6ca-2a65-4ef8-b286-defa1f1db728\",\"type\":\"ColumnDataSource\"}},\"id\":\"5bc113e5-255a-41cd-9df0-72259326bab2\",\"type\":\"CDSView\"},{\"attributes\":{\"callback\":null},\"id\":\"257baaf6-0170-4e0b-80b4-093a44a10ec9\",\"type\":\"DataRange1d\"},{\"attributes\":{\"items\":[{\"id\":\"8043fffb-178e-4355-88b8-7dad6a9681d1\",\"type\":\"LegendItem\"}],\"location\":\"bottom_right\",\"plot\":{\"id\":\"167807d8-a5df-4aeb-9fd1-8cb7259c6d5c\",\"subtype\":\"Figure\",\"type\":\"Plot\"}},\"id\":\"9db6da46-a256-4b22-a464-ef8c7cca703f\",\"type\":\"Legend\"},{\"attributes\":{\"factors\":[\"PG\",\"SG\",\"SF\",\"C\",\"SF\",\"PG\",\"PF\",\"SG\",\"PG\",\"SF\",\"PG\",\"SG\",\"SF\",\"PF\",\"SF\",\"SG\",\"PG\",\"SG\",\"SF\",\"PG\",\"PG\",\"SF\",\"PG\",\"SG\",\"SF\",\"PG\",\"PF\",\"SG\",\"PG\",\"PF\",\"C\",\"SG\",\"C\",\"PF\",\"SF\",\"C\",\"SG\",\"SF\",\"PF\",\"PG\",\"PG\",\"C\",\"C\",\"PG\",\"SG\",\"C\",\"PF\",\"SG\",\"PG\",\"SF\",\"PG\",\"PF\",\"SG\",\"SG\",\"SG\",\"PF\",\"SF\",\"PF\",\"SG\",\"SG\",\"SG\",\"PF\",\"SG\",\"SF\",\"C\",\"PG\",\"PF\",\"PG\",\"PG\",\"PF\",\"SG\",\"SG\",\"SG\",\"C\",\"SF\",\"C\",\"SG\",\"PG\",\"SG\",\"SF\",\"SF\",\"PG\",\"PG\",\"C\",\"SF\",\"C\",\"SF\",\"PF\",\"PF\",\"PF\",\"SG\",\"SF\",\"PF\",\"C\",\"PF\",\"PG\",\"PG\",\"SF\",\"SF\",\"PF\",\"SF\",\"SF\",\"SG\",\"PF\",\"SF\",\"PG\",\"SF\",\"PF\",\"SF\",\"SG\",\"C\",\"SG\",\"SF\",\"PG\",\"PG\",\"PG\",\"PG\",\"PG\",\"SF\",\"SG\",\"PF\",\"PG\",\"C\",\"PF\",\"C\",\"SF\",\"SG\",\"C\",\"PG\",\"SF\",\"C\",\"C\",\"PG\",\"SF\",\"PG\",\"PF\",\"SG\",\"SG\",\"SF\",\"SG\",\"SG\",\"SG\",\"PG\",\"SF\",\"C\",\"SG\",\"PF\",\"PF\",\"SG\",\"C\",\"C\",\"PG\",\"C\",\"PG\",\"SG\",\"PG\",\"C\",\"SG\",\"PG\",\"SG\",\"SG\",\"PF\",\"PF\",\"C\",\"C\",\"PF\",\"PG\",\"C\",\"PF\",\"SG\",\"SG\",\"PF\",\"PG\",\"SF\",\"C\",\"PF\",\"PG\",\"SF\",\"C\",\"SF\",\"PF\",\"C\",\"PF\",\"SG\",\"PF\",\"SG\",\"PG\",\"PG\",\"PG\",\"PG\",\"PF\",\"PG\",\"PF\",\"PF\",\"PG\",\"SG\",\"SF\",\"SG\",\"PF\",\"SF\",\"C\",\"SF\",\"SF\",\"SG\",\"C\",\"PG\",\"C\",\"PF\",\"SF\",\"C\",\"C\",\"C\",\"C\",\"SF\",\"PF\",\"PG\",\"PF\",\"PF\",\"PF\",\"C\",\"C\",\"SG\",\"SG\",\"PF\",\"PF\",\"SG\",\"PF\",\"SF\",\"SF\",\"SF\",\"C\",\"PG\",\"C\",\"SF\",\"PF\",\"PF\",\"SF\",\"PF-C\",\"SF\",\"PF\",\"SF\",\"C\",\"C\",\"PF\",\"PF\",\"SG\",\"C\",\"PG\",\"SF\",\"SG\",\"PG\",\"PF\",\"PG\",\"SG\",\"SG\",\"PG\",\"PF\",\"SG\",\"SG\",\"C\",\"C\",\"C\",\"PF\",\"PF\",\"C\",\"SF\",\"PF\",\"PF\",\"C\",\"SF\",\"PF\",\"PG\",\"PG\",\"PF\",\"SG\",\"PF\",\"PF\",\"PG\",\"SF\",\"PG\",\"SF\",\"PG\",\"C\",\"PG\",\"PF\",\"C\",\"PF\",\"PG\",\"C\",\"SF\",\"SF\",\"PG\",\"PF\",\"SG\",\"SF\",\"SG\",\"C\",\"SF\",\"PF\",\"SG\",\"PG\",\"C\",\"C\",\"SF\",\"PG\",\"PG\",\"SF\",\"SG\",\"PG\",\"PG\",\"PG\",\"PF\",\"PF\",\"PF\",\"PF\",\"SG\",\"SG\",\"C\",\"C\",\"C\",\"SF\",\"SF\",\"PG\",\"PF\",\"C\",\"SG\",\"SF\",\"PG\",\"SF\",\"PF\",\"PG\",\"PF\",\"PF\",\"C\",\"PF\",\"SG\",\"SF\",\"C\",\"PG\",\"PF\",\"PG\",\"SG-SF\",\"SF\",\"SF\",\"PF\",\"SF\",\"SF\",\"PF\",\"SF\",\"C\",\"C\",\"C\",\"PF\",\"PF\",\"C\",\"PF\",\"C\",\"PG\",\"SF\",\"PF\",\"SG\",\"PG\",\"C\",\"PG\",\"SG\",\"PG\",\"PG\",\"PF\",\"PF\",\"PG\",\"SG\",\"SG\",\"PG\",\"SG\",\"C\",\"SG\",\"C\",\"SF\",\"SF\"],\"palette\":[\"#000003\",\"#2B115E\",\"#711F81\",\"#B53679\",\"#F0605D\",\"#FEAE76\",\"#FBFCBF\"]},\"id\":\"ab9687c7-e527-492e-a3a0-3b6be1fe3878\",\"type\":\"CategoricalColorMapper\"},{\"attributes\":{\"child\":{\"id\":\"990777ba-e1ea-4ed5-b4d9-4bbfed4ed721\",\"subtype\":\"Figure\",\"type\":\"Plot\"},\"title\":\"PSG\"},\"id\":\"c018b740-14cd-458f-89d4-204b9a1e07a7\",\"type\":\"Panel\"},{\"attributes\":{\"dimension\":1,\"plot\":{\"id\":\"167807d8-a5df-4aeb-9fd1-8cb7259c6d5c\",\"subtype\":\"Figure\",\"type\":\"Plot\"},\"ticker\":{\"id\":\"b71a35ed-43e4-40c5-a105-37667b247225\",\"type\":\"BasicTicker\"}},\"id\":\"b8c54cd4-e862-433e-ab29-3c9fae9d96b7\",\"type\":\"Grid\"},{\"attributes\":{\"plot\":null,\"text\":\"PSG and Age vs LogSalary in NBA\"},\"id\":\"1e8f92cd-d33b-43df-9450-f22452e75694\",\"type\":\"Title\"},{\"attributes\":{},\"id\":\"d45ddb03-7216-449f-a1bc-1796a981aa1b\",\"type\":\"BasicTicker\"},{\"attributes\":{\"fill_color\":{\"field\":\"positions\",\"transform\":{\"id\":\"f254b2a4-5577-49df-a30f-23826481bd9c\",\"type\":\"CategoricalColorMapper\"}},\"line_color\":{\"field\":\"positions\",\"transform\":{\"id\":\"f254b2a4-5577-49df-a30f-23826481bd9c\",\"type\":\"CategoricalColorMapper\"}},\"size\":{\"units\":\"screen\",\"value\":12},\"x\":{\"field\":\"PSG\"},\"y\":{\"field\":\"y\"}},\"id\":\"afc1535f-e20d-4e6a-80c5-93bf9a198a71\",\"type\":\"Circle\"},{\"attributes\":{\"data_source\":{\"id\":\"2287c6ca-2a65-4ef8-b286-defa1f1db728\",\"type\":\"ColumnDataSource\"},\"glyph\":{\"id\":\"afc1535f-e20d-4e6a-80c5-93bf9a198a71\",\"type\":\"Circle\"},\"hover_glyph\":null,\"muted_glyph\":null,\"nonselection_glyph\":{\"id\":\"28c23fac-07a9-4782-ab96-fa444c89eb93\",\"type\":\"Circle\"},\"selection_glyph\":null,\"view\":{\"id\":\"2dc51a4f-cae8-4261-8efd-e2e7b62d4925\",\"type\":\"CDSView\"}},\"id\":\"381e7014-6c37-4c70-ba76-8eb5f39c6eff\",\"type\":\"GlyphRenderer\"},{\"attributes\":{\"dimension\":1,\"plot\":{\"id\":\"990777ba-e1ea-4ed5-b4d9-4bbfed4ed721\",\"subtype\":\"Figure\",\"type\":\"Plot\"},\"ticker\":{\"id\":\"d45ddb03-7216-449f-a1bc-1796a981aa1b\",\"type\":\"BasicTicker\"}},\"id\":\"2d58b250-6aff-4208-8b80-98bdf07f49a9\",\"type\":\"Grid\"},{\"attributes\":{},\"id\":\"112741c5-2d20-49ce-8b7d-46aab2bd877c\",\"type\":\"ZoomInTool\"},{\"attributes\":{},\"id\":\"b4096753-12c2-4d5e-a61c-46a1ff97b7e9\",\"type\":\"ZoomOutTool\"},{\"attributes\":{},\"id\":\"3321d5d7-ccf3-4665-a7f2-c59a3fe741d4\",\"type\":\"LinearScale\"},{\"attributes\":{\"below\":[{\"id\":\"40ff5a74-cb57-4d2c-9ab0-0093af0164fc\",\"type\":\"LinearAxis\"}],\"left\":[{\"id\":\"0f88a758-ca9e-4f91-9b23-c4e119be8cf5\",\"type\":\"LinearAxis\"}],\"plot_width\":800,\"renderers\":[{\"id\":\"40ff5a74-cb57-4d2c-9ab0-0093af0164fc\",\"type\":\"LinearAxis\"},{\"id\":\"929f8b92-6daf-4e09-9a4f-a5de2ea66537\",\"type\":\"Grid\"},{\"id\":\"0f88a758-ca9e-4f91-9b23-c4e119be8cf5\",\"type\":\"LinearAxis\"},{\"id\":\"b8c54cd4-e862-433e-ab29-3c9fae9d96b7\",\"type\":\"Grid\"},{\"id\":\"b8b466eb-b821-44e8-8cda-acc4e92e69a6\",\"type\":\"BoxAnnotation\"},{\"id\":\"9db6da46-a256-4b22-a464-ef8c7cca703f\",\"type\":\"Legend\"},{\"id\":\"b464c739-9fca-4882-b76e-5a0790972e9b\",\"type\":\"GlyphRenderer\"}],\"title\":{\"id\":\"1e8f92cd-d33b-43df-9450-f22452e75694\",\"type\":\"Title\"},\"toolbar\":{\"id\":\"d7b0bb98-3e30-481b-ae0e-4a5a372f565a\",\"type\":\"Toolbar\"},\"x_range\":{\"id\":\"feb97d95-b0d3-44bf-9a91-64f8b843b2f0\",\"type\":\"DataRange1d\"},\"x_scale\":{\"id\":\"3c2bca39-1571-4bd5-864d-8f7e73d7e91e\",\"type\":\"LinearScale\"},\"y_range\":{\"id\":\"7ff3da83-048e-429e-b47c-85b2899e4f01\",\"type\":\"DataRange1d\"},\"y_scale\":{\"id\":\"6ca50577-27cf-47cd-825f-275993c430fc\",\"type\":\"LinearScale\"}},\"id\":\"167807d8-a5df-4aeb-9fd1-8cb7259c6d5c\",\"subtype\":\"Figure\",\"type\":\"Plot\"},{\"attributes\":{},\"id\":\"ef52083c-770a-4f66-9e02-9b48f38179e9\",\"type\":\"PanTool\"},{\"attributes\":{\"bottom_units\":\"screen\",\"fill_alpha\":{\"value\":0.5},\"fill_color\":{\"value\":\"lightgrey\"},\"left_units\":\"screen\",\"level\":\"overlay\",\"line_alpha\":{\"value\":1.0},\"line_color\":{\"value\":\"black\"},\"line_dash\":[4,4],\"line_width\":{\"value\":2},\"plot\":null,\"render_mode\":\"css\",\"right_units\":\"screen\",\"top_units\":\"screen\"},\"id\":\"b8b466eb-b821-44e8-8cda-acc4e92e69a6\",\"type\":\"BoxAnnotation\"},{\"attributes\":{\"bottom_units\":\"screen\",\"fill_alpha\":{\"value\":0.5},\"fill_color\":{\"value\":\"lightgrey\"},\"left_units\":\"screen\",\"level\":\"overlay\",\"line_alpha\":{\"value\":1.0},\"line_color\":{\"value\":\"black\"},\"line_dash\":[4,4],\"line_width\":{\"value\":2},\"plot\":null,\"render_mode\":\"css\",\"right_units\":\"screen\",\"top_units\":\"screen\"},\"id\":\"73e1f799-2585-44d4-9eeb-c3c234e6d189\",\"type\":\"BoxAnnotation\"},{\"attributes\":{\"fill_alpha\":{\"value\":0.1},\"fill_color\":{\"value\":\"#1f77b4\"},\"line_alpha\":{\"value\":0.1},\"line_color\":{\"value\":\"#1f77b4\"},\"size\":{\"units\":\"screen\",\"value\":12},\"x\":{\"field\":\"Age\",\"transform\":{\"id\":\"4ba5575f-424c-48f3-b33a-fe4dc540d6ab\",\"type\":\"Jitter\"}},\"y\":{\"field\":\"y\"}},\"id\":\"9916624a-a23f-4193-817d-745d40a0e119\",\"type\":\"Circle\"},{\"attributes\":{\"plot\":{\"id\":\"167807d8-a5df-4aeb-9fd1-8cb7259c6d5c\",\"subtype\":\"Figure\",\"type\":\"Plot\"},\"ticker\":{\"id\":\"e371712d-2297-48d3-a52a-739e31e680d7\",\"type\":\"BasicTicker\"}},\"id\":\"929f8b92-6daf-4e09-9a4f-a5de2ea66537\",\"type\":\"Grid\"},{\"attributes\":{\"overlay\":{\"id\":\"b8b466eb-b821-44e8-8cda-acc4e92e69a6\",\"type\":\"BoxAnnotation\"}},\"id\":\"901864df-6589-4d9f-809c-3fa133967128\",\"type\":\"BoxZoomTool\"},{\"attributes\":{\"overlay\":{\"id\":\"73e1f799-2585-44d4-9eeb-c3c234e6d189\",\"type\":\"BoxAnnotation\"}},\"id\":\"8ee7b21e-7fba-4da9-9c44-8bddd7b66d69\",\"type\":\"BoxZoomTool\"},{\"attributes\":{},\"id\":\"b71a35ed-43e4-40c5-a105-37667b247225\",\"type\":\"BasicTicker\"},{\"attributes\":{\"plot\":null,\"text\":\"PSG and Age vs LogSalary in NBA\"},\"id\":\"cb721ef0-5029-4b24-94ca-54ef51aaa2f3\",\"type\":\"Title\"},{\"attributes\":{\"fill_color\":{\"field\":\"positions\",\"transform\":{\"id\":\"ab9687c7-e527-492e-a3a0-3b6be1fe3878\",\"type\":\"CategoricalColorMapper\"}},\"line_color\":{\"field\":\"positions\",\"transform\":{\"id\":\"ab9687c7-e527-492e-a3a0-3b6be1fe3878\",\"type\":\"CategoricalColorMapper\"}},\"size\":{\"units\":\"screen\",\"value\":12},\"x\":{\"field\":\"Age\",\"transform\":{\"id\":\"4ba5575f-424c-48f3-b33a-fe4dc540d6ab\",\"type\":\"Jitter\"}},\"y\":{\"field\":\"y\"}},\"id\":\"0b72027c-76e8-4985-b600-f4ca07d6f830\",\"type\":\"Circle\"},{\"attributes\":{},\"id\":\"6ca50577-27cf-47cd-825f-275993c430fc\",\"type\":\"LinearScale\"},{\"attributes\":{\"range\":{\"id\":\"feb97d95-b0d3-44bf-9a91-64f8b843b2f0\",\"type\":\"DataRange1d\"},\"width\":0.1},\"id\":\"4ba5575f-424c-48f3-b33a-fe4dc540d6ab\",\"type\":\"Jitter\"},{\"attributes\":{\"factors\":[\"PG\",\"SG\",\"SF\",\"C\",\"SF\",\"PG\",\"PF\",\"SG\",\"PG\",\"SF\",\"PG\",\"SG\",\"SF\",\"PF\",\"SF\",\"SG\",\"PG\",\"SG\",\"SF\",\"PG\",\"PG\",\"SF\",\"PG\",\"SG\",\"SF\",\"PG\",\"PF\",\"SG\",\"PG\",\"PF\",\"C\",\"SG\",\"C\",\"PF\",\"SF\",\"C\",\"SG\",\"SF\",\"PF\",\"PG\",\"PG\",\"C\",\"C\",\"PG\",\"SG\",\"C\",\"PF\",\"SG\",\"PG\",\"SF\",\"PG\",\"PF\",\"SG\",\"SG\",\"SG\",\"PF\",\"SF\",\"PF\",\"SG\",\"SG\",\"SG\",\"PF\",\"SG\",\"SF\",\"C\",\"PG\",\"PF\",\"PG\",\"PG\",\"PF\",\"SG\",\"SG\",\"SG\",\"C\",\"SF\",\"C\",\"SG\",\"PG\",\"SG\",\"SF\",\"SF\",\"PG\",\"PG\",\"C\",\"SF\",\"C\",\"SF\",\"PF\",\"PF\",\"PF\",\"SG\",\"SF\",\"PF\",\"C\",\"PF\",\"PG\",\"PG\",\"SF\",\"SF\",\"PF\",\"SF\",\"SF\",\"SG\",\"PF\",\"SF\",\"PG\",\"SF\",\"PF\",\"SF\",\"SG\",\"C\",\"SG\",\"SF\",\"PG\",\"PG\",\"PG\",\"PG\",\"PG\",\"SF\",\"SG\",\"PF\",\"PG\",\"C\",\"PF\",\"C\",\"SF\",\"SG\",\"C\",\"PG\",\"SF\",\"C\",\"C\",\"PG\",\"SF\",\"PG\",\"PF\",\"SG\",\"SG\",\"SF\",\"SG\",\"SG\",\"SG\",\"PG\",\"SF\",\"C\",\"SG\",\"PF\",\"PF\",\"SG\",\"C\",\"C\",\"PG\",\"C\",\"PG\",\"SG\",\"PG\",\"C\",\"SG\",\"PG\",\"SG\",\"SG\",\"PF\",\"PF\",\"C\",\"C\",\"PF\",\"PG\",\"C\",\"PF\",\"SG\",\"SG\",\"PF\",\"PG\",\"SF\",\"C\",\"PF\",\"PG\",\"SF\",\"C\",\"SF\",\"PF\",\"C\",\"PF\",\"SG\",\"PF\",\"SG\",\"PG\",\"PG\",\"PG\",\"PG\",\"PF\",\"PG\",\"PF\",\"PF\",\"PG\",\"SG\",\"SF\",\"SG\",\"PF\",\"SF\",\"C\",\"SF\",\"SF\",\"SG\",\"C\",\"PG\",\"C\",\"PF\",\"SF\",\"C\",\"C\",\"C\",\"C\",\"SF\",\"PF\",\"PG\",\"PF\",\"PF\",\"PF\",\"C\",\"C\",\"SG\",\"SG\",\"PF\",\"PF\",\"SG\",\"PF\",\"SF\",\"SF\",\"SF\",\"C\",\"PG\",\"C\",\"SF\",\"PF\",\"PF\",\"SF\",\"PF-C\",\"SF\",\"PF\",\"SF\",\"C\",\"C\",\"PF\",\"PF\",\"SG\",\"C\",\"PG\",\"SF\",\"SG\",\"PG\",\"PF\",\"PG\",\"SG\",\"SG\",\"PG\",\"PF\",\"SG\",\"SG\",\"C\",\"C\",\"C\",\"PF\",\"PF\",\"C\",\"SF\",\"PF\",\"PF\",\"C\",\"SF\",\"PF\",\"PG\",\"PG\",\"PF\",\"SG\",\"PF\",\"PF\",\"PG\",\"SF\",\"PG\",\"SF\",\"PG\",\"C\",\"PG\",\"PF\",\"C\",\"PF\",\"PG\",\"C\",\"SF\",\"SF\",\"PG\",\"PF\",\"SG\",\"SF\",\"SG\",\"C\",\"SF\",\"PF\",\"SG\",\"PG\",\"C\",\"C\",\"SF\",\"PG\",\"PG\",\"SF\",\"SG\",\"PG\",\"PG\",\"PG\",\"PF\",\"PF\",\"PF\",\"PF\",\"SG\",\"SG\",\"C\",\"C\",\"C\",\"SF\",\"SF\",\"PG\",\"PF\",\"C\",\"SG\",\"SF\",\"PG\",\"SF\",\"PF\",\"PG\",\"PF\",\"PF\",\"C\",\"PF\",\"SG\",\"SF\",\"C\",\"PG\",\"PF\",\"PG\",\"SG-SF\",\"SF\",\"SF\",\"PF\",\"SF\",\"SF\",\"PF\",\"SF\",\"C\",\"C\",\"C\",\"PF\",\"PF\",\"C\",\"PF\",\"C\",\"PG\",\"SF\",\"PF\",\"SG\",\"PG\",\"C\",\"PG\",\"SG\",\"PG\",\"PG\",\"PF\",\"PF\",\"PG\",\"SG\",\"SG\",\"PG\",\"SG\",\"C\",\"SG\",\"C\",\"SF\",\"SF\"],\"palette\":[\"#000003\",\"#2B115E\",\"#711F81\",\"#B53679\",\"#F0605D\",\"#FEAE76\",\"#FBFCBF\"]},\"id\":\"f254b2a4-5577-49df-a30f-23826481bd9c\",\"type\":\"CategoricalColorMapper\"},{\"attributes\":{\"axis_label\":\"Age\",\"formatter\":{\"id\":\"acae65e3-17cf-42ac-b7bf-29c878aa45ed\",\"type\":\"BasicTickFormatter\"},\"plot\":{\"id\":\"167807d8-a5df-4aeb-9fd1-8cb7259c6d5c\",\"subtype\":\"Figure\",\"type\":\"Plot\"},\"ticker\":{\"id\":\"e371712d-2297-48d3-a52a-739e31e680d7\",\"type\":\"BasicTicker\"}},\"id\":\"40ff5a74-cb57-4d2c-9ab0-0093af0164fc\",\"type\":\"LinearAxis\"},{\"attributes\":{\"axis_label\":\"Log Salary\",\"formatter\":{\"id\":\"7a314ed0-f8ac-4fc0-a554-54ead63570b2\",\"type\":\"BasicTickFormatter\"},\"plot\":{\"id\":\"167807d8-a5df-4aeb-9fd1-8cb7259c6d5c\",\"subtype\":\"Figure\",\"type\":\"Plot\"},\"ticker\":{\"id\":\"b71a35ed-43e4-40c5-a105-37667b247225\",\"type\":\"BasicTicker\"}},\"id\":\"0f88a758-ca9e-4f91-9b23-c4e119be8cf5\",\"type\":\"LinearAxis\"},{\"attributes\":{\"label\":{\"field\":\"positions\"},\"renderers\":[{\"id\":\"381e7014-6c37-4c70-ba76-8eb5f39c6eff\",\"type\":\"GlyphRenderer\"}]},\"id\":\"bf53459b-4101-4531-b690-6857b88fbb0d\",\"type\":\"LegendItem\"},{\"attributes\":{},\"id\":\"a0411d0d-0e33-43a3-9517-10783c69efce\",\"type\":\"ZoomOutTool\"},{\"attributes\":{\"below\":[{\"id\":\"b5aacf21-4f05-4c46-a9a0-26910cfbd8dc\",\"type\":\"LinearAxis\"}],\"left\":[{\"id\":\"47b5f622-c410-44c6-8063-d6958ed06871\",\"type\":\"LinearAxis\"}],\"plot_width\":800,\"renderers\":[{\"id\":\"b5aacf21-4f05-4c46-a9a0-26910cfbd8dc\",\"type\":\"LinearAxis\"},{\"id\":\"8ec06fe4-3046-40e5-bad8-e9420553888d\",\"type\":\"Grid\"},{\"id\":\"47b5f622-c410-44c6-8063-d6958ed06871\",\"type\":\"LinearAxis\"},{\"id\":\"2d58b250-6aff-4208-8b80-98bdf07f49a9\",\"type\":\"Grid\"},{\"id\":\"73e1f799-2585-44d4-9eeb-c3c234e6d189\",\"type\":\"BoxAnnotation\"},{\"id\":\"e2308eb4-9f80-42aa-b7c1-a20453acaa4c\",\"type\":\"Legend\"},{\"id\":\"381e7014-6c37-4c70-ba76-8eb5f39c6eff\",\"type\":\"GlyphRenderer\"}],\"title\":{\"id\":\"cb721ef0-5029-4b24-94ca-54ef51aaa2f3\",\"type\":\"Title\"},\"toolbar\":{\"id\":\"9d0d6b7a-32c1-4d30-b00b-92447b53a2ba\",\"type\":\"Toolbar\"},\"x_range\":{\"id\":\"e4753563-2079-42b7-8fa4-63af2bb1a3e8\",\"type\":\"DataRange1d\"},\"x_scale\":{\"id\":\"3321d5d7-ccf3-4665-a7f2-c59a3fe741d4\",\"type\":\"LinearScale\"},\"y_range\":{\"id\":\"257baaf6-0170-4e0b-80b4-093a44a10ec9\",\"type\":\"DataRange1d\"},\"y_scale\":{\"id\":\"b8a28c56-b5b8-4c72-8b80-c1cd36f2f25f\",\"type\":\"LinearScale\"}},\"id\":\"990777ba-e1ea-4ed5-b4d9-4bbfed4ed721\",\"subtype\":\"Figure\",\"type\":\"Plot\"},{\"attributes\":{\"data_source\":{\"id\":\"2287c6ca-2a65-4ef8-b286-defa1f1db728\",\"type\":\"ColumnDataSource\"},\"glyph\":{\"id\":\"0b72027c-76e8-4985-b600-f4ca07d6f830\",\"type\":\"Circle\"},\"hover_glyph\":null,\"muted_glyph\":null,\"nonselection_glyph\":{\"id\":\"9916624a-a23f-4193-817d-745d40a0e119\",\"type\":\"Circle\"},\"selection_glyph\":null,\"view\":{\"id\":\"5bc113e5-255a-41cd-9df0-72259326bab2\",\"type\":\"CDSView\"}},\"id\":\"b464c739-9fca-4882-b76e-5a0790972e9b\",\"type\":\"GlyphRenderer\"},{\"attributes\":{\"callback\":null,\"tooltips\":[[\"Player\",\"@players\"],[\"Team\",\"@team\"],[\"Position\",\"@positions\"],[\"Salary\",\"@salary\"],[\"Age\",\"$x\"]]},\"id\":\"1d48c36b-71f1-41c7-9af6-3c736209da14\",\"type\":\"HoverTool\"},{\"attributes\":{},\"id\":\"29b4a511-ec81-46e8-8571-cf8cf994c29c\",\"type\":\"BasicTicker\"},{\"attributes\":{\"callback\":null,\"column_names\":[\"salary\",\"players\",\"team\",\"y\",\"positions\",\"Age\",\"PSG\"],\"data\":{\"Age\":{\"__ndarray__\":\"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\",\"dtype\":\"float64\",\"shape\":[379]},\"PSG\":{\"__ndarray__\":\"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\",\"dtype\":\"float64\",\"shape\":[379]},\"players\":[\"Stephen Curry\",\"James Harden\",\"Kevin Durant\",\"DeMarcus Cousins\",\"LeBron James\",\"Damian Lillard\",\"Anthony Davis\",\"DeMar DeRozan\",\"Russell Westbrook\",\"Paul George\",\"Isaiah Thomas\",\"Klay Thompson\",\"Carmelo Anthony\",\"Blake Griffin\",\"Kawhi Leonard\",\"Jimmy Butler\",\"Kemba Walker\",\"C.J. McCollum\",\"Andrew Wiggins\",\"Eric Bledsoe\",\"John Wall\",\"Gordon Hayward\",\"Kyrie Irving\",\"Brandon Knight\",\"Danilo Gallinari\",\"Chris Paul\",\"Chris Bosh\",\"Dwyane Wade\",\"Reggie Jackson\",\"Dirk Nowitzki\",\"Karl-Anthony Towns\",\"Khris Middleton\",\"Nikola Vucevic\",\"LaMarcus Aldridge\",\"Kobe Bryant\",\"Jahlil Okafor\",\"Bradley Beal\",\"Rudy Gay\",\"Paul Millsap\",\"Giannis Antetokounmpo\",\"Jrue Holiday\",\"Marc Gasol\",\"Pau Gasol\",\"Derrick Rose\",\"J.J. Redick\",\"Andre Drummond\",\"Kevin Love\",\"Victor Oladipo\",\"Jeff Teague\",\"Evan Fournier\",\"Mike Conley\",\"Zach Randolph\",\"Avery Bradley\",\"Tyreke Evans\",\"Eric Gordon\",\"Thaddeus Young\",\"Nicolas Batum\",\"Tobias Harris\",\"Kentavious Caldwell-Pope\",\"Rodney Hood\",\"Will Barton\",\"Kristaps Porzingis\",\"Jamal Crawford\",\"Jae Crowder\",\"Hassan Whiteside\",\"Goran Dragic\",\"Jabari Parker\",\"Deron Williams\",\"Darren Collison\",\"Draymond Green\",\"Zach LaVine\",\"Devin Booker\",\"Monta Ellis\",\"Dwight Howard\",\"Chandler Parsons\",\"Marcin Gortat\",\"Alec Burks\",\"D'Angelo Russell\",\"Arron Afflalo\",\"Michael Beasley\",\"Robert Covington\",\"Jarrett Jack\",\"Emmanuel Mudiay\",\"Jonas Valanciunas\",\"Trevor Ariza\",\"Enes Kanter\",\"Michael Kidd-Gilchrist\",\"Serge Ibaka\",\"Kenneth Faried\",\"Luol Deng\",\"Gary Harris\",\"Joe Johnson\",\"Mirza Teletovic\",\"Al Jefferson\",\"Markieff Morris\",\"Tony Parker\",\"Rajon Rondo\",\"Omri Casspi\",\"C.J. Miles\",\"Nikola Mirotic\",\"Harrison Barnes\",\"Jeff Green\",\"Jeremy Lin\",\"Marvin Williams\",\"Kent Bazemore\",\"Michael Carter-Williams\",\"Jordan Hamilton\",\"Julius Randle\",\"Bojan Bogdanovic\",\"Sean Kilpatrick\",\"Nerlens Noel\",\"Isaiah Canaan\",\"DeMarre Carroll\",\"Dennis Schroder\",\"J.J. Barea\",\"Elfrid Payton\",\"Trey Burke\",\"Norris Cole\",\"Shabazz Muhammad\",\"Evan Turner\",\"Ersan Ilyasova\",\"Mario Chalmers\",\"Robin Lopez\",\"Jared Sullinger\",\"Myles Turner\",\"Al-Farouq Aminu\",\"Marco Belinelli\",\"Gorgui Dieng\",\"Ricky Rubio\",\"Matt Barnes\",\"Nikola Jokic\",\"Kelly Olynyk\",\"Patrick Beverley\",\"Terrence Ross\",\"Ramon Sessions\",\"Carl Landry\",\"Gary Neal\",\"Dion Waiters\",\"Jerami Grant\",\"Marcus Thornton\",\"Manu Ginobili\",\"Courtney Lee\",\"Raymond Felton\",\"Doug McDermott\",\"Ian Mahinmi\",\"Kevin Martin\",\"Aaron Gordon\",\"Nene Hilario\",\"Kyle Korver\",\"Rudy Gobert\",\"Mason Plumlee\",\"Marcus Smart\",\"Alex Len\",\"Archie Goodwin\",\"Austin Rivers\",\"Rodney Stuckey\",\"Jordan Hill\",\"Jeremy Lamb\",\"Toney Douglas\",\"Gerald Henderson\",\"Tyler Johnson\",\"Terrence Jones\",\"Luis Scola\",\"Cody Zeller\",\"Tim Duncan\",\"Taj Gibson\",\"Shelvin Mack\",\"Zaza Pachulia\",\"Jon Leuer\",\"Nik Stauskas\",\"Tony Allen\",\"Meyers Leonard\",\"Tony Wroten\",\"Lance Stephenson\",\"Jusuf Nurkic\",\"Lance Thomas\",\"Mo Williams\",\"Stanley Johnson\",\"Steven Adams\",\"P.J. Tucker\",\"Jared Dudley\",\"Joffrey Lauvergne\",\"David Lee\",\"Ben McLemore\",\"Tristan Thompson\",\"Wayne Ellington\",\"Jameer Nelson\",\"Jose Calderon\",\"Langston Galloway\",\"Devin Harris\",\"Darrell Arthur\",\"Matthew Dellavedova\",\"JaMychal Green\",\"Amir Johnson\",\"Shane Larkin\",\"Jodie Meeks\",\"Garrett Temple\",\"Nick Young\",\"Brandon Bass\",\"Corey Brewer\",\"Tyson Chandler\",\"Mike Dunleavy\",\"James Ennis\",\"Danny Green\",\"Jason Smith\",\"Aaron Brooks\",\"Marreese Speights\",\"David West\",\"Luke Babbitt\",\"Clint Capela\",\"Willie Cauley-Stein\",\"Festus Ezeli\",\"John Henson\",\"Andre Iguodala\",\"Bobby Portis\",\"Brandon Jennings\",\"Andrew Nicholson\",\"Patrick Patterson\",\"Brandan Wright\",\"Kosta Koufos\",\"Andrea Bargnani\",\"Vince Carter\",\"Josh Richardson\",\"Ed Davis\",\"Kris Humphries\",\"Leandro Barbosa\",\"Boris Diaw\",\"Maurice Harkless\",\"Thabo Sefolosha\",\"Justise Winslow\",\"Aron Baynes\",\"Shaun Livingston\",\"Timofey Mozgov\",\"P.J. Hairston\",\"Donatas Motiejunas\",\"Mike Scott\",\"Dante Cunningham\",\"Channing Frye\",\"Mario Hezonja\",\"Trey Lyles\",\"Paul Pierce\",\"Tyler Zeller\",\"Alexis Ajinca\",\"Spencer Hawes\",\"Trevor Booker\",\"Randy Foye\",\"Roy Hibbert\",\"Raul Neto\",\"Rondae Hollis-Jefferson\",\"Iman Shumpert\",\"Ty Lawson\",\"Jarell Martin\",\"Greivis Vasquez\",\"Troy Daniels\",\"Bryce Dejean-Jones\",\"Jerian Grant\",\"Richaun Holmes\",\"Anthony Morrow\",\"Norman Powell\",\"Tiago Splitter\",\"Cole Aldrich\",\"Boban Marjanovic\",\"Larry Nance Jr.\",\"Lavoy Allen\",\"Andrew Bogut\",\"Tony Snell\",\"Anthony Tolliver\",\"Nemanja Bjelica\",\"Miles Plumlee\",\"JaKarr Sampson\",\"James Johnson\",\"Cameron Payne\",\"Spencer Dinwiddie\",\"Kyle O'Quinn\",\"Andre Roberson\",\"Chris McCullough\",\"Willie Reed\",\"Beno Udrih\",\"Kyle Anderson\",\"Tyler Ennis\",\"Alonzo Gee\",\"Jordan McRae\",\"Nikola Pekovic\",\"Steve Blake\",\"Jonas Jerebko\",\"Joakim Noah\",\"Thomas Robinson\",\"C.J. Watson\",\"Jeff Withey\",\"Solomon Hill\",\"Joe Ingles\",\"Tyus Jones\",\"Ryan Kelly\",\"Brandon Rush\",\"Chase Budinger\",\"John Jenkins\",\"Omer Asik\",\"Anthony Brown\",\"Rakeem Christmas\",\"Darrun Hilliard\",\"Brian Roberts\",\"Chris Andersen\",\"Kevin Seraphin\",\"Justin Anderson\",\"Delon Wright\",\"Joe Young\",\"Caron Butler\",\"Orlando Johnson\",\"Kendall Marshall\",\"Andre Miller\",\"Shabazz Napier\",\"Montrezl Harrell\",\"Josh McRoberts\",\"Noah Vonleh\",\"Christian Wood\",\"Jordan Adams\",\"James Anderson\",\"Robert Sacre\",\"Cristiano Felicio\",\"Ryan Hollins\",\"Kyle Singler\",\"Reggie Bullock\",\"Phil Pressey\",\"Kevin Garnett\",\"Jason Thompson\",\"Rashad Vaughn\",\"Thanasis Antetokounmpo\",\"Kirk Hinrich\",\"Chris Johnson\",\"Alan Williams\",\"Andrew Goudelock\",\"Josh Huestis\",\"Cory Jefferson\",\"Chris Kaman\",\"Drew Gooden\",\"R.J. Hunter\",\"Kostas Papanikolaou\",\"Anderson Varejao\",\"Lorenzo Brown\",\"Adreian Payne\",\"Pablo Prigioni\",\"Sonny Weems\",\"Jarell Eddie\",\"Jeremy Evans\",\"Tyler Hansbrough\",\"Sergey Karasev\",\"K.J. McDaniels\",\"Steve Novak\",\"Damjan Rudez\",\"Walter Tavares\",\"Lucas Nogueira\",\"DeJuan Blair\",\"Nick Collison\",\"Chris Copeland\",\"Tibor Pleiss\",\"Lou Amundson\",\"Jeff Ayres\",\"Jorge Gutierrez\",\"Damien Inglis\",\"Kevon Looney\",\"Elijah Millsap\",\"Terry Rozier\",\"Nazr Mohammed\",\"Elliot Williams\",\"Jimmer Fredette\",\"Russ Smith\",\"Erick Green\",\"Mitch McGary\",\"Jordan Mickey\",\"Keith Appling\",\"Luis Montero\",\"Pat Connaughton\",\"Bryce Cotton\",\"James Young\",\"Joel Anthony\",\"Aaron Harrison\",\"Sasha Kaun\",\"Bruno Caboclo\",\"Sam Dekker\"],\"positions\":[\"PG\",\"SG\",\"SF\",\"C\",\"SF\",\"PG\",\"PF\",\"SG\",\"PG\",\"SF\",\"PG\",\"SG\",\"SF\",\"PF\",\"SF\",\"SG\",\"PG\",\"SG\",\"SF\",\"PG\",\"PG\",\"SF\",\"PG\",\"SG\",\"SF\",\"PG\",\"PF\",\"SG\",\"PG\",\"PF\",\"C\",\"SG\",\"C\",\"PF\",\"SF\",\"C\",\"SG\",\"SF\",\"PF\",\"PG\",\"PG\",\"C\",\"C\",\"PG\",\"SG\",\"C\",\"PF\",\"SG\",\"PG\",\"SF\",\"PG\",\"PF\",\"SG\",\"SG\",\"SG\",\"PF\",\"SF\",\"PF\",\"SG\",\"SG\",\"SG\",\"PF\",\"SG\",\"SF\",\"C\",\"PG\",\"PF\",\"PG\",\"PG\",\"PF\",\"SG\",\"SG\",\"SG\",\"C\",\"SF\",\"C\",\"SG\",\"PG\",\"SG\",\"SF\",\"SF\",\"PG\",\"PG\",\"C\",\"SF\",\"C\",\"SF\",\"PF\",\"PF\",\"PF\",\"SG\",\"SF\",\"PF\",\"C\",\"PF\",\"PG\",\"PG\",\"SF\",\"SF\",\"PF\",\"SF\",\"SF\",\"SG\",\"PF\",\"SF\",\"PG\",\"SF\",\"PF\",\"SF\",\"SG\",\"C\",\"SG\",\"SF\",\"PG\",\"PG\",\"PG\",\"PG\",\"PG\",\"SF\",\"SG\",\"PF\",\"PG\",\"C\",\"PF\",\"C\",\"SF\",\"SG\",\"C\",\"PG\",\"SF\",\"C\",\"C\",\"PG\",\"SF\",\"PG\",\"PF\",\"SG\",\"SG\",\"SF\",\"SG\",\"SG\",\"SG\",\"PG\",\"SF\",\"C\",\"SG\",\"PF\",\"PF\",\"SG\",\"C\",\"C\",\"PG\",\"C\",\"PG\",\"SG\",\"PG\",\"C\",\"SG\",\"PG\",\"SG\",\"SG\",\"PF\",\"PF\",\"C\",\"C\",\"PF\",\"PG\",\"C\",\"PF\",\"SG\",\"SG\",\"PF\",\"PG\",\"SF\",\"C\",\"PF\",\"PG\",\"SF\",\"C\",\"SF\",\"PF\",\"C\",\"PF\",\"SG\",\"PF\",\"SG\",\"PG\",\"PG\",\"PG\",\"PG\",\"PF\",\"PG\",\"PF\",\"PF\",\"PG\",\"SG\",\"SF\",\"SG\",\"PF\",\"SF\",\"C\",\"SF\",\"SF\",\"SG\",\"C\",\"PG\",\"C\",\"PF\",\"SF\",\"C\",\"C\",\"C\",\"C\",\"SF\",\"PF\",\"PG\",\"PF\",\"PF\",\"PF\",\"C\",\"C\",\"SG\",\"SG\",\"PF\",\"PF\",\"SG\",\"PF\",\"SF\",\"SF\",\"SF\",\"C\",\"PG\",\"C\",\"SF\",\"PF\",\"PF\",\"SF\",\"PF-C\",\"SF\",\"PF\",\"SF\",\"C\",\"C\",\"PF\",\"PF\",\"SG\",\"C\",\"PG\",\"SF\",\"SG\",\"PG\",\"PF\",\"PG\",\"SG\",\"SG\",\"PG\",\"PF\",\"SG\",\"SG\",\"C\",\"C\",\"C\",\"PF\",\"PF\",\"C\",\"SF\",\"PF\",\"PF\",\"C\",\"SF\",\"PF\",\"PG\",\"PG\",\"PF\",\"SG\",\"PF\",\"PF\",\"PG\",\"SF\",\"PG\",\"SF\",\"PG\",\"C\",\"PG\",\"PF\",\"C\",\"PF\",\"PG\",\"C\",\"SF\",\"SF\",\"PG\",\"PF\",\"SG\",\"SF\",\"SG\",\"C\",\"SF\",\"PF\",\"SG\",\"PG\",\"C\",\"C\",\"SF\",\"PG\",\"PG\",\"SF\",\"SG\",\"PG\",\"PG\",\"PG\",\"PF\",\"PF\",\"PF\",\"PF\",\"SG\",\"SG\",\"C\",\"C\",\"C\",\"SF\",\"SF\",\"PG\",\"PF\",\"C\",\"SG\",\"SF\",\"PG\",\"SF\",\"PF\",\"PG\",\"PF\",\"PF\",\"C\",\"PF\",\"SG\",\"SF\",\"C\",\"PG\",\"PF\",\"PG\",\"SG-SF\",\"SF\",\"SF\",\"PF\",\"SF\",\"SF\",\"PF\",\"SF\",\"C\",\"C\",\"C\",\"PF\",\"PF\",\"C\",\"PF\",\"C\",\"PG\",\"SF\",\"PF\",\"SG\",\"PG\",\"C\",\"PG\",\"SG\",\"PG\",\"PG\",\"PF\",\"PF\",\"PG\",\"SG\",\"SG\",\"PG\",\"SG\",\"C\",\"SG\",\"C\",\"SF\",\"SF\"],\"salary\":[11370786,15756438,20158622,15851950,22970500,4236287,7070730,10050000,16744218,17120106,6912869,15501000,22875000,18907726,16407500,16407500,12000000,2525160,5758680,13500000,15851950,15409570,16407501,13500000,14000000,21468695,22192730,20000000,13913044,8333334,5703600,14700000,11250000,19689000,25000000,4582680,5694674,12403101,18671659,1953960,10595507,19688000,7448760,20093064,7085000,3272091,19689000,5192520,8000000,2288205,9588426,9638555,7730337,10734586,15514031,11235955,13125306,16000000,2891760,1348440,3533333,4131720,5675000,6796117,981348,14783000,5152440,5378974,5013559,14260870,2148360,2127840,10300000,22359364,15361500,11217391,9463484,5103120,8000000,306527,1000000,6300000,3102240,4660482,8193030,16407500,6331404,12250000,11235955,10151612,1584480,261894,5500000,13500000,8000000,13437500,9500000,2836186,4394225,5543725,3873398,9650000,2139000,7000000,2000000,2399040,1015421,3132240,3425510,134215,3457800,947276,13600000,1763400,4290000,2505720,2658240,3036927,2056920,3425510,7900000,4300000,12650000,2569260,2357760,8042895,6060606,1474440,12700000,3542500,1300000,2165160,6486486,3553917,2170465,6500000,2139000,5138430,845059,200600,2814000,5675000,3950313,2380440,4000000,200600,4171680,13000000,5746479,1175880,1415520,3431040,3807120,1160160,3110796,7000000,4000000,3034356,1164858,6000000,845059,2489530,2900000,4204200,5250000,8500000,2433333,5200000,1035000,2869440,5158539,3075880,167406,9000000,1842000,1636842,2100000,2841960,2279040,5500000,4375000,1709719,2085671,3156600,14260870,1500000,4345000,7402812,845059,4053446,2814000,1147276,845059,12000000,1500000,6270000,1100602,5219169,3000000,8229375,13000000,4500000,845059,10000000,4300000,2250000,3815000,1499187,1100602,1242720,3398280,2008748,2943221,11710456,1391160,8344497,2380593,6268675,5464000,7700000,1362897,4088019,525093,6980802,1000000,2500000,7500000,2894059,4000000,2481720,6500000,5543725,4950000,1201440,2288205,3333333,2850000,8193029,3741480,2239800,3376000,2616975,4389607,6110034,4775000,3135000,15592217,900000,1335480,8988765,211744,1230840,6600000,947276,169883,1572360,1074169,3344000,650000,9756250,1100602,1200000,1155600,4050000,13800000,1535880,3000000,3950001,2109294,258489,2500000,2021520,845059,3750000,1210800,1140240,947276,2170465,1142880,1662360,1320000,111196,12100000,2170465,5000000,13400000,981348,5000000,947276,1358880,2050000,1282080,1724250,1270964,206192,981348,9213483,700000,1007026,600000,2854940,5000000,2814000,1449000,1509360,1007026,1449187,55722,2144772,250750,1294440,1000000,5543725,2637720,525093,1404600,1015421,981348,525093,239605,4500000,1252440,55722,8500000,245177,1733040,30888,2854940,981348,83397,200600,1140240,49709,5016000,3300000,1148640,800321,289755,111444,1938840,947726,2814000,561716,1100602,947276,1599840,3189794,295327,1149500,1000000,1842000,2000000,3750000,1150000,2900000,1635476,111444,189455,855000,1131960,845059,1824360,222888,55722,874837,845059,99418,1463040,1170960,61776,525093,625093,700902,1749840,2500000,525093,1276000,1524000,1646400],\"team\":[\"GSW\",\"HOU\",\"OKC\",\"SAC\",\"CLE\",\"POR\",\"NOP\",\"TOR\",\"OKC\",\"IND\",\"BOS\",\"GSW\",\"NYK\",\"LAC\",\"SAS\",\"CHI\",\"CHO\",\"POR\",\"MIN\",\"PHO\",\"WAS\",\"UTA\",\"CLE\",\"PHO\",\"DEN\",\"LAC\",\"MIA\",\"MIA\",\"DET\",\"DAL\",\"MIN\",\"MIL\",\"ORL\",\"SAS\",\"LAL\",\"PHI\",\"WAS\",\"SAC\",\"ATL\",\"MIL\",\"NOP\",\"MEM\",\"CHI\",\"CHI\",\"LAC\",\"DET\",\"CLE\",\"ORL\",\"ATL\",\"ORL\",\"MEM\",\"MEM\",\"BOS\",\"NOP\",\"NOP\",\"BRK\",\"CHO\",\"TOT\",\"DET\",\"UTA\",\"DEN\",\"NYK\",\"LAC\",\"BOS\",\"MIA\",\"MIA\",\"MIL\",\"DAL\",\"SAC\",\"GSW\",\"MIN\",\"PHO\",\"IND\",\"HOU\",\"DAL\",\"WAS\",\"UTA\",\"LAL\",\"NYK\",\"HOU\",\"PHI\",\"BRK\",\"DEN\",\"TOR\",\"HOU\",\"OKC\",\"CHO\",\"OKC\",\"DEN\",\"MIA\",\"DEN\",\"TOT\",\"PHO\",\"CHO\",\"TOT\",\"SAS\",\"SAC\",\"SAC\",\"IND\",\"CHI\",\"GSW\",\"TOT\",\"CHO\",\"CHO\",\"ATL\",\"MIL\",\"NOP\",\"LAL\",\"BRK\",\"TOT\",\"PHI\",\"PHI\",\"TOR\",\"ATL\",\"DAL\",\"ORL\",\"UTA\",\"NOP\",\"MIN\",\"BOS\",\"TOT\",\"TOT\",\"NYK\",\"BOS\",\"IND\",\"POR\",\"SAC\",\"MIN\",\"MIN\",\"MEM\",\"DEN\",\"BOS\",\"HOU\",\"TOR\",\"WAS\",\"PHI\",\"WAS\",\"OKC\",\"PHI\",\"TOT\",\"SAS\",\"TOT\",\"DAL\",\"CHI\",\"IND\",\"TOT\",\"ORL\",\"WAS\",\"ATL\",\"UTA\",\"POR\",\"BOS\",\"PHO\",\"PHO\",\"LAC\",\"IND\",\"IND\",\"CHO\",\"NOP\",\"POR\",\"MIA\",\"HOU\",\"TOR\",\"CHO\",\"SAS\",\"CHI\",\"TOT\",\"DAL\",\"PHO\",\"PHI\",\"MEM\",\"POR\",\"PHI\",\"TOT\",\"DEN\",\"NYK\",\"CLE\",\"DET\",\"OKC\",\"PHO\",\"WAS\",\"DEN\",\"TOT\",\"SAC\",\"CLE\",\"BRK\",\"DEN\",\"NYK\",\"NYK\",\"DAL\",\"DEN\",\"CLE\",\"MEM\",\"BOS\",\"BRK\",\"DET\",\"WAS\",\"LAL\",\"LAL\",\"HOU\",\"PHO\",\"CHI\",\"TOT\",\"SAS\",\"ORL\",\"CHI\",\"GSW\",\"SAS\",\"NOP\",\"HOU\",\"SAC\",\"GSW\",\"MIL\",\"GSW\",\"CHI\",\"TOT\",\"ORL\",\"TOR\",\"MEM\",\"SAC\",\"BRK\",\"MEM\",\"MIA\",\"POR\",\"TOT\",\"GSW\",\"SAS\",\"POR\",\"ATL\",\"MIA\",\"DET\",\"GSW\",\"CLE\",\"TOT\",\"HOU\",\"ATL\",\"NOP\",\"TOT\",\"ORL\",\"UTA\",\"LAC\",\"BOS\",\"NOP\",\"CHO\",\"UTA\",\"TOT\",\"LAL\",\"UTA\",\"BRK\",\"CLE\",\"TOT\",\"MEM\",\"MIL\",\"CHO\",\"NOP\",\"NYK\",\"PHI\",\"OKC\",\"TOR\",\"ATL\",\"LAC\",\"SAS\",\"LAL\",\"IND\",\"GSW\",\"CHI\",\"DET\",\"MIN\",\"MIL\",\"TOT\",\"TOR\",\"OKC\",\"DET\",\"NYK\",\"OKC\",\"BRK\",\"BRK\",\"TOT\",\"SAS\",\"MIL\",\"NOP\",\"TOT\",\"MIN\",\"DET\",\"BOS\",\"CHI\",\"BRK\",\"ORL\",\"UTA\",\"IND\",\"UTA\",\"MIN\",\"LAL\",\"GSW\",\"TOT\",\"TOT\",\"NOP\",\"LAL\",\"IND\",\"DET\",\"TOT\",\"TOT\",\"NYK\",\"DAL\",\"TOR\",\"IND\",\"SAC\",\"TOT\",\"PHI\",\"TOT\",\"ORL\",\"HOU\",\"MIA\",\"POR\",\"PHI\",\"MEM\",\"SAC\",\"LAL\",\"CHI\",\"TOT\",\"OKC\",\"DET\",\"TOT\",\"MIN\",\"TOT\",\"MIL\",\"NYK\",\"TOT\",\"UTA\",\"PHO\",\"HOU\",\"OKC\",\"PHO\",\"POR\",\"WAS\",\"BOS\",\"DEN\",\"TOT\",\"PHO\",\"MIN\",\"LAC\",\"TOT\",\"WAS\",\"DAL\",\"CHO\",\"BRK\",\"HOU\",\"TOT\",\"MIN\",\"ATL\",\"TOR\",\"WAS\",\"OKC\",\"MIL\",\"UTA\",\"NYK\",\"LAC\",\"CHO\",\"MIL\",\"GSW\",\"UTA\",\"BOS\",\"OKC\",\"MEM\",\"TOT\",\"MEM\",\"TOT\",\"OKC\",\"BOS\",\"ORL\",\"POR\",\"POR\",\"TOT\",\"BOS\",\"DET\",\"CHO\",\"CLE\",\"TOR\",\"HOU\"],\"y\":{\"__ndarray__\":\"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\",\"dtype\":\"float64\",\"shape\":[379]}}},\"id\":\"2287c6ca-2a65-4ef8-b286-defa1f1db728\",\"type\":\"ColumnDataSource\"},{\"attributes\":{\"items\":[{\"id\":\"bf53459b-4101-4531-b690-6857b88fbb0d\",\"type\":\"LegendItem\"}],\"location\":\"bottom_right\",\"plot\":{\"id\":\"990777ba-e1ea-4ed5-b4d9-4bbfed4ed721\",\"subtype\":\"Figure\",\"type\":\"Plot\"}},\"id\":\"e2308eb4-9f80-42aa-b7c1-a20453acaa4c\",\"type\":\"Legend\"},{\"attributes\":{\"callback\":null},\"id\":\"e4753563-2079-42b7-8fa4-63af2bb1a3e8\",\"type\":\"DataRange1d\"},{\"attributes\":{},\"id\":\"364f2663-1087-433d-bf57-4225bddc772c\",\"type\":\"BasicTickFormatter\"},{\"attributes\":{},\"id\":\"7a314ed0-f8ac-4fc0-a554-54ead63570b2\",\"type\":\"BasicTickFormatter\"},{\"attributes\":{\"plot\":{\"id\":\"990777ba-e1ea-4ed5-b4d9-4bbfed4ed721\",\"subtype\":\"Figure\",\"type\":\"Plot\"},\"ticker\":{\"id\":\"29b4a511-ec81-46e8-8571-cf8cf994c29c\",\"type\":\"BasicTicker\"}},\"id\":\"8ec06fe4-3046-40e5-bad8-e9420553888d\",\"type\":\"Grid\"},{\"attributes\":{\"source\":{\"id\":\"2287c6ca-2a65-4ef8-b286-defa1f1db728\",\"type\":\"ColumnDataSource\"}},\"id\":\"2dc51a4f-cae8-4261-8efd-e2e7b62d4925\",\"type\":\"CDSView\"},{\"attributes\":{\"callback\":null,\"tooltips\":[[\"Player\",\"@players\"],[\"Team\",\"@team\"],[\"Position\",\"@positions\"],[\"Salary\",\"@salary\"],[\"PSG\",\"$x\"]]},\"id\":\"a6f55fbb-820f-4121-b945-3a377c8eeed7\",\"type\":\"HoverTool\"},{\"attributes\":{\"child\":{\"id\":\"167807d8-a5df-4aeb-9fd1-8cb7259c6d5c\",\"subtype\":\"Figure\",\"type\":\"Plot\"},\"title\":\"Age\"},\"id\":\"684e4957-5af3-40d5-a7d4-5744a603715b\",\"type\":\"Panel\"},{\"attributes\":{\"active_drag\":\"auto\",\"active_inspect\":\"auto\",\"active_scroll\":\"auto\",\"active_tap\":\"auto\",\"tools\":[{\"id\":\"1d48c36b-71f1-41c7-9af6-3c736209da14\",\"type\":\"HoverTool\"},{\"id\":\"901864df-6589-4d9f-809c-3fa133967128\",\"type\":\"BoxZoomTool\"},{\"id\":\"ef52083c-770a-4f66-9e02-9b48f38179e9\",\"type\":\"PanTool\"},{\"id\":\"dc7c56d7-f4ae-4653-b56c-1430dda34a93\",\"type\":\"ZoomInTool\"},{\"id\":\"a0411d0d-0e33-43a3-9517-10783c69efce\",\"type\":\"ZoomOutTool\"}]},\"id\":\"d7b0bb98-3e30-481b-ae0e-4a5a372f565a\",\"type\":\"Toolbar\"},{\"attributes\":{},\"id\":\"e371712d-2297-48d3-a52a-739e31e680d7\",\"type\":\"BasicTicker\"},{\"attributes\":{\"axis_label\":\"Log Salary\",\"formatter\":{\"id\":\"ade370b6-6944-4306-81f9-19722eaf22b9\",\"type\":\"BasicTickFormatter\"},\"plot\":{\"id\":\"990777ba-e1ea-4ed5-b4d9-4bbfed4ed721\",\"subtype\":\"Figure\",\"type\":\"Plot\"},\"ticker\":{\"id\":\"d45ddb03-7216-449f-a1bc-1796a981aa1b\",\"type\":\"BasicTicker\"}},\"id\":\"47b5f622-c410-44c6-8063-d6958ed06871\",\"type\":\"LinearAxis\"}],\"root_ids\":[\"266ff7e0-efdf-462a-867c-0a3902642fb8\"]},\"title\":\"Bokeh Application\",\"version\":\"0.12.10\"}};\n",
       "    var render_items = [{\"docid\":\"3a8c7294-2643-45b9-85c7-ea8db86ba197\",\"elementid\":\"72763ab5-ceef-4f62-9ce6-b1b39fdcb23a\",\"modelid\":\"266ff7e0-efdf-462a-867c-0a3902642fb8\"}];\n",
       "\n",
       "    root.Bokeh.embed.embed_items(docs_json, render_items);\n",
       "  }\n",
       "\n",
       "  if (root.Bokeh !== undefined) {\n",
       "    embed_document(root);\n",
       "  } else {\n",
       "    var attempts = 0;\n",
       "    var timer = setInterval(function(root) {\n",
       "      if (root.Bokeh !== undefined) {\n",
       "        embed_document(root);\n",
       "        clearInterval(timer);\n",
       "      }\n",
       "      attempts++;\n",
       "      if (attempts > 100) {\n",
       "        console.log(\"Bokeh: ERROR: Unable to embed document because BokehJS library is missing\")\n",
       "        clearInterval(timer);\n",
       "      }\n",
       "    }, 10, root)\n",
       "  }\n",
       "})(window);"
      ],
      "application/vnd.bokehjs_exec.v0+json": ""
     },
     "metadata": {
      "application/vnd.bokehjs_exec.v0+json": {
       "id": "266ff7e0-efdf-462a-867c-0a3902642fb8"
      }
     },
>>>>>>> ac05724c854ce4026fe98ff5fac5ecc7dc28a73f
     "output_type": "display_data"
    }
   ],
   "source": [
    "output_notebook()\n",
<<<<<<< HEAD
    "\n",
    "source = ColumnDataSource(data=dict(\n",
    "    x=data['PSG'],\n",
    "    y=data['logsalary'],\n",
    "    player = data['Player'],\n",
    "    team = data['Tm'],\n",
    "    pos = data['Pos'],\n",
    "    salary = data['SALARY'],\n",
    "    age = data['Age'],\n",
    "))\n",
    "\n",
    "hover = HoverTool(tooltips=[\n",
    "    (\"Player\", \"@player\"),\n",
    "    (\"x\", \"$x\"),\n",
    "    (\"team\", \"@team\"),\n",
    "    (\"pos\", \"@pos\"),\n",
    "    (\"salary\",\"@salary\"),\n",
    "    (\"age\",'@age'),\n",
    "])\n",
    "\n",
    "p = figure(plot_width=400, plot_height=400, tools=[hover],\n",
    "           title=\"log salary vs. PSG\")\n",
    "p.xaxis.axis_label = 'PSG'\n",
    "p.yaxis.axis_label = 'log salary'\n",
    "p.add_tools(PanTool(),ZoomInTool(),ZoomOutTool())\n",
    "\n",
    "colormap = {'C': 'red', 'PF': 'green', 'PF-C': 'blue', 'PG':'orange','SF':'cyan','SG':'purple','SG-SF':'black'}\n",
    "colors = [colormap[x] for x in data['Pos']]\n",
    "\n",
    "# add slight horizontal jitter, width = 0.5\n",
    "p.circle(x='x', y={'field': \"age\", 'transform': Jitter(width=0.5)}, size=8, color=colors,source=source)\n",
    "\n",
    "show(p)\n"
   ]
  },
  {
   "cell_type": "code",
   "execution_count": null,
   "metadata": {},
   "outputs": [],
   "source": []
  },
  {
   "cell_type": "markdown",
   "metadata": {},
   "source": [
    "## Solution"
=======
    "def add_plot(x_values):\n",
    "    #first we define the hover\n",
    "    hover = HoverTool(tooltips=[(\"Player\", \"@players\"), (\"Team\", \"@team\"), (\n",
    "        \"Position\", \"@positions\"), (\"Salary\", \"@salary\"), (\n",
    "            x_values, '$x')])\n",
    "\n",
    "    p = figure(\n",
    "        plot_height=600,\n",
    "        plot_width=800,\n",
    "        tools=[hover, BoxZoomTool()],\n",
    "        title='PSG and Age vs LogSalary in NBA')\n",
    "\n",
    "    p.scatter(\n",
    "        x=jitter(x_values, width=0.1, range=p.x_range)\n",
    "        if x_values == 'Age' else x_values,\n",
    "        y='y',\n",
    "        source=source,\n",
    "        size=12,\n",
    "        legend=\"positions\",\n",
    "        color=factor_cmap('positions', palette= magma(7),factors=positions))\n",
    "    p.add_tools(PanTool(), ZoomInTool(), ZoomOutTool())\n",
    "\n",
    "    p.xaxis.axis_label = x_values\n",
    "    p.yaxis.axis_label = 'Log Salary'\n",
    "    p.legend.orientation = \"vertical\"\n",
    "    p.legend.location = \"bottom_right\"\n",
    "\n",
    "    return p\n",
    "\n",
    "\n",
    "tabs = Tabs(tabs=[\n",
    "    Panel(child=add_plot('PSG'), title=\"PSG\"),\n",
    "    Panel(child=add_plot('Age'), title='Age')\n",
    "])\n",
    "\n",
    "show(tabs)"
>>>>>>> ac05724c854ce4026fe98ff5fac5ecc7dc28a73f
   ]
  },
  {
   "cell_type": "markdown",
   "metadata": {},
   "source": [
    "# Question 3: Diabetes classification using support vector machines (4+3+3=10 pts) \n",
    "(a) Apply a linear SVM, using the scikit-SVM, for the Pima Indian Women diabetes detection problem on the dataset provided (details on dataset here  http://archive.ics.uci.edu/ml/datasets/Pima+Indians+Diabetes) . Specify how you chose the slack cost/penalty (‘C’ parameter)for the model. Maintain all other parameters as default. Hint: http://scikit-learn.org/stable/modules/generated/sklearn.grid_search.GridSearchCV.html will make 10-fold cross-validation easier.\n",
    "The code to get the training/testing data is provided below.\n",
    "\n",
    "(b) Repeat (a) but using a Gaussian radial basis kernel.\n",
    "\n",
    "(c) Summarize the comparative performance (mean error rates) of the classifiers. What do you conclude? (be brief)."
   ]
  },
  {
   "cell_type": "code",
<<<<<<< HEAD
   "execution_count": 18,
   "metadata": {
=======
   "execution_count": 22,
   "metadata": {
    "ExecuteTime": {
     "end_time": "2017-11-26T17:20:30.941332Z",
     "start_time": "2017-11-26T17:20:30.557295Z"
    },
>>>>>>> ac05724c854ce4026fe98ff5fac5ecc7dc28a73f
    "collapsed": true
   },
   "outputs": [],
   "source": [
    "import numpy as np\n",
    "import pandas as pd\n",
    "from sklearn.svm import SVC\n",
    "from sklearn import grid_search\n",
    "\n",
    "data_train = pd.read_csv('diabetes_train-log.csv')\n",
    "data_test = pd.read_csv('diabetes_test-log.csv')\n",
    "cols = ['numpreg', 'plasmacon', 'bloodpress', 'skinfold', 'seruminsulin', 'BMI', 'pedigreefunction', 'age']\n",
    "\n",
    "xtrain = np.asmatrix(data_train[cols])\n",
    "ytrain = np.asarray(data_train['classvariable']).T\n",
    "\n",
    "xtest = np.asmatrix(data_test[cols])\n",
    "ytest = np.asarray(data_test['classvariable']).T"
   ]
  },
  {
   "cell_type": "markdown",
   "metadata": {},
   "source": [
    "## SOLUTION"
   ]
  },
  {
   "cell_type": "markdown",
   "metadata": {
    "ExecuteTime": {
     "end_time": "2017-11-26T22:30:51.663737Z",
     "start_time": "2017-11-26T22:30:51.604396Z"
    }
   },
   "source": [
    "### A"
   ]
  },
  {
   "cell_type": "code",
<<<<<<< HEAD
   "execution_count": null,
   "metadata": {
    "collapsed": true
   },
   "outputs": [],
   "source": []
  },
  {
   "cell_type": "code",
   "execution_count": null,
   "metadata": {
    "collapsed": true
   },
   "outputs": [],
   "source": [
    "LinearSVC=SVC(C=0.1, kernel='linear')\n",
=======
   "execution_count": 26,
   "metadata": {
    "ExecuteTime": {
     "end_time": "2017-11-26T17:23:45.169484Z",
     "start_time": "2017-11-26T17:23:45.160293Z"
    }
   },
   "outputs": [],
   "source": [
    "from sklearn.metrics import fbeta_score, make_scorer\n",
    "def per_class_accuracy(ground_truth, prediction):\n",
    "    cm = confusion_matrix(ground_truth, prediction)\n",
    "    tp = float(cm[1][1])\n",
    "    tn = float(cm[0][0])\n",
    "    return (tp + tn) / len(ground_truth)\n",
    "my_scorer = make_scorer(per_class_accuracy, greater_is_better=True)"
   ]
  },
  {
   "cell_type": "code",
   "execution_count": 30,
   "metadata": {
    "ExecuteTime": {
     "end_time": "2017-11-26T17:29:12.604025Z",
     "start_time": "2017-11-26T17:29:03.144872Z"
    }
   },
   "outputs": [
    {
     "name": "stdout",
     "output_type": "stream",
     "text": [
      "Best C is  {'C': 1000}\n",
      "Best score is 0.72\n"
     ]
    }
   ],
   "source": [
    "LinearSVC = SVC(kernel='linear')\n",
    "tuned_parameters = {'C': [0.01, 0.1, 1, 10, 100,1000]}\n",
    "LinearSVCGS = GridSearchCV(\n",
    "    LinearSVC,\n",
    "    tuned_parameters,\n",
    "    scoring=my_scorer,\n",
    "    cv=10,\n",
    "    )\n",
    "\n",
    "LinearSVCGS.fit(xtrain, ytrain)\n",
    "print 'Best C is ',LinearSVCGS.best_params_\n",
    "print 'Best score is',LinearSVCGS.best_score_"
   ]
  },
  {
   "cell_type": "code",
   "execution_count": 59,
   "metadata": {
    "ExecuteTime": {
     "end_time": "2017-11-26T22:37:14.491959Z",
     "start_time": "2017-11-26T22:37:13.946356Z"
    }
   },
   "outputs": [
    {
     "data": {
      "text/plain": [
       "array([[218,  27],\n",
       "       [ 45,  67]])"
      ]
     },
     "execution_count": 59,
     "metadata": {},
     "output_type": "execute_result"
    }
   ],
   "source": [
    "LinearSVC=SVC(C=1000, kernel='linear')\n",
>>>>>>> ac05724c854ce4026fe98ff5fac5ecc7dc28a73f
    "LinearSVC.fit(xtrain, ytrain)\n",
    "ypredictedL = LinearSVC.predict(xtest)\n",
    "conf_matL = confusion_matrix(ytest, ypredictedL)\n",
    "conf_matL"
   ]
  },
  {
   "cell_type": "code",
<<<<<<< HEAD:HW5/MIS382-Fall17-HW5-11-26-Jack.ipynb
   "execution_count": 42,
   "metadata": {
    "ExecuteTime": {
     "end_time": "2017-11-26T22:33:43.644473Z",
     "start_time": "2017-11-26T22:33:43.636578Z"
    }
   },
   "outputs": [],
   "source": [
    "def get_accuracy(cm):\n",
    "    tp = float(cm[1][1])\n",
    "    tn = float(cm[0][0])\n",
    "    return (tp + tn) / (cm[0][0]+cm[1][0]+cm[1][1]+cm[0][1])"
   ]
  },
  {
   "cell_type": "code",
   "execution_count": 60,
   "metadata": {
    "ExecuteTime": {
     "end_time": "2017-11-26T22:37:18.649458Z",
     "start_time": "2017-11-26T22:37:18.643647Z"
    }
   },
   "outputs": [
    {
     "name": "stdout",
     "output_type": "stream",
     "text": [
      "With linear kernel, the rest set accuracy is 0.798319327731\n"
     ]
    }
   ],
   "source": [
    "print 'With linear kernel, the rest set accuracy is',get_accuracy(conf_matL)"
   ]
  },
  {
   "cell_type": "markdown",
   "metadata": {},
   "source": [
    "### B"
   ]
  },
  {
   "cell_type": "code",
=======
<<<<<<< HEAD
=======
>>>>>>> origin/master:HW5/.ipynb_checkpoints/MIS382-Fall17-HW5-11-24-jianjie-checkpoint.ipynb
   "execution_count": 37,
   "metadata": {
    "ExecuteTime": {
     "end_time": "2017-11-26T17:31:21.992131Z",
     "start_time": "2017-11-26T17:31:20.867385Z"
    }
   },
   "outputs": [
    {
     "name": "stdout",
     "output_type": "stream",
     "text": [
      "Best C is  {'C': 10}\n",
      "Best score is 0.69\n"
     ]
    }
   ],
   "source": [
    "GaussianSVC = SVC(kernel='rbf')\n",
    "GaussianSVCGS = GridSearchCV(\n",
    "    GaussianSVC,\n",
    "    tuned_parameters,\n",
    "    scoring=my_scorer,\n",
    "    cv=10,\n",
    "    )\n",
    "\n",
    "GaussianSVCGS.fit(xtrain, ytrain)\n",
    "print 'Best C is ',GaussianSVCGS.best_params_\n",
    "print 'Best score is',GaussianSVCGS.best_score_"
   ]
  },
  {
   "cell_type": "code",
   "execution_count": 54,
   "metadata": {
    "ExecuteTime": {
     "end_time": "2017-11-26T22:36:07.849997Z",
     "start_time": "2017-11-26T22:36:07.832180Z"
    }
   },
   "outputs": [
    {
     "data": {
      "text/plain": [
       "array([[205,  40],\n",
       "       [ 41,  71]])"
      ]
     },
     "execution_count": 54,
     "metadata": {},
     "output_type": "execute_result"
    }
   ],
   "source": [
    "GaussianSVC=SVC(C=10, kernel='rbf')\n",
    "GaussianSVC.fit(xtrain, ytrain)\n",
    "ypredictedL = GaussianSVC.predict(xtest)\n",
    "conf_matL1 = confusion_matrix(ytest, ypredictedL)\n",
    "conf_matL1"
   ]
  },
  {
   "cell_type": "code",
<<<<<<< HEAD:HW5/MIS382-Fall17-HW5-11-26-Jack.ipynb
   "execution_count": 53,
=======
>>>>>>> ac05724c854ce4026fe98ff5fac5ecc7dc28a73f
   "execution_count": null,
>>>>>>> origin/master:HW5/.ipynb_checkpoints/MIS382-Fall17-HW5-11-24-jianjie-checkpoint.ipynb
   "metadata": {
    "ExecuteTime": {
     "end_time": "2017-11-26T22:36:03.539378Z",
     "start_time": "2017-11-26T22:36:03.534380Z"
    }
   },
<<<<<<< HEAD:HW5/MIS382-Fall17-HW5-11-26-Jack.ipynb
   "outputs": [
    {
     "name": "stdout",
     "output_type": "stream",
     "text": [
      "With gaussian kernel, the rest set accuracy is 0.773109243697\n"
     ]
    }
   ],
   "source": [
    "print 'With gaussian kernel, the rest set accuracy is',get_accuracy(conf_matL1)"
   ]
  },
  {
   "cell_type": "markdown",
   "metadata": {},
   "source": [
    "### C"
   ]
  },
  {
   "cell_type": "markdown",
   "metadata": {},
   "source": [
    "In this case, we found out that linear kernel actually perform better than the Gaussian kernel(79% vs 77%). This is probably because that this case is quite linear separable in the raw space, so the linear kernel have its advantage that with limited training data, it can figure out the linear boundary."
   ]
=======
   "outputs": [],
<<<<<<< HEAD
   "source": [
    "tuned_parameters = {'C': np.logspace(-6, 3, 15)}\n",
    "GSVC=SVC(kernel='rbf')\n",
    "clf = GridSearchCV(GSVC,tuned_parameters,scoring=my_scorer,cv=10)\n",
    "clf.fit(xtrain, ytrain)\n",
    "print clf.best_params_\n",
    "print clf.best_score_ "
   ]
=======
   "source": []
>>>>>>> ac05724c854ce4026fe98ff5fac5ecc7dc28a73f
>>>>>>> origin/master:HW5/.ipynb_checkpoints/MIS382-Fall17-HW5-11-24-jianjie-checkpoint.ipynb
  }
 ],
 "metadata": {
  "anaconda-cloud": {},
  "kernelspec": {
<<<<<<< HEAD
   "display_name": "Python 2",
   "language": "python",
   "name": "python2"
=======
   "display_name": "Python [conda root]",
   "language": "python",
   "name": "conda-root-py"
  },
  "language_info": {
   "codemirror_mode": {
    "name": "ipython",
    "version": 2
   },
   "file_extension": ".py",
   "mimetype": "text/x-python",
   "name": "python",
   "nbconvert_exporter": "python",
   "pygments_lexer": "ipython2",
   "version": "2.7.14"
>>>>>>> ac05724c854ce4026fe98ff5fac5ecc7dc28a73f
  },
  "nbTranslate": {
   "displayLangs": [
    "*"
   ],
   "hotkey": "alt-t",
   "langInMainMenu": true,
   "sourceLang": "en",
   "targetLang": "fr",
   "useGoogleTranslate": true
  },
  "toc": {
   "nav_menu": {},
   "number_sections": true,
   "sideBar": true,
   "skip_h1_title": false,
   "toc_cell": false,
   "toc_position": {},
   "toc_section_display": "block",
   "toc_window_display": false
  },
  "varInspector": {
   "cols": {
    "lenName": 16,
    "lenType": 16,
    "lenVar": 40
   },
   "kernels_config": {
    "python": {
     "delete_cmd_postfix": "",
     "delete_cmd_prefix": "del ",
     "library": "var_list.py",
     "varRefreshCmd": "print(var_dic_list())"
    },
    "r": {
     "delete_cmd_postfix": ") ",
     "delete_cmd_prefix": "rm(",
     "library": "var_list.r",
     "varRefreshCmd": "cat(var_dic_list()) "
    }
   },
   "types_to_exclude": [
    "module",
    "function",
    "builtin_function_or_method",
    "instance",
    "_Feature"
   ],
   "window_display": false
  }
 },
 "nbformat": 4,
 "nbformat_minor": 1
}
