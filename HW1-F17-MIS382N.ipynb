{
 "cells": [
  {
   "cell_type": "markdown",
   "metadata": {},
   "source": [
    "\n",
    "# <p style=\"text-align: center;\">MIS 382N: ADVANCED PREDICTIVE MODELING - MSBA</p>\n",
    "# <p style=\"text-align: center;\">Assignment 1</p>\n",
    "## <p style=\"text-align: center;\">Total points: 75</p>\n",
    "## <p style=\"text-align: center;\">Due: Tuesday, September 13 submitted via Canvas by 11:59 p</p>\n",
    "\n",
    "Your homework should be written in a **Jupyter notebook**. You may work in groups of two if you wish. Only one student per team needs to submit the assignment on Canvas.  But be sure to include name and UTEID for both students.  Homework groups will be created and managed through Canvas, so please do not arbitrarily change your homework group.  \n",
    "\n",
    "Also, please make sure your code runs and the graphics (and anything else) are displayed in your notebook before submitting. (%matplotlib inline)"
   ]
  },
  {
   "cell_type": "markdown",
   "metadata": {},
   "source": [
    "# Question 1: Applications of machine learning (10 pts)\n",
    "\n",
    "Read the [article](http://www.datasciencecentral.com/profiles/blogs/20-data-science-systems-used-by-amazon-to-operate-its-business) \"21 data science systems used by Amazon to operate its business\" and pick any two of the data science systems used by Amazon according to this blog.\n",
    "\n",
    "(5 pts each) For each of these two system you have chosen:\n",
    "\n",
    "What kind of machine learning problem is involved (e.g. classification, regression, clustering, outlier detection,...)? Speculate on what kind of data may be needed and how the results can be useful to the company.\n",
    "\n",
    "\n",
    "## Answer\n",
    "\n",
    "\n"
   ]
  },
  {
   "cell_type": "markdown",
   "metadata": {},
   "source": [
    "<font size=4.5>\n",
    "**1) Fake reviews detection. **\n",
    "It is mainly a classification problem to classify if a review is fake or not and then filter the fake ones out. The dataset might contain following data:<br>\n",
    "</font>\n",
    "<br>\n",
    "<font size=3.5>\n",
    "** __Text of the review__ ** : To evaluate how clear and grammarly the review conveys the ideas and assess the text quality  itself. <br>\n",
    "\n",
    "** __Other people's 'score for rhe usefulness of that review__ ** : Like on amazon.com sometime people vote for if this review is useful, this can be an important factor to determin whether a review is fake.<br>\n",
    "\n",
    "** __The reviewers' social network__ **: If the reviewer have a lot of connections on the network and how his or her friends' review quality. If the reviewer interact with those connection very often. Just help to assess if it is a real person.<br>\n",
    "\n",
    "** __The reviewers' review history__ **: Including the reviews' quality as well as the response time and IP to evaluate if this is a real person or a robot.<br>\n",
    "\n",
    "** __The reviewers' purchasing history__ **: If this account just comment and never or seldom buy anything, it is more likely to be a robot that provide fake review.<br>\n",
    "</font>\n",
    "<br>\n",
    "\n",
    "<font size=4.5>\n",
    "**2) Inventory forecasting. **\n",
    "It is mainly a regression problem to predict and decide how many inventories we need:<br>\n",
    "</font>\n",
    "<br>\n",
    "<font size=3.5>\n",
    "** __The basic information of the items __ **: How large and how heavy of the item and what kind of environment(humidity and temperature) it needs. How long can it be stored before it goes bad.<br>\n",
    "\n",
    "** __Requirements from the customer__ **: How many customers view that item's purchasing page and how many of them find there is no inventory. The time they view the webpage(if there is any pattern related to time, month of year or weather when customers need this item)<br>\n",
    "\n",
    "** __Business information about this item __ **: The price and profit we can get from this item, the cost of transportation, how long it normally takes to ship this product etc."
   ]
  },
  {
   "cell_type": "markdown",
   "metadata": {},
   "source": [
    "# Question 2: Maximum likelihood estimate (10 pts)\n",
    "\n",
    "Suppose a manager at an internet sales company wants to estimate how fast his salesperson is generating successful leads. Instead of recording the time for each lead, the time taken to generate the next 5 leads are recorded, i.e., there is one recording (denoting the elapsed time) for every 5 consecutive leads. For a specific salesperson, the time intervals recorded are {1,3,1.5,4,2,7,1.2,2,4,3.1} hours. \n",
    "\n",
    "A statistician suggests that if these time intervals are assumed to arise by i.i.d. sampling from the following distribution:\n",
    "$$ p(t) = \\frac{1}{C \\times \\theta^{5}}t^{4}exp^{-\\frac{t}{\\theta}},$$\n",
    "(where C is a normalizing constant). Therefore, if $\\theta$ can be estimated, then he can provide detailed information\n",
    "about the lead generation process, including average rates, variances etc.\n",
    "\n",
    "Find the Maximum Likelihood estimate for $\\theta$ based on the recorded observations\n",
    "\n",
    "## Answer"
   ]
  },
  {
   "cell_type": "markdown",
   "metadata": {},
   "source": [
    "$$ ln\\ likelyhood=ln(\\prod_{i=1}^{n}{p(t_i))} $$\n",
    "$$ = ln(\\prod_{i=1}^{n}{\\frac{1}{C \\times \\theta^{5}}t_i^{4}exp^{-\\frac{t_i}{\\theta}}})$$\n",
    "$$ = \\sum_{i=1}^{n} {Ln(p(t_i)) = \\sum_{i=1}^{n}({-\\frac{t_i}{ \\theta }+4ln(t_i)-ln(C)-5ln( \\theta )}})$$\n",
    "Take derivative of this log likelihood we get first order condition of:\n",
    "$$ \\frac{\\partial ln\\ likelihood}{\\partial \\theta}=\\sum_{i=1}^{n}({\\frac{t_i}{ \\hat{ \\theta}^2}-\\frac{5}{ \\hat{ \\theta}}}) = 0 $$\n",
    "and since we know $\\hat{ \\theta} \\neq 0$ so we got:\n",
    "$$ \\hat{\\theta} = \\frac{\\sum_{i=1}^{n}{t_i}}{5n}=\\frac{1+3+1.5+4+2+7+1.2+2+4+3.1}{5*10}=0.576$$\n",
    "<br>\n",
    "**( According to the data, $n=number\\ of\\ the\\ observations =10$ )**"
   ]
  },
  {
   "cell_type": "code",
   "execution_count": 16,
   "metadata": {},
   "outputs": [
    {
     "data": {
      "text/plain": [
       "0.5760000000000001"
      ]
     },
     "execution_count": 16,
     "metadata": {},
     "output_type": "execute_result"
    }
   ],
   "source": [
    "m=1+3+1.5+4+2+7+1.2+2+4+3.1\n",
    "m/50"
   ]
  },
  {
   "cell_type": "markdown",
   "metadata": {},
   "source": [
    "# Question 3: Multiple Linear Regression in Python (25 pts)\n",
    "\n",
    "Use the following code to import the boston housing dataset and linear models in python.\n",
    "\n"
   ]
  },
  {
   "cell_type": "code",
   "execution_count": 98,
   "metadata": {},
   "outputs": [],
   "source": [
    "from sklearn import datasets, linear_model\n",
    "from sklearn.metrics import mean_squared_error\n",
    "import numpy as np\n",
    "\n",
    "boston = datasets.load_boston()\n",
    "\n",
    "X = boston.data\n",
    "y = boston.target"
   ]
  },
  {
   "cell_type": "markdown",
   "metadata": {},
   "source": [
    "## Answer\n",
    "\n"
   ]
  },
  {
   "cell_type": "markdown",
   "metadata": {},
   "source": [
    "The dataset information can be found [here](http://scikit-learn.org/stable/datasets/index.html#boston-house-prices-dataset).\n",
    "\n",
    "a. (3 pts) Print the shape (number of rows and columns) of the feature matrix, and print the first 5 rows.\n",
    "\n"
   ]
  },
  {
   "cell_type": "code",
   "execution_count": 27,
   "metadata": {},
   "outputs": [
    {
     "name": "stdout",
     "output_type": "stream",
     "text": [
      "Total number of rows is: 506\n",
      "Total number of columns is: 13\n",
      "The first 5 rows are:\n"
     ]
    },
    {
     "data": {
      "text/plain": [
       "array([[  6.32000000e-03,   1.80000000e+01,   2.31000000e+00,\n",
       "          0.00000000e+00,   5.38000000e-01,   6.57500000e+00,\n",
       "          6.52000000e+01,   4.09000000e+00,   1.00000000e+00,\n",
       "          2.96000000e+02,   1.53000000e+01,   3.96900000e+02,\n",
       "          4.98000000e+00],\n",
       "       [  2.73100000e-02,   0.00000000e+00,   7.07000000e+00,\n",
       "          0.00000000e+00,   4.69000000e-01,   6.42100000e+00,\n",
       "          7.89000000e+01,   4.96710000e+00,   2.00000000e+00,\n",
       "          2.42000000e+02,   1.78000000e+01,   3.96900000e+02,\n",
       "          9.14000000e+00],\n",
       "       [  2.72900000e-02,   0.00000000e+00,   7.07000000e+00,\n",
       "          0.00000000e+00,   4.69000000e-01,   7.18500000e+00,\n",
       "          6.11000000e+01,   4.96710000e+00,   2.00000000e+00,\n",
       "          2.42000000e+02,   1.78000000e+01,   3.92830000e+02,\n",
       "          4.03000000e+00],\n",
       "       [  3.23700000e-02,   0.00000000e+00,   2.18000000e+00,\n",
       "          0.00000000e+00,   4.58000000e-01,   6.99800000e+00,\n",
       "          4.58000000e+01,   6.06220000e+00,   3.00000000e+00,\n",
       "          2.22000000e+02,   1.87000000e+01,   3.94630000e+02,\n",
       "          2.94000000e+00],\n",
       "       [  6.90500000e-02,   0.00000000e+00,   2.18000000e+00,\n",
       "          0.00000000e+00,   4.58000000e-01,   7.14700000e+00,\n",
       "          5.42000000e+01,   6.06220000e+00,   3.00000000e+00,\n",
       "          2.22000000e+02,   1.87000000e+01,   3.96900000e+02,\n",
       "          5.33000000e+00]])"
      ]
     },
     "execution_count": 27,
     "metadata": {},
     "output_type": "execute_result"
    }
   ],
   "source": [
    "row_num , col_num = X.shape\n",
    "print 'Total number of rows is:' , row_num\n",
    "print 'Total number of columns is:' , col_num\n",
    "print 'The first 5 rows are:'\n",
    "X[:5,]"
   ]
  },
  {
   "cell_type": "markdown",
   "metadata": {},
   "source": [
    "b.  (6 pts) Using ordinary least squares, fit a multiple linear regression (MLR) on all the feature variables using the entire dataset (506 rows). Report the regression coefficient of each input feature and evaluate the model using mean squared error (MSE).  Example of ordinary least squares in Python is shown in Section 1.1.1 of http://scikit-learn.org/stable/modules/linear_model.html.\n",
    "\n"
   ]
  },
  {
   "cell_type": "code",
   "execution_count": 38,
   "metadata": {},
   "outputs": [
    {
     "name": "stdout",
     "output_type": "stream",
     "text": [
      "Mean squared error: 21.90\n",
      "Coefficients: \n",
      "[ -1.07170557e-01   4.63952195e-02   2.08602395e-02   2.68856140e+00\n",
      "  -1.77957587e+01   3.80475246e+00   7.51061703e-04  -1.47575880e+00\n",
      "   3.05655038e-01  -1.23293463e-02  -9.53463555e-01   9.39251272e-03\n",
      "  -5.25466633e-01]\n"
     ]
    }
   ],
   "source": [
    "from sklearn import linear_model\n",
    "reg = linear_model.LinearRegression()\n",
    "reg.fit (X, y)\n",
    "yhat=reg.predict(X)\n",
    "print(\"Mean squared error: %.2f\"\n",
    "      % mean_squared_error(y, yhat))\n",
    "print 'Coefficients: \\n', reg.coef_\n"
   ]
  },
  {
   "cell_type": "markdown",
   "metadata": {},
   "source": [
    "c.  (6 pts) Split the data into a training set and a test set.  Use the first 400 rows for training set and remaining rows for test set.  Fit an MLR using the training set.  Evaluate the trained model using the training set and the test set, respectively.  Compare the two MSE values thus obtained.\n",
    "\n"
   ]
  },
  {
   "cell_type": "code",
   "execution_count": 41,
   "metadata": {},
   "outputs": [
    {
     "name": "stdout",
     "output_type": "stream",
     "text": [
      "Coefficients: [ -1.91246374e-01   4.42289967e-02   5.52207977e-02   1.71631351e+00\n",
      "  -1.49957220e+01   4.88773025e+00   2.60921031e-03  -1.29480799e+00\n",
      "   4.84787214e-01  -1.54006673e-02  -8.08795026e-01  -1.29230427e-03\n",
      "  -5.17953791e-01]\n",
      "Mean squared error: 38.16\n"
     ]
    }
   ],
   "source": [
    "\n",
    "Boston_X_train = X[:400,]\n",
    "Boston_X_test = X[400:,]\n",
    "Boston_y_train = y[:400]\n",
    "Boston_y_test = y[400:]\n",
    "\n",
    "regr = linear_model.LinearRegression()\n",
    "regr.fit(Boston_X_train, Boston_y_train)\n",
    "Boston_y_pred = regr.predict(Boston_X_test)\n",
    "print 'Coefficients:', regr.coef_\n",
    "print(\"Mean squared error: %.2f\"\n",
    "      % mean_squared_error(Boston_y_test, Boston_y_pred))\n"
   ]
  },
  {
   "cell_type": "markdown",
   "metadata": {},
   "source": [
    "d.  (6 pts) Do you think your MLR model is reasonable for this problem? You may look at the distribution of residuals to provide an informed answer.\n",
    "\n"
   ]
  },
  {
   "cell_type": "code",
   "execution_count": 81,
   "metadata": {},
   "outputs": [
    {
     "name": "stdout",
     "output_type": "stream",
     "text": [
      "Residual mean: -3.60094927386\n",
      "Residual std: 5.01971144293\n"
     ]
    }
   ],
   "source": [
    "residual=Boston_y_test-Boston_y_pred\n",
    "import matplotlib.pyplot as plt  \n",
    "import statsmodels.api as sm \n",
    "%matplotlib inline  \n",
    "print 'Residual mean:', residual.mean()\n",
    "print 'Residual std:', residual.std()"
   ]
  },
  {
   "cell_type": "code",
   "execution_count": 82,
   "metadata": {},
   "outputs": [
    {
     "data": {
      "image/png": "[encoded data removed]",
      "text/plain": [
       "<matplotlib.figure.Figure at 0x11bdedd10>"
      ]
     },
     "metadata": {},
     "output_type": "display_data"
    }
   ],
   "source": [
    "def normfun(x,mu,sigma):\n",
    "    pdf = np.exp(-((x - mu)**2)/(2*sigma**2)) / (sigma * np.sqrt(2*np.pi))\n",
    "    return pdf\n",
    "#accrding to the mean and std, we set the range of the plot\n",
    "x = np.arange(-20,15,0.1) \n",
    "y = normfun(x, residual.mean(), residual.std()) \n",
    "plt.plot(x,y) \n",
    "plt.hist(residual, normed=True) \n",
    "plt.title('Residual distribution') \n",
    "plt.xlabel('Residual') \n",
    "plt.ylabel('Probability') \n",
    "plt.show()\n"
   ]
  },
  {
   "cell_type": "markdown",
   "metadata": {},
   "source": [
    "It is not like a normal distribution, so we just can conclude that the MLR is not a good idea in that case."
   ]
  },
  {
   "cell_type": "code",
   "execution_count": 84,
   "metadata": {},
   "outputs": [
    {
     "data": {
      "image/png": "[encoded data removed]",
      "text/plain": [
       "<matplotlib.figure.Figure at 0x11f2c8110>"
      ]
     },
     "metadata": {},
     "output_type": "display_data"
    }
   ],
   "source": [
    "\n",
    "#Plus, in real case people look at the QQ plot more often so let us just have a look at this plot:\n",
    "sm.qqplot(residual.flatten(),line='s')  \n",
    "plt.show() "
   ]
  },
  {
   "cell_type": "markdown",
   "metadata": {},
   "source": [
    "e. (5 pts) Use the following code to add new features to the dataset.  You should have 26 variables now.  Note that this code adds one squared term for each variable; in practice one may introduce only a few terms based on domain knowledge or experimentation.  Repeat (c) and report the MSE values of the training set and the test set, respectively."
   ]
  },
  {
   "cell_type": "code",
   "execution_count": 99,
   "metadata": {},
   "outputs": [
    {
     "name": "stdout",
     "output_type": "stream",
     "text": [
      "Coefficients: [ -6.28564029e-01  -4.69283413e-02   1.35998008e-01   1.12670518e+00\n",
      "  -3.89085940e+01  -1.71470367e+01  -1.92714017e-02  -2.49211073e+00\n",
      "   6.85468872e-01  -1.10900553e-01  -6.25152381e+00   4.25358263e-02\n",
      "  -1.43915460e+00   5.03672853e-03   5.35234383e-04  -4.91394588e-03\n",
      "   1.12670518e+00   1.11228197e+01   1.61544902e+00   2.97952872e-04\n",
      "   1.37189224e-01  -3.37949389e-02   1.47365245e-04   1.54711150e-01\n",
      "  -7.67778717e-05   2.70068424e-02]\n",
      "Mean squared error: 32.95\n"
     ]
    }
   ],
   "source": [
    "X = np.concatenate((X, np.square(X)), axis=1)\n",
    "Boston_X_train = X[:400,]\n",
    "Boston_X_test = X[400:,]\n",
    "Boston_y_train = y[:400]\n",
    "Boston_y_test = y[400:]\n",
    "\n",
    "regr = linear_model.LinearRegression()\n",
    "regr.fit(Boston_X_train, Boston_y_train)\n",
    "Boston_y_pred = regr.predict(Boston_X_test)\n",
    "print 'Coefficients:', regr.coef_\n",
    "print(\"Mean squared error: %.2f\"\n",
    "      % mean_squared_error(Boston_y_test, Boston_y_pred))\n"
   ]
  },
  {
   "cell_type": "markdown",
   "metadata": {},
   "source": [
    "# Question 4: Ridge and Lasso Regression (25 points)\n"
   ]
  },
  {
   "cell_type": "markdown",
   "metadata": {},
   "source": [
    "Using the same boston data from before, in this question you will explore the application of Lasso and Ridge regression using sklearn package in Python. The following code will split the data into training and test set using [train_test_split](http://scikit-learn.org/stable/modules/generated/sklearn.model_selection.train_test_split.html) with **random state 20** and **test_size = 0.33**.  Note: lambda is called alpha in sklearn."
   ]
  },
  {
   "cell_type": "code",
   "execution_count": 115,
   "metadata": {},
   "outputs": [],
   "source": [
    "from sklearn.model_selection import train_test_split\n",
    "from sklearn.model_selection import KFold\n",
    "from sklearn.linear_model import Lasso\n",
    "from sklearn.linear_model import ridge\n",
    "from sklearn.linear_model import LassoCV\n",
    "from sklearn.linear_model import RidgeCV\n",
    "from sklearn.model_selection import GridSearchCV\n",
    "from sklearn.model_selection import train_test_split\n",
    "X_train, X_test, y_train, y_test = train_test_split(X,y,test_size = 0.33, random_state=20)"
   ]
  },
  {
   "cell_type": "markdown",
   "metadata": {},
   "source": [
    "## Answer\n",
    "\n",
    "1) Use sklearn.linear_model.Lasso and sklearn.linear_model.Ridge classes to do a [5-fold cross validation](http://scikit-learn.org/stable/auto_examples/exercises/plot_cv_diabetes.html#example-exercises-plot-cv-diabetes-py) using sklearn's [KFold](http://scikit-learn.org/stable/modules/generated/sklearn.cross_validation.KFold.html). For the sweep of the regularization parameter, we will look at a grid of values ranging from $\\lambda = 10^{10}$ to $\\lambda = 10^{-2}$. In Python, you can consider this range of values as follows:\n",
    "\n",
    "      import numpy as np\n",
    "\n",
    "      alphas =  10**np.linspace(10,-2,100)*0.5\n",
    "\n",
    "  Report the best chosen $\\lambda$ based on cross validation. The cross validation should happen on your training data using  average MSE as the scoring metric. (8pts)\n",
    "\n",
    "\n",
    "\n"
   ]
  },
  {
   "cell_type": "code",
   "execution_count": 136,
   "metadata": {},
   "outputs": [
    {
     "data": {
      "text/plain": [
       "[<matplotlib.lines.Line2D at 0x11fbfeb50>]"
      ]
     },
     "execution_count": 136,
     "metadata": {},
     "output_type": "execute_result"
    },
    {
     "data": {
      "image/png": "[encoded data removed]",
      "text/plain": [
       "<matplotlib.figure.Figure at 0x11f1ecf90>"
      ]
     },
     "metadata": {},
     "output_type": "display_data"
    }
   ],
   "source": [
    "X = boston.data\n",
    "y = boston.target\n",
    "lasso = Lasso(random_state=0)\n",
    "alphas =  10**np.linspace(10,-2,100)*0.5\n",
    "\n",
    "tuned_parameters = [{'alpha': alphas}]\n",
    "n_folds = 5\n",
    "\n",
    "clf = GridSearchCV(lasso, tuned_parameters, cv=n_folds, refit=False)\n",
    "clf.fit(X, y)\n",
    "scores = clf.cv_results_['mean_train_score']\n",
    "plt.figure().set_size_inches(8, 6)\n",
    "plt.semilogx(alphas, scores)"
   ]
  },
  {
   "cell_type": "code",
   "execution_count": 106,
   "metadata": {},
   "outputs": [
    {
     "name": "stdout",
     "output_type": "stream",
     "text": [
      "Answer to the bonus question: how much can you trust the selection of alpha?\n",
      "\n",
      "Alpha parameters maximising the generalization score on different\n",
      "subsets of the data:\n",
      "[fold 0] alpha: 1.75560, score: 0.45718\n",
      "[fold 1] alpha: 1.75560, score: 0.62599\n",
      "[fold 2] alpha: 1.32804, score: 0.26764\n",
      "[fold 3] alpha: 0.14240, score: 0.11186\n",
      "[fold 4] alpha: 0.24885, score: -0.04579\n",
      "\n",
      "Answer: Not very much since we obtained different alphas for different\n",
      "subsets of the data and moreover, the scores for these alphas differ\n",
      "quite substantially.\n"
     ]
    },
    {
     "data": {
      "image/png": "[encoded data removed]",
      "text/plain": [
       "<matplotlib.figure.Figure at 0x11f6e3450>"
      ]
     },
     "metadata": {},
     "output_type": "display_data"
    }
   ],
   "source": [
    "X = boston.data\n",
    "y = boston.target\n",
    "lasso = Lasso(random_state=0)\n",
    "alphas =  10**np.linspace(10,-2,100)*0.5\n",
    "\n",
    "tuned_parameters = [{'alpha': alphas}]\n",
    "n_folds = 5\n",
    "\n",
    "clf = GridSearchCV(lasso, tuned_parameters, cv=n_folds, refit=False)\n",
    "clf.fit(X, y)\n",
    "scores = clf.cv_results_['mean_test_score']\n",
    "scores_std = clf.cv_results_['std_test_score']\n",
    "plt.figure().set_size_inches(8, 6)\n",
    "plt.semilogx(alphas, scores)\n",
    "\n",
    "# plot error lines showing +/- std. errors of the scores\n",
    "std_error = scores_std / np.sqrt(n_folds)\n",
    "\n",
    "plt.semilogx(alphas, scores + std_error, 'b--')\n",
    "plt.semilogx(alphas, scores - std_error, 'b--')\n",
    "\n",
    "# alpha=0.2 controls the translucency of the fill color\n",
    "plt.fill_between(alphas, scores + std_error, scores - std_error, alpha=0.2)\n",
    "\n",
    "plt.ylabel('CV score +/- std error')\n",
    "plt.xlabel('alpha')\n",
    "plt.axhline(np.max(scores), linestyle='--', color='.5')\n",
    "plt.xlim([alphas[0], alphas[-1]])\n",
    "\n",
    "# #############################################################################\n",
    "# Bonus: how much can you trust the selection of alpha?\n",
    "\n",
    "# To answer this question we use the LassoCV object that sets its alpha\n",
    "# parameter automatically from the data by internal cross-validation (i.e. it\n",
    "# performs cross-validation on the training data it receives).\n",
    "# We use external cross-validation to see how much the automatically obtained\n",
    "# alphas differ across different cross-validation folds.\n",
    "lasso_cv = LassoCV(alphas=alphas, random_state=0)\n",
    "k_fold = KFold(5)\n",
    "\n",
    "print(\"Answer to the bonus question:\",\n",
    "      \"how much can you trust the selection of alpha?\")\n",
    "print()\n",
    "print(\"Alpha parameters maximising the generalization score on different\")\n",
    "print(\"subsets of the data:\")\n",
    "for k, (train, test) in enumerate(k_fold.split(X, y)):\n",
    "    lasso_cv.fit(X[train], y[train])\n",
    "    print(\"[fold {0}] alpha: {1:.5f}, score: {2:.5f}\".\n",
    "          format(k, lasso_cv.alpha_, lasso_cv.score(X[test], y[test])))\n",
    "print()\n",
    "print(\"Answer: Not very much since we obtained different alphas for different\")\n",
    "print(\"subsets of the data and moreover, the scores for these alphas differ\")\n",
    "print(\"quite substantially.\")\n",
    "\n",
    "plt.show()"
   ]
  },
  {
   "cell_type": "code",
   "execution_count": 125,
   "metadata": {},
   "outputs": [
    {
     "name": "stdout",
     "output_type": "stream",
     "text": [
      "[fold 0] alpha: 1.75560, score: 0.65376\n",
      "[fold 1] alpha: 1.75560, score: 0.64131\n",
      "[fold 2] alpha: 1.32804, score: 0.60779\n",
      "[fold 3] alpha: 0.14240, score: 0.83231\n",
      "[fold 4] alpha: 0.24885, score: 0.72292\n"
     ]
    }
   ],
   "source": [
    "\n",
    "\n",
    "for k, (train, test) in enumerate(k_fold.split(X, y)):\n",
    "    lasso_cv.fit(X[train], y[train])\n",
    "    print(\"[fold {0}] alpha: {1:.5f}, score: {2:.5f}\".\n",
    "          format(k, lasso_cv.alpha_, lasso_cv.score(X[train], y[train])))\n",
    "\n",
    "plt.show()"
   ]
  },
  {
   "cell_type": "code",
   "execution_count": 128,
   "metadata": {},
   "outputs": [
    {
     "name": "stdout",
     "output_type": "stream",
     "text": [
      "[fold 0] alpha: 0.03527, score: 0.74652\n",
      "[fold 1] alpha: 0.04663, score: 0.72758\n",
      "[fold 2] alpha: 0.01527, score: 0.69503\n",
      "[fold 3] alpha: 0.02668, score: 0.84181\n",
      "[fold 4] alpha: 0.08149, score: 0.73542\n",
      "\n"
     ]
    }
   ],
   "source": [
    "ridge_cv = RidgeCV(alphas=alphas)\n",
    "k_fold = KFold(5)\n",
    "\n",
    "for k, (train, test) in enumerate(k_fold.split(X, y)):\n",
    "    ridge_cv.fit(X[train], y[train])\n",
    "    print(\"[fold {0}] alpha: {1:.5f}, score: {2:.5f}\".\n",
    "          format(k, ridge_cv.alpha_, ridge_cv.score(X[train], y[train])))\n",
    "print()\n",
    "plt.show()"
   ]
  },
  {
   "cell_type": "code",
   "execution_count": 133,
   "metadata": {},
   "outputs": [
    {
     "data": {
      "text/plain": [
       "[<matplotlib.lines.Line2D at 0x11ed6f5d0>]"
      ]
     },
     "execution_count": 133,
     "metadata": {},
     "output_type": "execute_result"
    },
    {
     "data": {
      "image/png": "[encoded data removed]",
      "text/plain": [
       "<matplotlib.figure.Figure at 0x11f77dc90>"
      ]
     },
     "metadata": {},
     "output_type": "display_data"
    }
   ],
   "source": [
    "from sklearn.linear_model import Ridge\n",
    "ridge_model = Ridge()\n",
    "clf = GridSearchCV(ridge_model, tuned_parameters, cv=n_folds, refit=False)\n",
    "clf.fit(X, y)\n",
    "scores = clf.cv_results_['mean_train_score']\n",
    "plt.figure().set_size_inches(8, 6)\n",
    "plt.semilogx(alphas, scores)"
   ]
  },
  {
   "cell_type": "code",
   "execution_count": 134,
   "metadata": {},
   "outputs": [
    {
     "data": {
      "text/plain": [
       "[<matplotlib.lines.Line2D at 0x11f1ec190>]"
      ]
     },
     "execution_count": 134,
     "metadata": {},
     "output_type": "execute_result"
    },
    {
     "data": {
      "image/png": "[encoded data removed]",
      "text/plain": [
       "<matplotlib.figure.Figure at 0x11f59a890>"
      ]
     },
     "metadata": {},
     "output_type": "display_data"
    }
   ],
   "source": [
    "from sklearn.linear_model import Ridge\n",
    "ridge_model = Ridge()\n",
    "clf = GridSearchCV(ridge_model, tuned_parameters, cv=n_folds, refit=False)\n",
    "clf.fit(X, y)\n",
    "scores = clf.cv_results_['mean_test_score']\n",
    "plt.figure().set_size_inches(8, 6)\n",
    "plt.semilogx(alphas, scores)"
   ]
  },
  {
   "cell_type": "markdown",
   "metadata": {},
   "source": [
    "2) Run ridge and lasso for all of the alphas specified above (on training data), and plot the coefficients learned for each of them - there should be one plot each for lasso and ridge, so a total of two plots; the plots for different features for a method should be on the same plot (e.g. Fig 6.6 of JW). What do you qualitatively observe when value of the regularization parameter is changed? (7pts)\n",
    "\n"
   ]
  },
  {
   "cell_type": "code",
   "execution_count": null,
   "metadata": {
    "collapsed": true
   },
   "outputs": [],
   "source": []
  },
  {
   "cell_type": "markdown",
   "metadata": {},
   "source": [
    "3) Run least squares regression, ridge, and lasso on the training data. For ridge and lasso, use only the best regularization parameter. Report the prediction error (MSE) on the test data for each. (5pts)\n",
    "\n"
   ]
  },
  {
   "cell_type": "code",
   "execution_count": null,
   "metadata": {
    "collapsed": true
   },
   "outputs": [],
   "source": []
  },
  {
   "cell_type": "markdown",
   "metadata": {},
   "source": [
    "4) Run lasso again with cross validation using [sklearn.linear_model.LassoCV](http://scikit-learn.org/stable/modules/generated/sklearn.linear_model.LassoCV.html). Set the cross validation parameters as follows:\n",
    "\n",
    "    LassoCV(alphas=None, cv=10, max_iter=10000)\n",
    "\n",
    "Report the best $\\lambda$ based on cross validation. Run lasso on the training data using the best $\\lambda$ and report the coefficeints for 26 variables. What do you observe from these coefficients? (5pts)"
   ]
  },
  {
   "cell_type": "code",
   "execution_count": null,
   "metadata": {
    "collapsed": true
   },
   "outputs": [],
   "source": []
  },
  {
   "cell_type": "markdown",
   "metadata": {},
   "source": [
    "# Question 5  (5 pts)\n",
    "\n",
    "A regression model that includes \"interaction terms\" (i.e. quadratic terms of the form $x_ix_j$) as predictors in addition to the linear terms is clearly more general than a corresponding model that employs the same independent variables but only uses the linear terms. Outline two situations where the simpler (less general) model would be preferred to the more powerful model that includes interactive terms.\n",
    "\n",
    "## Answer\n",
    "\n"
   ]
  },
  {
   "cell_type": "markdown",
   "metadata": {},
   "source": [
    "**The first situation** is quite obvious, just when the sample size is too small to run a model with interaction terms.<br>\n",
    "We all know that when we expand our model(i.e. including more features into the model) we need more _$ degree\\ of\\ freedom $_ .  <br>\n",
    "A really common example here is when we use the DNA data of a person to predict his probability of getting a certain disease. The total dimention of feature space is just so large and if we want to have a fully interacted model of all of these features, the total number of the sample that needed to support that model would be exploded.<br>\n",
    "<br>\n",
    "**The second situation** is when we care about $ the\\ main\\ effect $ of a feature more than the interactive effect between two feactures, in other words we focus more on the average effect of one feature's effect to the outcome and we average out the other feature.<br>\n",
    "Such as when we want to focus on if women are discriminated in the job market, we just need to focus on if the coefficient of gender is statistically significant negative holding all else being equal when analysising the salary and we do not care about whether there is an interactive effect between gender and education level since including the interaction term may mess up the model and make the coefficient of gender not significant."
   ]
  },
  {
   "cell_type": "code",
   "execution_count": null,
   "metadata": {
    "collapsed": true
   },
   "outputs": [],
   "source": []
  }
 ],
 "metadata": {
  "anaconda-cloud": {},
  "kernelspec": {
   "display_name": "Python [default]",
   "language": "python",
   "name": "python2"
  },
  "language_info": {
   "codemirror_mode": {
    "name": "ipython",
    "version": 2
   },
   "file_extension": ".py",
   "mimetype": "text/x-python",
   "name": "python",
   "nbconvert_exporter": "python",
   "pygments_lexer": "ipython2",
   "version": "2.7.13"
  }
 },
 "nbformat": 4,
 "nbformat_minor": 1
}
