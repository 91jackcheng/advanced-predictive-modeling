{
 "cells": [
  {
   "cell_type": "markdown",
   "metadata": {},
   "source": [
    "\n",
    "# <p style=\"text-align: center;\">MIS 382N: ADVANCED PREDICTIVE MODELING - MSBA</p>\n",
    "# <p style=\"text-align: center;\">Assignment 1</p>\n",
    "## <p style=\"text-align: center;\">Total points: 75</p>\n",
    "## <p style=\"text-align: center;\">Due: Tuesday, September 13 submitted via Canvas by 11:59 p</p>\n",
    "\n",
    "Your homework should be written in a **Jupyter notebook**. You may work in groups of two if you wish. Only one student per team needs to submit the assignment on Canvas.  But be sure to include name and UTEID for both students.  Homework groups will be created and managed through Canvas, so please do not arbitrarily change your homework group.  \n",
    "\n",
    "Also, please make sure your code runs and the graphics (and anything else) are displayed in your notebook before submitting. (%matplotlib inline)"
   ]
  },
  {
   "cell_type": "markdown",
   "metadata": {},
   "source": [
    "# Question 1: Applications of machine learning (10 pts)\n",
    "\n",
    "Read the [article](http://www.datasciencecentral.com/profiles/blogs/20-data-science-systems-used-by-amazon-to-operate-its-business) \"21 data science systems used by Amazon to operate its business\" and pick any two of the data science systems used by Amazon according to this blog.\n",
    "\n",
    "(5 pts each) For each of these two system you have chosen:\n",
    "\n",
    "What kind of machine learning problem is involved (e.g. classification, regression, clustering, outlier detection,...)? Speculate on what kind of data may be needed and how the results can be useful to the company.\n",
    "\n",
    "\n",
    "## Answer\n",
    "\n",
    "\n"
   ]
  },
  {
   "cell_type": "markdown",
   "metadata": {},
   "source": [
    "# Question 2: Maximum likelihood estimate (10 pts)\n",
    "\n",
    "Suppose a manager at an internet sales company wants to estimate how fast his salesperson is generating successful leads. Instead of recording the time for each lead, the time taken to generate the next 5 leads are recorded, i.e., there is one recording (denoting the elapsed time) for every 5 consecutive leads. For a specific salesperson, the time intervals recorded are {1,3,1.5,4,2,7,1.2,2,4,3.1} hours. \n",
    "\n",
    "A statistician suggests that if these time intervals are assumed to arise by i.i.d. sampling from the following distribution:\n",
    "$$ p(t) = \\frac{1}{C \\times \\theta^{5}}t^{4}exp^{-\\frac{t}{\\theta}},$$\n",
    "(where C is a normalizing constant). Therefore, if $\\theta$ can be estimated, then he can provide detailed information\n",
    "about the lead generation process, including average rates, variances etc.\n",
    "\n",
    "Find the Maximum Likelihood estimate for $\\theta$ based on the recorded observations.\n",
    "\n",
    "\n",
    "## Answer"
   ]
  },
  {
   "cell_type": "code",
   "execution_count": null,
   "metadata": {
    "collapsed": true
   },
   "outputs": [],
   "source": []
  },
  {
   "cell_type": "markdown",
   "metadata": {},
   "source": [
    "# Question 3: Multiple Linear Regression in Python (25 pts)\n",
    "\n",
    "Use the following code to import the boston housing dataset and linear models in python.\n",
    "\n"
   ]
  },
  {
   "cell_type": "code",
   "execution_count": 99,
   "metadata": {},
   "outputs": [],
   "source": [
    "from sklearn import datasets, linear_model\n",
    "from sklearn.metrics import mean_squared_error\n",
    "import numpy as np\n",
    "\n",
    "boston = datasets.load_boston()\n",
    "\n",
    "X = boston.data\n",
    "y = boston.target\n"
   ]
  },
  {
   "cell_type": "markdown",
   "metadata": {},
   "source": [
    "The dataset information can be found [here](http://scikit-learn.org/stable/datasets/index.html#boston-house-prices-dataset).\n",
    "\n",
    "a. (3 pts) Print the shape (number of rows and columns) of the feature matrix, and print the first 5 rows.\n",
    "\n",
    "b.  (6 pts) Using ordinary least squares, fit a multiple linear regression (MLR) on all the feature variables using the entire dataset (506 rows). Report the regression coefficient of each input feature and evaluate the model using mean squared error (MSE).  Example of ordinary least squares in Python is shown in Section 1.1.1 of http://scikit-learn.org/stable/modules/linear_model.html.\n",
    "\n",
    "c.  (6 pts) Split the data into a training set and a test set.  Use the first 400 rows for training set and remaining rows for test set.  Fit an MLR using the training set.  Evaluate the trained model using the training set and the test set, respectively.  Compare the two MSE values thus obtained.\n",
    "\n",
    "d.  (6 pts) Do you think your MLR model is reasonable for this problem? You may look at the distribution of residuals to provide an informed answer.\n",
    "\n",
    "e. (5 pts) Use the following code to add new features to the dataset.  You should have 26 variables now.  Note that this code adds one squared term for each variable; in practice one may introduce only a few terms based on domain knowledge or experimentation.  Repeat (c) and report the MSE values of the training set and the test set, respectively."
   ]
  },
  {
   "cell_type": "code",
   "execution_count": 100,
   "metadata": {},
   "outputs": [
    {
     "name": "stdout",
     "output_type": "stream",
     "text": [
      "        0     1     2    3      4      5     6       7    8      9     10  \\\n",
      "0  0.00632  18.0  2.31  0.0  0.538  6.575  65.2  4.0900  1.0  296.0  15.3   \n",
      "1  0.02731   0.0  7.07  0.0  0.469  6.421  78.9  4.9671  2.0  242.0  17.8   \n",
      "2  0.02729   0.0  7.07  0.0  0.469  7.185  61.1  4.9671  2.0  242.0  17.8   \n",
      "3  0.03237   0.0  2.18  0.0  0.458  6.998  45.8  6.0622  3.0  222.0  18.7   \n",
      "4  0.06905   0.0  2.18  0.0  0.458  7.147  54.2  6.0622  3.0  222.0  18.7   \n",
      "\n",
      "       11    12  \n",
      "0  396.90  4.98  \n",
      "1  396.90  9.14  \n",
      "2  392.83  4.03  \n",
      "3  394.63  2.94  \n",
      "4  396.90  5.33  \n"
     ]
    }
   ],
   "source": [
    "# part A\n",
    "X.shape\n",
    "print pd.DataFrame(X)[:5]\n",
    "# the feature matrix has 506 rows and 13 columns"
   ]
  },
  {
   "cell_type": "code",
   "execution_count": 101,
   "metadata": {},
   "outputs": [
    {
     "name": "stdout",
     "output_type": "stream",
     "text": [
      "[ -1.07170557e-01   4.63952195e-02   2.08602395e-02   2.68856140e+00\n",
      "  -1.77957587e+01   3.80475246e+00   7.51061703e-04  -1.47575880e+00\n",
      "   3.05655038e-01  -1.23293463e-02  -9.53463555e-01   9.39251272e-03\n",
      "  -5.25466633e-01]\n",
      "Mean squared error: 21.90\n"
     ]
    }
   ],
   "source": [
    "# part b\n",
    "from sklearn import linear_model\n",
    "reg = linear_model.LinearRegression()\n",
    "reg.fit (X,y)\n",
    "print reg.coef_\n",
    "y_predict = reg.predict(X)\n",
    "print(\"Mean squared error: %.2f\"\n",
    "      % mean_squared_error(y, y_predict))"
   ]
  },
  {
   "cell_type": "code",
   "execution_count": 102,
   "metadata": {},
   "outputs": [
    {
     "name": "stdout",
     "output_type": "stream",
     "text": [
      "Mean squared error: 22.31\n",
      "Mean squared error: 38.16\n"
     ]
    }
   ],
   "source": [
    "# part c\n",
    "train_x = X[:400]\n",
    "train_y = y[:400]\n",
    "test_x = X[400:]\n",
    "test_y = y[400:]\n",
    "reg = linear_model.LinearRegression()\n",
    "reg.fit(train_x,train_y)\n",
    "y_train_predict= reg.predict(train_x)\n",
    "y_test_predict = reg.predict(test_x)\n",
    "print(\"Mean squared error: %.2f\"\n",
    "      % mean_squared_error(train_y, y_train_predict))\n",
    "print(\"Mean squared error: %.2f\"\n",
    "      % mean_squared_error(test_y, y_test_predict))"
   ]
  },
  {
   "cell_type": "markdown",
   "metadata": {},
   "source": [
    "For training set, we have a MSE value of 22.31; for testing set, we have a MSE value of 38.16.This is also reasonable because we build our model based on the traing data set."
   ]
  },
  {
   "cell_type": "code",
   "execution_count": 103,
   "metadata": {},
   "outputs": [
    {
     "data": {
      "image/png": "[encoded data removed]",
      "text/plain": [
       "<matplotlib.figure.Figure at 0x118d3d30>"
      ]
     },
     "metadata": {},
     "output_type": "display_data"
    }
   ],
   "source": [
    "# part d\n",
    "# we know that residual equals y-expected y, so we plot a histogram of (y- y hat)\n",
    "import matplotlib.pyplot as plt\n",
    "residual = test_y - y_test_predict\n",
    "plt.hist(residual)\n",
    "plt.show()"
   ]
  },
  {
   "cell_type": "markdown",
   "metadata": {},
   "source": [
    "The residuals do not appear to be centered around zero, as one would expect this might not be a good linear regression fit. They are also skewed toward the right which means the residuals do not exactly follow a normal distribution. And since residuals are not normally distributed, the model is therefore not ideal. So we might want to try something else to see if there is a better model."
   ]
  },
  {
   "cell_type": "code",
   "execution_count": null,
   "metadata": {},
   "outputs": [],
   "source": []
  },
  {
   "cell_type": "code",
   "execution_count": 104,
   "metadata": {},
   "outputs": [],
   "source": [
    "# Part e\n",
    "X = np.concatenate((X, np.square(X)), axis=1)"
   ]
  },
  {
   "cell_type": "code",
   "execution_count": 107,
   "metadata": {},
   "outputs": [
    {
     "name": "stdout",
     "output_type": "stream",
     "text": [
      "Mean squared error: 14.47\n",
      "Mean squared error: 32.95\n"
     ]
    }
   ],
   "source": [
    "train_x = X[:400]\n",
    "train_y = y[:400]\n",
    "test_x = X[400:]\n",
    "test_y = y[400:]\n",
    "reg = linear_model.LinearRegression()\n",
    "reg.fit(train_x,train_y)\n",
    "y_train_predict= reg.predict(train_x)\n",
    "y_test_predict = reg.predict(test_x)\n",
    "print(\"Mean squared error: %.2f\"\n",
    "      % mean_squared_error(train_y, y_train_predict))\n",
    "print(\"Mean squared error: %.2f\"\n",
    "      % mean_squared_error(test_y, y_test_predict))"
   ]
  },
  {
   "cell_type": "markdown",
   "metadata": {},
   "source": [
    "For training set, we have a MSE value of 14.47; for testing set, we have a MSE value of 32.95. By adding square terms of each variable to the data, we reduce the mean squared error for both training and testing sets."
   ]
  },
  {
   "cell_type": "markdown",
   "metadata": {},
   "source": [
    "## Answer\n",
    "\n"
   ]
  },
  {
   "cell_type": "markdown",
   "metadata": {},
   "source": [
    "# Question 4: Ridge and Lasso Regression (25 points)\n"
   ]
  },
  {
   "cell_type": "markdown",
   "metadata": {},
   "source": [
    "Using the same boston data from before, in this question you will explore the application of Lasso and Ridge regression using sklearn package in Python. The following code will split the data into training and test set using [train_test_split](http://scikit-learn.org/stable/modules/generated/sklearn.model_selection.train_test_split.html) with **random state 20** and **test_size = 0.33**.  Note: lambda is called alpha in sklearn."
   ]
  },
  {
   "cell_type": "code",
   "execution_count": 175,
   "metadata": {
    "collapsed": true
   },
   "outputs": [],
   "source": [
    "from sklearn.model_selection import train_test_split\n",
    "X_train, X_test, y_train, y_test = train_test_split(X,y,test_size = 0.33, random_state=20)"
   ]
  },
  {
   "cell_type": "markdown",
   "metadata": {},
   "source": [
    "1) Use sklearn.linear_model.Lasso and sklearn.linear_model.Ridge classes to do a [5-fold cross validation](http://scikit-learn.org/stable/auto_examples/exercises/plot_cv_diabetes.html#example-exercises-plot-cv-diabetes-py) using sklearn's [KFold](http://scikit-learn.org/stable/modules/generated/sklearn.cross_validation.KFold.html). For the sweep of the regularization parameter, we will look at a grid of values ranging from $\\lambda = 10^{10}$ to $\\lambda = 10^{-2}$. In Python, you can consider this range of values as follows:\n",
    "\n",
    "      import numpy as np\n",
    "\n",
    "      alphas =  10**np.linspace(10,-2,100)*0.5\n",
    "\n",
    "  Report the best chosen $\\lambda$ based on cross validation. The cross validation should happen on your training data using  average MSE as the scoring metric. (8pts)\n",
    "\n",
    "2) Run ridge and lasso for all of the alphas specified above (on training data), and plot the coefficients learned for each of them - there should be one plot each for lasso and ridge, so a total of two plots; the plots for different features for a method should be on the same plot (e.g. Fig 6.6 of JW). What do you qualitatively observe when value of the regularization parameter is changed? (7pts)\n",
    "\n",
    "3) Run least squares regression, ridge, and lasso on the training data. For ridge and lasso, use only the best regularization parameter. Report the prediction error (MSE) on the test data for each. (5pts)\n",
    "\n",
    "4) Run lasso again with cross validation using [sklearn.linear_model.LassoCV](http://scikit-learn.org/stable/modules/generated/sklearn.linear_model.LassoCV.html). Set the cross validation parameters as follows:\n",
    "\n",
    "    LassoCV(alphas=None, cv=10, max_iter=10000)\n",
    "\n",
    "Report the best $\\lambda$ based on cross validation. Run lasso on the training data using the best $\\lambda$ and report the coefficeints for 26 variables. What do you observe from these coefficients? (5pts)\n",
    "\n",
    "## Answer\n",
    "\n"
   ]
  },
  {
   "cell_type": "code",
   "execution_count": 136,
   "metadata": {},
   "outputs": [
    {
     "name": "stdout",
     "output_type": "stream",
     "text": [
      "Automatically created module for IPython interactive environment\n"
     ]
    },
    {
     "data": {
      "image/png": "[encoded data removed]",
      "text/plain": [
       "<matplotlib.figure.Figure at 0x112d0be0>"
      ]
     },
     "metadata": {},
     "output_type": "display_data"
    },
    {
     "data": {
      "text/plain": [
       "{'alpha': 0.31622776601683794}"
      ]
     },
     "execution_count": 136,
     "metadata": {},
     "output_type": "execute_result"
    }
   ],
   "source": [
    "from __future__ import print_function\n",
    "print(__doc__)\n",
    "\n",
    "import numpy as np\n",
    "import matplotlib.pyplot as plt\n",
    "from sklearn import datasets\n",
    "from sklearn.linear_model import LassoCV\n",
    "from sklearn.linear_model import Lasso\n",
    "from sklearn.model_selection import KFold\n",
    "from sklearn.model_selection import GridSearchCV\n",
    "from sklearn.linear_model import RidgeCV\n",
    "from sklearn.linear_model import Ridge\n",
    "\n",
    "boston = datasets.load_boston()\n",
    "X = boston.data\n",
    "y = boston.target\n",
    "\n",
    "lasso = Lasso(random_state=0)\n",
    "alphas = np.logspace(-4, -0.5, 30)\n",
    "\n",
    "tuned_parameters = [{'alpha': alphas}]\n",
    "n_folds = 5\n",
    "\n",
    "clf_lasso = GridSearchCV(lasso, tuned_parameters, cv=n_folds, refit=False)\n",
    "clf_lasso.fit(X, y)\n",
    "lasso_scores = clf_lasso.cv_results_['mean_test_score']\n",
    "scores_std = clf_lasso.cv_results_['std_test_score']\n",
    "plt.semilogx(alphas, lasso_scores)\n",
    "# plot error lines showing +/- std. errors of the scores\n",
    "std_error = scores_std / np.sqrt(n_folds)\n",
    "plt.show()\n",
    "clf_lasso.best_params_ \n"
   ]
  },
  {
   "cell_type": "code",
   "execution_count": 191,
   "metadata": {},
   "outputs": [
    {
     "data": {
      "image/png": "[encoded data removed]",
      "text/plain": [
       "<matplotlib.figure.Figure at 0x11e2a7b8>"
      ]
     },
     "metadata": {},
     "output_type": "display_data"
    },
    {
     "data": {
      "text/plain": [
       "{'alpha': 0.31622776601683794}"
      ]
     },
     "execution_count": 191,
     "metadata": {},
     "output_type": "execute_result"
    }
   ],
   "source": [
    "ridge = Ridge(random_state=0)\n",
    "clf_ridge = GridSearchCV(ridge, tuned_parameters, cv=n_folds, refit=False)\n",
    "clf_ridge.fit(X, y)\n",
    "ridge_scores = clf_ridge.cv_results_['mean_test_score']\n",
    "scores_std = clf_ridge.cv_results_['std_test_score']\n",
    "plt.semilogx(alphas, ridge_scores)\n",
    "# plot error lines showing +/- std. errors of the scores\n",
    "std_error = scores_std / np.sqrt(n_folds)\n",
    "plt.show()\n",
    "clf_ridge.best_params_ \n"
   ]
  },
  {
   "cell_type": "code",
   "execution_count": 151,
   "metadata": {},
   "outputs": [
    {
     "name": "stdout",
     "output_type": "stream",
     "text": [
      "best lambda for lasso: 0.0001\n",
      "best lambda for ridge: 0.0001\n"
     ]
    }
   ],
   "source": [
    "lasso_alpha = alphas[np.argmin(lasso_scores)]\n",
    "ridge_alpha = alphas[np.argmin(ridge_scores)]\n",
    "print ('best lambda for lasso:',lasso_alpha)\n",
    "print ('best lambda for ridge:',ridge_alpha)"
   ]
  },
  {
   "cell_type": "code",
   "execution_count": 172,
   "metadata": {},
   "outputs": [],
   "source": [
    "# Create empty data frame to store the coefficients for each value of alpha/lambda\n",
    "data_X =pd.DataFrame(X)\n",
    "df_coefs = pd.DataFrame(np.nan, index = alphas, columns = data_X.columns.values)"
   ]
  },
  {
   "cell_type": "code",
   "execution_count": 190,
   "metadata": {},
   "outputs": [
    {
     "data": {
      "image/png": "[encoded data removed]",
      "text/plain": [
       "<matplotlib.figure.Figure at 0x118c4588>"
      ]
     },
     "metadata": {},
     "output_type": "display_data"
    }
   ],
   "source": [
    "# Lasso Regression\n",
    "\n",
    "## Initialize lasso model \n",
    "lasso = linear_model.Lasso()\n",
    "## Initialize dataframe to store lasso coefficients\n",
    "lasso_coefs = df_coefs\n",
    "## Fill dataframe with regression coefficients for each value of alpha\n",
    "for alpha in alphas:\n",
    "    lasso.alpha = alpha\n",
    "    lasso.fit(X_train, y_train)\n",
    "    lasso_coefs.loc[alpha] = lasso.coef_\n",
    "\n",
    "## Plot alpha vs. the value of each coefficients\n",
    "lasso_coefs.plot(logx=True)\n",
    "legend(loc=1, ncol=2)\n",
    "xlim([alphas[-1], alphas[0]])\n",
    "title('Lasso Regression Coefficients')\n",
    "xlabel('Regularization Parameter (lambda/alpha)')\n",
    "ylabel('Regression Coefficients')\n",
    "## Indicate best regularization parameter\n",
    "plt.axvline(lasso_alpha, linestyle='--', color='.5')\n",
    "plt.show()"
   ]
  },
  {
   "cell_type": "code",
   "execution_count": 198,
   "metadata": {},
   "outputs": [],
   "source": [
    "# Create empty data frame to store the coefficients for each value of alpha/lambda\n",
    "data_X =pd.DataFrame(X)\n",
    "df_coefs = pd.DataFrame(np.nan, index = alphas, columns = data_X.columns.values)"
   ]
  },
  {
   "cell_type": "code",
   "execution_count": 199,
   "metadata": {},
   "outputs": [
    {
     "data": {
      "image/png": "[encoded data removed]",
      "text/plain": [
       "<matplotlib.figure.Figure at 0x128295f8>"
      ]
     },
     "metadata": {},
     "output_type": "display_data"
    }
   ],
   "source": [
    "# Ridge Regression\n",
    "\n",
    "## Initialize ridge model\n",
    "ridge = linear_model.Ridge()\n",
    "## Initialize dataframe to store ridge coefficients\n",
    "ridge_coefs = df_coefs\n",
    "## Fill dataframe with regression coefficients for each value of alpha\n",
    "for alpha in alphas:\n",
    "    ridge.alpha = alpha\n",
    "    ridge.fit(X_train, y_train)\n",
    "    ridge_coefs.loc[alpha] = ridge.coef_\n",
    "\n",
    "## Plot alpha vs. the value of each coefficients\n",
    "\n",
    "ridge_coefs.plot(logx=True)\n",
    "legend(loc=1, ncol=2)\n",
    "xlim([alphas[-1], alphas[0]])\n",
    "title('Ridge Regression Coefficients')\n",
    "xlabel('Regularization Parameter (alpha/lambda)')\n",
    "ylabel('Regression Coefficients')\n",
    "## Indicate best regularization parameter\n",
    "plt.axvline(ridge_alpha, linestyle='--', color='.5')\n",
    "plt.show()"
   ]
  },
  {
   "cell_type": "code",
   "execution_count": 204,
   "metadata": {},
   "outputs": [
    {
     "name": "stdout",
     "output_type": "stream",
     "text": [
      "Out of Sample MSE:\n",
      "Linear Regression : 24.5894595553\n",
      "Lasso Regression  : 24.5879284584\n",
      "Ridge Regression  : 24.5893464335\n"
     ]
    }
   ],
   "source": [
    "# Least Squares\n",
    "linear = linear_model.LinearRegression()\n",
    "linear.fit(X_train, y_train)\n",
    "linear_pred = linear.predict(X_test)\n",
    "linear_MSE = np.mean((linear_pred - y_test)**2)\n",
    "\n",
    "# Lasso\n",
    "lasso = linear_model.Lasso(alpha = lasso_alpha)\n",
    "lasso.fit(X_train, y_train)\n",
    "lasso_pred = lasso.predict(X_test)\n",
    "lasso_MSE = np.mean((lasso_pred - y_test)**2)\n",
    "\n",
    "# Ridge\n",
    "ridge = linear_model.Ridge(alpha = ridge_alpha)\n",
    "ridge.fit(X_train, y_train)\n",
    "ridge_pred = ridge.predict(X_test)\n",
    "ridge_MSE = np.mean((ridge_pred - y_test)**2)\n",
    "\n",
    "print ('Out of Sample MSE:')\n",
    "print\n",
    "print ('Linear Regression :', linear_MSE)\n",
    "print ('Lasso Regression  :', lasso_MSE)\n",
    "print ('Ridge Regression  :', ridge_MSE)"
   ]
  },
  {
   "cell_type": "code",
   "execution_count": 206,
   "metadata": {},
   "outputs": [
    {
     "name": "stdout",
     "output_type": "stream",
     "text": [
      "Best Regularization Parameter (based on cross-validation): 0.718874102209 (10^-0.143347)\n"
     ]
    }
   ],
   "source": [
    "lassoCV = linear_model.LassoCV(alphas=None, cv=10, max_iter=10000)\n",
    "lassoCV.fit(X_train, y_train)\n",
    "lassoCV_pred = lassoCV.predict(X_test)\n",
    "lassoCV_MSE = np.mean((lassoCV_pred - y_test)**2)\n",
    "\n",
    "print ('Best Regularization Parameter (based on cross-validation):', lassoCV.alpha_, '(10^%f)' % math.log10(lassoCV.alpha_))\n"
   ]
  },
  {
   "cell_type": "code",
   "execution_count": 207,
   "metadata": {},
   "outputs": [
    {
     "data": {
      "text/plain": [
       "5     2.548846\n",
       "8     0.190544\n",
       "1     0.028380\n",
       "6     0.025288\n",
       "11    0.009230\n",
       "4    -0.000000\n",
       "3     0.000000\n",
       "2    -0.000000\n",
       "9    -0.013592\n",
       "0    -0.028409\n",
       "7    -0.490980\n",
       "10   -0.574313\n",
       "12   -0.663865\n",
       "dtype: float64"
      ]
     },
     "execution_count": 207,
     "metadata": {},
     "output_type": "execute_result"
    }
   ],
   "source": [
    "bestLasso_coefs = pd.Series(lassoCV.coef_, index = df_coefs.columns.values)\n",
    "bestLasso_coefs.sort_values(ascending=False)"
   ]
  },
  {
   "cell_type": "markdown",
   "metadata": {},
   "source": [
    "The best regularization parameter based on the cross-validation results is approximately $10^{-0.143347}$. The corresponding lasso regression coefficients are shown above. When this shrinkage parameter is used, some coefficients are either shrunk to zero or close to zero. In this case, only the following column numbers remain non-zero: 5,8,1,6,11,9,0,7,10,12."
   ]
  },
  {
   "cell_type": "markdown",
   "metadata": {},
   "source": [
    "# Question 5  (5 pts)\n",
    "\n",
    "A regression model that includes \"interaction terms\" (i.e. quadratic terms of the form $x_ix_j$) as predictors in addition to the linear terms is clearly more general than a corresponding model that employs the same independent variables but only uses the linear terms. Outline two situations where the simpler (less general) model would be preferred to the more powerful model that includes interactive terms.\n",
    "\n",
    "## Answer\n",
    "\n"
   ]
  }
 ],
 "metadata": {
  "anaconda-cloud": {},
  "kernelspec": {
   "display_name": "Python 2",
   "language": "python",
   "name": "python2"
  },
  "language_info": {
   "codemirror_mode": {
    "name": "ipython",
    "version": 2
   },
   "file_extension": ".py",
   "mimetype": "text/x-python",
   "name": "python",
   "nbconvert_exporter": "python",
   "pygments_lexer": "ipython2",
   "version": "2.7.13"
  }
 },
 "nbformat": 4,
 "nbformat_minor": 1
}
