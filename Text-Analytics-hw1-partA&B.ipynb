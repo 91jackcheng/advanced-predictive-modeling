{
 "cells": [
  {
   "cell_type": "code",
   "execution_count": 1,
   "metadata": {},
   "outputs": [
    {
     "name": "stdout",
     "output_type": "stream",
     "text": [
      "Populating the interactive namespace from numpy and matplotlib\n"
     ]
    }
   ],
   "source": [
    "from pandas import Series, DataFrame\n",
    "import pandas as pd\n",
    "import nltk\n",
    "import operator\n",
    "import re,string\n",
    "from patsy import dmatrices\n",
    "%pylab inline\n",
    "from nltk.corpus import stopwords\n",
    "import re\n",
    "from itertools import chain\n",
    "from collections import Counter\n",
    "import random\n",
    "from nltk.probability import FreqDist\n",
    "import matplotlib.pyplot as plt"
   ]
  },
  {
   "cell_type": "code",
   "execution_count": 2,
   "metadata": {
    "collapsed": true
   },
   "outputs": [],
   "source": [
    "train_data = pd.read_csv('Train_rev1.csv')"
   ]
  },
  {
   "cell_type": "code",
   "execution_count": 3,
   "metadata": {},
   "outputs": [
    {
     "data": {
      "text/html": [
       "<div>\n",
       "<style>\n",
       "    .dataframe thead tr:only-child th {\n",
       "        text-align: right;\n",
       "    }\n",
       "\n",
       "    .dataframe thead th {\n",
       "        text-align: left;\n",
       "    }\n",
       "\n",
       "    .dataframe tbody tr th {\n",
       "        vertical-align: top;\n",
       "    }\n",
       "</style>\n",
       "<table border=\"1\" class=\"dataframe\">\n",
       "  <thead>\n",
       "    <tr style=\"text-align: right;\">\n",
       "      <th></th>\n",
       "      <th>Id</th>\n",
       "      <th>Title</th>\n",
       "      <th>FullDescription</th>\n",
       "      <th>LocationRaw</th>\n",
       "      <th>LocationNormalized</th>\n",
       "      <th>ContractType</th>\n",
       "      <th>ContractTime</th>\n",
       "      <th>Company</th>\n",
       "      <th>Category</th>\n",
       "      <th>SalaryRaw</th>\n",
       "      <th>SalaryNormalized</th>\n",
       "      <th>SourceName</th>\n",
       "    </tr>\n",
       "  </thead>\n",
       "  <tbody>\n",
       "    <tr>\n",
       "      <th>0</th>\n",
       "      <td>12612628</td>\n",
       "      <td>Engineering Systems Analyst</td>\n",
       "      <td>Engineering Systems Analyst Dorking Surrey Sal...</td>\n",
       "      <td>Dorking, Surrey, Surrey</td>\n",
       "      <td>Dorking</td>\n",
       "      <td>NaN</td>\n",
       "      <td>permanent</td>\n",
       "      <td>Gregory Martin International</td>\n",
       "      <td>Engineering Jobs</td>\n",
       "      <td>20000 - 30000/annum 20-30K</td>\n",
       "      <td>25000</td>\n",
       "      <td>cv-library.co.uk</td>\n",
       "    </tr>\n",
       "    <tr>\n",
       "      <th>1</th>\n",
       "      <td>12612830</td>\n",
       "      <td>Stress Engineer Glasgow</td>\n",
       "      <td>Stress Engineer Glasgow Salary **** to **** We...</td>\n",
       "      <td>Glasgow, Scotland, Scotland</td>\n",
       "      <td>Glasgow</td>\n",
       "      <td>NaN</td>\n",
       "      <td>permanent</td>\n",
       "      <td>Gregory Martin International</td>\n",
       "      <td>Engineering Jobs</td>\n",
       "      <td>25000 - 35000/annum 25-35K</td>\n",
       "      <td>30000</td>\n",
       "      <td>cv-library.co.uk</td>\n",
       "    </tr>\n",
       "    <tr>\n",
       "      <th>2</th>\n",
       "      <td>12612844</td>\n",
       "      <td>Modelling and simulation analyst</td>\n",
       "      <td>Mathematical Modeller / Simulation Analyst / O...</td>\n",
       "      <td>Hampshire, South East, South East</td>\n",
       "      <td>Hampshire</td>\n",
       "      <td>NaN</td>\n",
       "      <td>permanent</td>\n",
       "      <td>Gregory Martin International</td>\n",
       "      <td>Engineering Jobs</td>\n",
       "      <td>20000 - 40000/annum 20-40K</td>\n",
       "      <td>30000</td>\n",
       "      <td>cv-library.co.uk</td>\n",
       "    </tr>\n",
       "    <tr>\n",
       "      <th>3</th>\n",
       "      <td>12613049</td>\n",
       "      <td>Engineering Systems Analyst / Mathematical Mod...</td>\n",
       "      <td>Engineering Systems Analyst / Mathematical Mod...</td>\n",
       "      <td>Surrey, South East, South East</td>\n",
       "      <td>Surrey</td>\n",
       "      <td>NaN</td>\n",
       "      <td>permanent</td>\n",
       "      <td>Gregory Martin International</td>\n",
       "      <td>Engineering Jobs</td>\n",
       "      <td>25000 - 30000/annum 25K-30K negotiable</td>\n",
       "      <td>27500</td>\n",
       "      <td>cv-library.co.uk</td>\n",
       "    </tr>\n",
       "    <tr>\n",
       "      <th>4</th>\n",
       "      <td>12613647</td>\n",
       "      <td>Pioneer, Miser Engineering Systems Analyst</td>\n",
       "      <td>Pioneer, Miser  Engineering Systems Analyst Do...</td>\n",
       "      <td>Surrey, South East, South East</td>\n",
       "      <td>Surrey</td>\n",
       "      <td>NaN</td>\n",
       "      <td>permanent</td>\n",
       "      <td>Gregory Martin International</td>\n",
       "      <td>Engineering Jobs</td>\n",
       "      <td>20000 - 30000/annum 20-30K</td>\n",
       "      <td>25000</td>\n",
       "      <td>cv-library.co.uk</td>\n",
       "    </tr>\n",
       "  </tbody>\n",
       "</table>\n",
       "</div>"
      ],
      "text/plain": [
       "         Id                                              Title  \\\n",
       "0  12612628                        Engineering Systems Analyst   \n",
       "1  12612830                            Stress Engineer Glasgow   \n",
       "2  12612844                   Modelling and simulation analyst   \n",
       "3  12613049  Engineering Systems Analyst / Mathematical Mod...   \n",
       "4  12613647         Pioneer, Miser Engineering Systems Analyst   \n",
       "\n",
       "                                     FullDescription  \\\n",
       "0  Engineering Systems Analyst Dorking Surrey Sal...   \n",
       "1  Stress Engineer Glasgow Salary **** to **** We...   \n",
       "2  Mathematical Modeller / Simulation Analyst / O...   \n",
       "3  Engineering Systems Analyst / Mathematical Mod...   \n",
       "4  Pioneer, Miser  Engineering Systems Analyst Do...   \n",
       "\n",
       "                         LocationRaw LocationNormalized ContractType  \\\n",
       "0            Dorking, Surrey, Surrey            Dorking          NaN   \n",
       "1        Glasgow, Scotland, Scotland            Glasgow          NaN   \n",
       "2  Hampshire, South East, South East          Hampshire          NaN   \n",
       "3     Surrey, South East, South East             Surrey          NaN   \n",
       "4     Surrey, South East, South East             Surrey          NaN   \n",
       "\n",
       "  ContractTime                       Company          Category  \\\n",
       "0    permanent  Gregory Martin International  Engineering Jobs   \n",
       "1    permanent  Gregory Martin International  Engineering Jobs   \n",
       "2    permanent  Gregory Martin International  Engineering Jobs   \n",
       "3    permanent  Gregory Martin International  Engineering Jobs   \n",
       "4    permanent  Gregory Martin International  Engineering Jobs   \n",
       "\n",
       "                                SalaryRaw  SalaryNormalized        SourceName  \n",
       "0              20000 - 30000/annum 20-30K             25000  cv-library.co.uk  \n",
       "1              25000 - 35000/annum 25-35K             30000  cv-library.co.uk  \n",
       "2              20000 - 40000/annum 20-40K             30000  cv-library.co.uk  \n",
       "3  25000 - 30000/annum 25K-30K negotiable             27500  cv-library.co.uk  \n",
       "4              20000 - 30000/annum 20-30K             25000  cv-library.co.uk  "
      ]
     },
     "execution_count": 3,
     "metadata": {},
     "output_type": "execute_result"
    }
   ],
   "source": [
    "train_data[:5]"
   ]
  },
  {
   "cell_type": "code",
   "execution_count": 4,
   "metadata": {},
   "outputs": [
    {
     "name": "stdout",
     "output_type": "stream",
     "text": [
      "190272    A Head Chef role has become available at a gol...\n",
      "163951    We are currently searching for a new batch of ...\n",
      "24266     PA  Educational Environment (39 weeks per annu...\n",
      "86395     SW****:Financial Controller Location:N Somerse...\n",
      "114528    CPCS Forklift Driver required to work on a new...\n",
      "Name: FullDescription, dtype: object\n"
     ]
    }
   ],
   "source": [
    "# A1, top 5 parts of speech in this corpus of job descriptions\n",
    "random.seed(1000) \n",
    "rows = random.sample(range(len(train_data)), 1000) \n",
    "sample = train_data['FullDescription'][rows]\n",
    "print sample[:5]\n"
   ]
  },
  {
   "cell_type": "code",
   "execution_count": 5,
   "metadata": {
    "collapsed": true
   },
   "outputs": [],
   "source": [
    "corpus = sample.str.cat(sep=' ')\n",
    "corpus = corpus.decode('utf-8')\n",
    "# Converting to lower case and making sure there are only alphabetic characters, this also get rid of punctuation\n",
    "corpus_words = nltk.word_tokenize(corpus.lower())\n",
    "corpus_words = [word for word in corpus_words if word.isalpha()==True]"
   ]
  },
  {
   "cell_type": "code",
   "execution_count": null,
   "metadata": {
    "collapsed": true
   },
   "outputs": [],
   "source": []
  },
  {
   "cell_type": "code",
   "execution_count": 6,
   "metadata": {},
   "outputs": [
    {
     "data": {
      "text/plain": [
       "[(u'a', 'DT'),\n",
       " (u'head', 'NN'),\n",
       " (u'chef', 'NN'),\n",
       " (u'role', 'NN'),\n",
       " (u'has', 'VBZ'),\n",
       " (u'become', 'VBN'),\n",
       " (u'available', 'JJ'),\n",
       " (u'at', 'IN'),\n",
       " (u'a', 'DT'),\n",
       " (u'golf', 'NN')]"
      ]
     },
     "execution_count": 6,
     "metadata": {},
     "output_type": "execute_result"
    }
   ],
   "source": [
    "# take a look at the words after tokenization and removing punctuation\n",
    "pos = nltk.pos_tag(corpus_words)\n",
    "pos[:10]"
   ]
  },
  {
   "cell_type": "code",
   "execution_count": 7,
   "metadata": {},
   "outputs": [
    {
     "data": {
      "text/plain": [
       "[('NN', 62405), ('JJ', 27847), ('IN', 26443), ('DT', 20720), ('NNS', 20208)]"
      ]
     },
     "execution_count": 7,
     "metadata": {},
     "output_type": "execute_result"
    }
   ],
   "source": [
    "# top 5 part of speech\n",
    "counts = Counter(tag for word,tag in pos)\n",
    "counts.most_common()[:5]"
   ]
  },
  {
   "cell_type": "code",
   "execution_count": 8,
   "metadata": {
    "collapsed": true
   },
   "outputs": [],
   "source": [
    "# A2, Does this corpus support Zipf’s law?\n",
    "# frist, calculate the frequency of words\n",
    "fdist = nltk.FreqDist(corpus_words)\n",
    "sorted_fdist = pd.DataFrame(sorted(fdist.items(), key=operator.itemgetter(1),reverse=True))\n",
    "sorted_fdist.columns = ['word','frequency']\n",
    "# since we alrady remove non-alphabetic characters(punctuation) before, we then rank the word in sorted frequency dictionary\n",
    "sorted_fdist['rank'] = sorted_fdist['frequency'].rank(method='min',ascending=False)\n",
    "# take most common frequenct words and plot the graph\n",
    "top_100 = sorted_fdist[:100]\n"
   ]
  },
  {
   "cell_type": "code",
   "execution_count": 9,
   "metadata": {},
   "outputs": [
    {
     "data": {
      "image/png": "[encoded data removed]",
      "text/plain": [
       "<matplotlib.figure.Figure at 0x22bf3be0>"
      ]
     },
     "metadata": {},
     "output_type": "display_data"
    }
   ],
   "source": [
    "#plot the rank versus frequency graph\n",
    "plt.figure(figsize=(20,10))\n",
    "fdist.plot(100, cumulative=False)"
   ]
  },
  {
   "cell_type": "code",
   "execution_count": 10,
   "metadata": {},
   "outputs": [
    {
     "name": "stderr",
     "output_type": "stream",
     "text": [
      "C:\\Users\\zjj27\\Anaconda2\\lib\\site-packages\\ipykernel_launcher.py:2: SettingWithCopyWarning: \n",
      "A value is trying to be set on a copy of a slice from a DataFrame.\n",
      "Try using .loc[row_indexer,col_indexer] = value instead\n",
      "\n",
      "See the caveats in the documentation: http://pandas.pydata.org/pandas-docs/stable/indexing.html#indexing-view-versus-copy\n",
      "  \n"
     ]
    },
    {
     "data": {
      "text/plain": [
       "<matplotlib.text.Text at 0x23fef208>"
      ]
     },
     "execution_count": 10,
     "metadata": {},
     "output_type": "execute_result"
    },
    {
     "data": {
      "image/png": "[encoded data removed]",
      "text/plain": [
       "<matplotlib.figure.Figure at 0x354a97b8>"
      ]
     },
     "metadata": {},
     "output_type": "display_data"
    }
   ],
   "source": [
    "# Theoretical value of Zipf's law\n",
    "top_100['theoretical']= [top_100[\"frequency\"].max()/c for c in top_100['rank']]\n",
    "\n",
    "# Plotting actuals vs theoretical\n",
    "fig = plt.figure()\n",
    "\n",
    "ax = plt.plot([math.log(c) for c in top_100['rank'].values], [math.log(c) for c in top_100['frequency']], 'ro',color='black')\n",
    "\n",
    "ax2 = plt.plot([math.log(c) for c in top_100['rank'].values], [math.log(c) for c in top_100['theoretical']])\n",
    "\n",
    "xlabel(\"log(rank)\")\n",
    "ylabel(\"log(frequency)\")"
   ]
  },
  {
   "cell_type": "code",
   "execution_count": 11,
   "metadata": {
    "collapsed": true
   },
   "outputs": [],
   "source": [
    "# From the first graph, we can see that the most common 100 words does follow the Zipf's law in generally. However, from the \n",
    "# second graph, we also found out that words with higher frequency among the 100 words do not follow the law as closely."
   ]
  },
  {
   "cell_type": "code",
   "execution_count": 12,
   "metadata": {},
   "outputs": [
    {
     "data": {
      "text/plain": [
       "[(u'work', 2167),\n",
       " (u'experience', 2014),\n",
       " (u'role', 1314),\n",
       " (u'team', 1271),\n",
       " (u'business', 1181),\n",
       " (u'client', 1152),\n",
       " (u'service', 971),\n",
       " (u'skill', 943),\n",
       " (u'manager', 890),\n",
       " (u'within', 852)]"
      ]
     },
     "execution_count": 12,
     "metadata": {},
     "output_type": "execute_result"
    }
   ],
   "source": [
    "# A3 remove stopword and lemmatize the corpus\n",
    "from nltk.stem import PorterStemmer, WordNetLemmatizer\n",
    "\n",
    "# Removing stop words\n",
    "filter_stopwords = [word for word in corpus_words if word not in stopwords.words('english')]\n",
    "\n",
    "# Lemmatizing based on the POS\n",
    "filtered_poi = nltk.pos_tag(filter_stopwords)\n",
    "\n",
    "wnl = WordNetLemmatizer()\n",
    "wordnet_tag ={'NN':'n','JJ':'a','VB':'v','RB':'r'}\n",
    "words_lem = []\n",
    "for t in filtered_poi:\n",
    "    try: words_lem.append(wnl.lemmatize(t[0],wordnet_tag[t[1][:2]]))\n",
    "    except: words_lem.append(wnl.lemmatize(t[0]))\n",
    "\n",
    "# Getting most common words\n",
    "fdist_2 = nltk.FreqDist(words_lem)\n",
    "fdist_2.most_common(10)\n"
   ]
  },
  {
   "cell_type": "code",
   "execution_count": 13,
   "metadata": {},
   "outputs": [],
   "source": [
    "# part B1\n",
    "#np.percentile(sample[''], 75)\n"
   ]
  },
  {
   "cell_type": "code",
   "execution_count": 14,
   "metadata": {},
   "outputs": [],
   "source": [
    "data = train_data.iloc[rows]\n"
   ]
  },
  {
   "cell_type": "code",
   "execution_count": 15,
   "metadata": {},
   "outputs": [],
   "source": [
    "p=np.percentile(data['SalaryNormalized'],75)\n"
   ]
  },
  {
   "cell_type": "code",
   "execution_count": 16,
   "metadata": {},
   "outputs": [
    {
     "name": "stderr",
     "output_type": "stream",
     "text": [
      "C:\\Users\\zjj27\\Anaconda2\\lib\\site-packages\\ipykernel_launcher.py:7: SettingWithCopyWarning: \n",
      "A value is trying to be set on a copy of a slice from a DataFrame.\n",
      "Try using .loc[row_indexer,col_indexer] = value instead\n",
      "\n",
      "See the caveats in the documentation: http://pandas.pydata.org/pandas-docs/stable/indexing.html#indexing-view-versus-copy\n",
      "  import sys\n"
     ]
    }
   ],
   "source": [
    "def flag(s):\n",
    "    if s>p:\n",
    "        return 1\n",
    "    else:\n",
    "        return 0\n",
    "    \n",
    "data['Flag'] = data['SalaryNormalized'].map(flag)"
   ]
  },
  {
   "cell_type": "code",
   "execution_count": 17,
   "metadata": {},
   "outputs": [
    {
     "data": {
      "text/html": [
       "<div>\n",
       "<style>\n",
       "    .dataframe thead tr:only-child th {\n",
       "        text-align: right;\n",
       "    }\n",
       "\n",
       "    .dataframe thead th {\n",
       "        text-align: left;\n",
       "    }\n",
       "\n",
       "    .dataframe tbody tr th {\n",
       "        vertical-align: top;\n",
       "    }\n",
       "</style>\n",
       "<table border=\"1\" class=\"dataframe\">\n",
       "  <thead>\n",
       "    <tr style=\"text-align: right;\">\n",
       "      <th></th>\n",
       "      <th>Id</th>\n",
       "      <th>Title</th>\n",
       "      <th>FullDescription</th>\n",
       "      <th>LocationRaw</th>\n",
       "      <th>LocationNormalized</th>\n",
       "      <th>ContractType</th>\n",
       "      <th>ContractTime</th>\n",
       "      <th>Company</th>\n",
       "      <th>Category</th>\n",
       "      <th>SalaryRaw</th>\n",
       "      <th>SalaryNormalized</th>\n",
       "      <th>SourceName</th>\n",
       "      <th>Flag</th>\n",
       "    </tr>\n",
       "  </thead>\n",
       "  <tbody>\n",
       "    <tr>\n",
       "      <th>190272</th>\n",
       "      <td>71741782</td>\n",
       "      <td>Head Chef  Quality Focused Golf Club  Restaura...</td>\n",
       "      <td>A Head Chef role has become available at a gol...</td>\n",
       "      <td>East Riding Yorkshire</td>\n",
       "      <td>East Riding</td>\n",
       "      <td>NaN</td>\n",
       "      <td>NaN</td>\n",
       "      <td>Chef Results</td>\n",
       "      <td>Hospitality &amp; Catering Jobs</td>\n",
       "      <td>From 22,000 to 24,000 per annum</td>\n",
       "      <td>23000</td>\n",
       "      <td>caterer.com</td>\n",
       "      <td>0</td>\n",
       "    </tr>\n",
       "    <tr>\n",
       "      <th>163951</th>\n",
       "      <td>71230700</td>\n",
       "      <td>Business Travel Consultant, Hull HU****</td>\n",
       "      <td>We are currently searching for a new batch of ...</td>\n",
       "      <td>Hull</td>\n",
       "      <td>Hull</td>\n",
       "      <td>NaN</td>\n",
       "      <td>permanent</td>\n",
       "      <td>NaN</td>\n",
       "      <td>Travel Jobs</td>\n",
       "      <td>10k - 15k</td>\n",
       "      <td>12500</td>\n",
       "      <td>traveljobsearch.com</td>\n",
       "      <td>0</td>\n",
       "    </tr>\n",
       "    <tr>\n",
       "      <th>24266</th>\n",
       "      <td>67643933</td>\n",
       "      <td>PA To Headmistress</td>\n",
       "      <td>PA  Educational Environment (39 weeks per annu...</td>\n",
       "      <td>Brighton, East Sussex, England, East Sussex</td>\n",
       "      <td>Brighton</td>\n",
       "      <td>part_time</td>\n",
       "      <td>permanent</td>\n",
       "      <td>Solutions2Recruitment</td>\n",
       "      <td>Teaching Jobs</td>\n",
       "      <td>19500/annum</td>\n",
       "      <td>19500</td>\n",
       "      <td>cv-library.co.uk</td>\n",
       "      <td>0</td>\n",
       "    </tr>\n",
       "    <tr>\n",
       "      <th>86395</th>\n",
       "      <td>69090387</td>\n",
       "      <td>Financial Controller</td>\n",
       "      <td>SW****:Financial Controller Location:N Somerse...</td>\n",
       "      <td>Somerset</td>\n",
       "      <td>Somerset</td>\n",
       "      <td>NaN</td>\n",
       "      <td>permanent</td>\n",
       "      <td>Forces Recruitment Services Ltd</td>\n",
       "      <td>Accounting &amp; Finance Jobs</td>\n",
       "      <td>20k - 30k pa + Pro rata</td>\n",
       "      <td>25000</td>\n",
       "      <td>legalprospects.com</td>\n",
       "      <td>0</td>\n",
       "    </tr>\n",
       "    <tr>\n",
       "      <th>114528</th>\n",
       "      <td>69750895</td>\n",
       "      <td>Telescopic Forklift Driver</td>\n",
       "      <td>CPCS Forklift Driver required to work on a new...</td>\n",
       "      <td>Bedford</td>\n",
       "      <td>Bedford</td>\n",
       "      <td>full_time</td>\n",
       "      <td>NaN</td>\n",
       "      <td>NaN</td>\n",
       "      <td>Trade &amp; Construction Jobs</td>\n",
       "      <td>9.00 - 10.00 per hour</td>\n",
       "      <td>18240</td>\n",
       "      <td>Jobcentre Plus</td>\n",
       "      <td>0</td>\n",
       "    </tr>\n",
       "  </tbody>\n",
       "</table>\n",
       "</div>"
      ],
      "text/plain": [
       "              Id                                              Title  \\\n",
       "190272  71741782  Head Chef  Quality Focused Golf Club  Restaura...   \n",
       "163951  71230700            Business Travel Consultant, Hull HU****   \n",
       "24266   67643933                                 PA To Headmistress   \n",
       "86395   69090387                               Financial Controller   \n",
       "114528  69750895                         Telescopic Forklift Driver   \n",
       "\n",
       "                                          FullDescription  \\\n",
       "190272  A Head Chef role has become available at a gol...   \n",
       "163951  We are currently searching for a new batch of ...   \n",
       "24266   PA  Educational Environment (39 weeks per annu...   \n",
       "86395   SW****:Financial Controller Location:N Somerse...   \n",
       "114528  CPCS Forklift Driver required to work on a new...   \n",
       "\n",
       "                                        LocationRaw LocationNormalized  \\\n",
       "190272                        East Riding Yorkshire        East Riding   \n",
       "163951                                         Hull               Hull   \n",
       "24266   Brighton, East Sussex, England, East Sussex           Brighton   \n",
       "86395                                      Somerset           Somerset   \n",
       "114528                                      Bedford            Bedford   \n",
       "\n",
       "       ContractType ContractTime                          Company  \\\n",
       "190272          NaN          NaN                     Chef Results   \n",
       "163951          NaN    permanent                              NaN   \n",
       "24266     part_time    permanent            Solutions2Recruitment   \n",
       "86395           NaN    permanent  Forces Recruitment Services Ltd   \n",
       "114528    full_time          NaN                              NaN   \n",
       "\n",
       "                           Category                        SalaryRaw  \\\n",
       "190272  Hospitality & Catering Jobs  From 22,000 to 24,000 per annum   \n",
       "163951                  Travel Jobs                        10k - 15k   \n",
       "24266                 Teaching Jobs                      19500/annum   \n",
       "86395     Accounting & Finance Jobs          20k - 30k pa + Pro rata   \n",
       "114528    Trade & Construction Jobs            9.00 - 10.00 per hour   \n",
       "\n",
       "        SalaryNormalized           SourceName  Flag  \n",
       "190272             23000          caterer.com     0  \n",
       "163951             12500  traveljobsearch.com     0  \n",
       "24266              19500     cv-library.co.uk     0  \n",
       "86395              25000   legalprospects.com     0  \n",
       "114528             18240       Jobcentre Plus     0  "
      ]
     },
     "execution_count": 17,
     "metadata": {},
     "output_type": "execute_result"
    }
   ],
   "source": [
    "data[:5]"
   ]
  },
  {
   "cell_type": "code",
   "execution_count": 18,
   "metadata": {},
   "outputs": [],
   "source": [
    "# getting training and testing set and all tokens\n",
    "# build a function to control if to remove stop words and apply lemmatization\n",
    "\n",
    "\n",
    "train_set, test_set = data[500:], data[:500]\n",
    "train = train_set[['FullDescription', 'Flag']]\n",
    "test = test_set[['FullDescription', 'Flag']]\n",
    "\n",
    "def getAllTokens(data, lemmatize, removeStopWords): \n",
    "    t = []\n",
    "    stpWords = nltk.corpus.stopwords.words('english') \n",
    "    wnl = WordNetLemmatizer()\n",
    "    for index, row in data.iterrows():\n",
    "        jobDesc = row['FullDescription'] \n",
    "        jobDesc = jobDesc.decode('utf-8')\n",
    "        \n",
    "        tkns = nltk.word_tokenize(jobDesc.lower())\n",
    "        tkns = [word for word in tkns if word.isalpha()==True]\n",
    "        \n",
    "        if removeStopWords:\n",
    "            trimTkns = [w for w in tkns if w.lower() not in stpWords] \n",
    "            tkns = trimTkns[:]\n",
    "        new_dict = dict() \n",
    "        for tk in tkns:\n",
    "            if lemmatize:\n",
    "                tr = wnl.lemmatize(tk.lower()) \n",
    "                tk = tr[:]\n",
    "            new_dict[tk.lower()] = new_dict.get(tk.lower(), 0) + 1 \n",
    "        t.append((new_dict, data['Flag'][index]))\n",
    "    return t\n"
   ]
  },
  {
   "cell_type": "code",
   "execution_count": 19,
   "metadata": {},
   "outputs": [
    {
     "name": "stdout",
     "output_type": "stream",
     "text": [
      "0.606\n"
     ]
    }
   ],
   "source": [
    "# get the feature train data and apply the build in Naive Bayes method on train data to get the classifier\n",
    "# Then apply classifier on train data to get the accuracy on test data\n",
    "train_feature = getAllTokens(train, False, False)\n",
    "test_feature = getAllTokens(test, False, False)\n",
    "classifier = nltk.NaiveBayesClassifier.train(train_feature)\n",
    "print(nltk.classify.accuracy(classifier, test_feature))\n"
   ]
  },
  {
   "cell_type": "code",
   "execution_count": 20,
   "metadata": {},
   "outputs": [
    {
     "name": "stdout",
     "output_type": "stream",
     "text": [
      "  |      0      1 |\n",
      "--+---------------+\n",
      "0 | <38.2%> 36.2% |\n",
      "1 |   3.2% <22.4%>|\n",
      "--+---------------+\n",
      "(row = reference; col = test)\n",
      "\n"
     ]
    }
   ],
   "source": [
    "# Confusion matrix\n",
    "test_mod = [x[0] for x in test_feature]\n",
    "predict = classifier.classify_many(test_mod)\n",
    "actual = [x[1] for x in test_feature]\n",
    "cm = nltk.ConfusionMatrix(actual, predict)\n",
    "print (cm.pretty_format(sort_by_count=True, show_percents=True))\n"
   ]
  },
  {
   "cell_type": "code",
   "execution_count": null,
   "metadata": {
    "collapsed": true
   },
   "outputs": [],
   "source": [
    "# if we just remove puctuation and apply naive bayes classification method, we get a model accuracy of 60.6%"
   ]
  },
  {
   "cell_type": "code",
   "execution_count": 21,
   "metadata": {},
   "outputs": [
    {
     "name": "stdout",
     "output_type": "stream",
     "text": [
      "0.598\n"
     ]
    }
   ],
   "source": [
    "# Part B2, Do lemmatization to see if accuracy of Naive Bayes classification increases\n",
    "# since we build a function in previous question, we just need to set lemmatize to be True\n",
    "train_feature_lem = getAllTokens(train, True, False) \n",
    "test_feature_lem = getAllTokens(test, True, False) \n",
    "classifier = nltk.NaiveBayesClassifier.train(train_feature_lem) \n",
    "print(nltk.classify.accuracy(classifier, test_feature_lem))\n"
   ]
  },
  {
   "cell_type": "code",
   "execution_count": null,
   "metadata": {
    "collapsed": true
   },
   "outputs": [],
   "source": [
    "# After Lemmatization, the model accuracy drops from 60.6% to 59.8%."
   ]
  },
  {
   "cell_type": "code",
   "execution_count": 22,
   "metadata": {},
   "outputs": [
    {
     "name": "stdout",
     "output_type": "stream",
     "text": [
      "  |      0      1 |\n",
      "--+---------------+\n",
      "0 | <37.4%> 37.0% |\n",
      "1 |   3.2% <22.4%>|\n",
      "--+---------------+\n",
      "(row = reference; col = test)\n",
      "\n"
     ]
    }
   ],
   "source": [
    "#\tCreating confusion matrix \n",
    "test_mod = [x[0] for x in test_feature_lem]\n",
    "predict = classifier.classify_many(test_mod)\n",
    "actual = [x[1] for x in test_feature_lem]\n",
    "cm = nltk.ConfusionMatrix(actual, predict)\n",
    "print (cm.pretty_format(sort_by_count=True, show_percents=True))\n"
   ]
  },
  {
   "cell_type": "code",
   "execution_count": 27,
   "metadata": {},
   "outputs": [
    {
     "name": "stdout",
     "output_type": "stream",
     "text": [
      "0.582\n",
      "Most Informative Features\n",
      "                 insight = 1                   1 : 0      =     14.1 : 1.0\n",
      "                   might = 1                   1 : 0      =     14.1 : 1.0\n",
      "                   board = 1                   1 : 0      =     12.3 : 1.0\n",
      "                     iso = 1                   1 : 0      =     11.9 : 1.0\n",
      "               currently = 2                   1 : 0      =     11.9 : 1.0\n",
      "               demanding = 1                   1 : 0      =     11.9 : 1.0\n",
      "                oriented = 1                   1 : 0      =     11.9 : 1.0\n",
      "                 pricing = 1                   1 : 0      =     11.9 : 1.0\n",
      "                   meets = 1                   1 : 0      =      9.8 : 1.0\n",
      "              approaches = 1                   1 : 0      =      9.8 : 1.0\n",
      "None\n"
     ]
    }
   ],
   "source": [
    "# Part B3, Remove stop words but do not lemmatize and compare to Part B1 and B2.\n",
    "\n",
    "train_feature_sw = getAllTokens(train, False, True) \n",
    "test_feature_sw = getAllTokens(test, False, True) \n",
    "classifier = nltk.NaiveBayesClassifier.train(train_feature_sw) \n",
    "print(nltk.classify.accuracy(classifier, test_feature_sw))\n",
    "print classifier.show_most_informative_features(10)"
   ]
  },
  {
   "cell_type": "code",
   "execution_count": 24,
   "metadata": {},
   "outputs": [],
   "source": [
    "# After we remove the stop words, the, model accuracy drops to 58.2% and is lowest among the three. Therefore, we conclude that\n",
    "# Naive Bayes classification perform the best when we just remove the puctuation and do not lemmatize and do not remove the \n",
    "# stop words from the tokens."
   ]
  },
  {
   "cell_type": "code",
   "execution_count": null,
   "metadata": {},
   "outputs": [],
   "source": [
    "# Part B4"
   ]
  },
  {
   "cell_type": "code",
   "execution_count": 28,
   "metadata": {
    "collapsed": true
   },
   "outputs": [],
   "source": [
    "import itertools\n",
    "from nltk.collocations import BigramCollocationFinder \n",
    "from nltk.metrics import BigramAssocMeasures\n",
    "\n",
    "# Function for getting bigrams\n",
    "def bigram_word_feats(words, score_fn=BigramAssocMeasures.chi_sq, n=200): \n",
    "    bigram_finder = BigramCollocationFinder.from_words(words)\n",
    "    bigrams = bigram_finder.nbest(score_fn, n)\n",
    "    return dict([(ngram, True) for ngram in itertools.chain(words, bigrams)])\n"
   ]
  },
  {
   "cell_type": "code",
   "execution_count": 38,
   "metadata": {},
   "outputs": [],
   "source": [
    "# Creating training feature set for tokens including bigram using already created training dataset in B1\n",
    "train_feature_bi = []\n",
    "for index, row in train.iterrows(): \n",
    "    jobDesc = row['FullDescription']\n",
    "    jobDesc = jobDesc.decode('utf-8')\n",
    "    tkns = nltk.word_tokenize(jobDesc)\n",
    "    for tk in tkns:\n",
    "        tk = tk.lower()\n",
    "        tkns_final = bigram_word_feats(tkns) \n",
    "        \n",
    "        new_dict = dict()\n",
    "        for tk in tkns_final:\n",
    "            new_dict[tk] = new_dict.get(tk, 0) + 1            \n",
    "        train_feature_bi.append((new_dict, train['Flag'][index]))"
   ]
  },
  {
   "cell_type": "code",
   "execution_count": 33,
   "metadata": {
    "collapsed": true
   },
   "outputs": [],
   "source": [
    "# Creating test feature set for tokens including bigram using already created test dataset in B1 \n",
    "test_feature_bi = []\n",
    "for index, row in test.iterrows(): \n",
    "    jobDesc = row['FullDescription'] \n",
    "    jobDesc = jobDesc.decode('utf-8')\n",
    "    tkns = nltk.word_tokenize(jobDesc) \n",
    "    for tk in tkns:\n",
    "        tk = tk.lower()\n",
    "        tkns_final = bigram_word_feats(tkns) \n",
    "    new_dict = dict()\n",
    "    for tk in tkns_final:\n",
    "        new_dict[tk] = new_dict.get(tk, 0) + 1 \n",
    "        test_feature_bi.append((new_dict, test['Flag'][index])) \n"
   ]
  },
  {
   "cell_type": "code",
   "execution_count": 39,
   "metadata": {},
   "outputs": [
    {
     "name": "stdout",
     "output_type": "stream",
     "text": [
      "0.747575542907\n"
     ]
    }
   ],
   "source": [
    "classifier_bi = nltk.NaiveBayesClassifier.train(train_feature_bi)\n",
    "print(nltk.classify.accuracy(classifier_bi, test_feature_bi))\n"
   ]
  },
  {
   "cell_type": "code",
   "execution_count": null,
   "metadata": {
    "collapsed": true
   },
   "outputs": [],
   "source": [
    "# After we add the part-of-speech bigrams, the model accuracy increases to 74.76% and it is also the highest model accuracy\n",
    "# we have so far."
   ]
  },
  {
   "cell_type": "code",
   "execution_count": null,
   "metadata": {},
   "outputs": [],
   "source": []
  },
  {
   "cell_type": "code",
   "execution_count": null,
   "metadata": {
    "collapsed": true
   },
   "outputs": [],
   "source": []
  }
 ],
 "metadata": {
  "kernelspec": {
   "display_name": "Python 2",
   "language": "python",
   "name": "python2"
  },
  "language_info": {
   "codemirror_mode": {
    "name": "ipython",
    "version": 2
   },
   "file_extension": ".py",
   "mimetype": "text/x-python",
   "name": "python",
   "nbconvert_exporter": "python",
   "pygments_lexer": "ipython2",
   "version": "2.7.13"
  }
 },
 "nbformat": 4,
 "nbformat_minor": 2
}
