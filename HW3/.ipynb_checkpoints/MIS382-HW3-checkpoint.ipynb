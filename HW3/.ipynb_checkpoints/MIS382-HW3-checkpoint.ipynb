{
 "cells": [
  {
   "cell_type": "markdown",
   "metadata": {},
   "source": [
    "\n",
    "# <p style=\"text-align: center;\">MIS 382: Advanced Predictive Modeling</p>\n",
    "# <p style=\"text-align: center;\">Assignment 3</p>\n",
    "## <p style=\"text-align: center;\">Total points: 60</p>\n",
    "## <p style=\"text-align: center;\">Due: Wednesday, October 25th, submitted via Canvas by 11:59 pm</p>\n",
    "## <p style=\"text-align: center;\">Daxi Cheng(dc43342), Jianjie Zheng(jz23373) </p>\n",
    "Your homework should be written in a **Jupyter notebook**. You may work in groups of two if you wish. Only one student per team needs to submit the assignment on Canvas.  But be sure to include name and UTID for both students.  Homework groups will be created and managed through Canvas, so please do not arbitrarily change your homework group.  \n",
    "\n",
    "Also, please make sure your code runs and the graphics (and anything else) are displayed in your notebook before submitting. (%matplotlib inline)"
   ]
  },
  {
   "cell_type": "markdown",
   "metadata": {},
   "source": [
    "# Question 1 - Gradient Descent (5+8+2=15pts)\n",
    "\n",
    "In this question you will implement vanilla SGD and an adaptive gradient update technique called Adagrad. In addition, you will also implement ridge regularization. "
   ]
  },
  {
   "cell_type": "markdown",
   "metadata": {},
   "source": [
    "1. Using stochastic gradient descent, derive the coefficent updates for all 4 coefficients of the model: $$ y = w_0 + w_1*x_1 + w_2*x_1*x_2 + w_3*x_2 $$ Hint: start from the cost function (Assume sum of squared error). If you write the math by hand, submit that as a separate file and make a reference to it in your notebook or include the image in your notebook.\n",
    "2. Write Python code for an SGD solution to the non-linear model $$ y = w_0 + w_1*x_1 + w_2*x_1*x_2 + w_3*x_2$$ Try to format similarly to scikit-learn's models. Your class should take as input the learning_rate, regularization_constant and number of epochs. The fit method must take as input X,y and a choice of update_rule as 'SGD' or 'adagrad' (Notes on implementation below). The _predict_ method takes an X value (optionally, an array of values). Use your new gradient descent regression to predict the data given in 'samples.csv', for 10 epochs, using learning rates: [.0001, .001, .01, 0.1, 1, 10, 100] and regularization constants in the range: [0,10,100] . Plot MSE and the $w$ parameters as a function of epoch count (10 epochs) for the best 2 combinations of learning_rate and regularization for both SGD and Adagrad. ie you should have 2 plots of MSE and parameter updates for SGD and adagrad each. Report the MSE at the end of 10 epochs for all 4 combinations.\n",
    "3. Based on the experiments, answer the following:"
   ]
  },
  {
   "cell_type": "markdown",
   "metadata": {},
   "source": [
    "1. Which of the 2 techniqes allows for larger initial setting of the learning_rate? Why?\n",
    "2. What would a drawback of adagrad be? How could this be fixed? (Hint: Adadelta)"
   ]
  },
  {
   "cell_type": "markdown",
   "metadata": {},
   "source": [
    "# Notes on Adagrad\n",
    "Adagrad (http://ruder.io/optimizing-gradient-descent/) differs from vanilla SGD in that the learning rate of each weight changes over updates. A cache is maintained that holds the sum of squares of all gradients upto the current update. The learning_rate is divided by the cache, resulting in a different learning rate for each weight. A consequence of this update rule is that weights that have already seen large gradients (made large jumps) make smaller updates in subsequent iterations.\n",
    "Specifically, the steps can be listed as below:\n",
    "1. cache = cache + (gradients^2)\n",
    "2. weights = weights - ((learning_rate)/sqrt(cache+1e-6))*gradients"
   ]
  },
  {
   "cell_type": "markdown",
   "metadata": {},
   "source": [
    "# (Optional) Notes on Training with Gradient Descent\n",
    "1. Compute error: This consists of a prediction error and a regularization term. From an implementation perspective, this is a function that takes as input the truth, prediction and regularization hyperparameter and returns an error\n",
    "2. Compute gradients: Take a derivative of the error in terms of the weights. This can be modelled as a function that takes as input the error and features and returns the gradients for each weight\n",
    "3. Update weights: Weight updates can be done using vanilla SGD or adaptive techniques. The update function takes as inputs the gradient and hyperparameters and returns the new weights."
   ]
  },
  {
   "cell_type": "markdown",
   "metadata": {},
   "source": [
    "## Answer"
   ]
  },
  {
   "cell_type": "markdown",
   "metadata": {},
   "source": [
    "<font size=4.5>\n",
    "$ Loss \\ function \\ L_{i}= (y_{i}-t_{i})^2$<br>\n",
    "Where $y_{i}= w_0 + w_1*x_{i1} + w_2*x_{i1}*x_{i2} + w_3*x_{i2}$<br><br>\n",
    "Let $E_{i}=y_{i}-t_{i}$<br><br>\n",
    "$\\cfrac{\\partial L_{i}}{\\partial w_{0}} = \\cfrac{\\partial L_{i}}{\\partial E_{i}}*\\cfrac{\\partial E_{i}}{\\partial w_{0}}=2*(y_{i}-t_{i})$<br><br>\n",
    "$\\cfrac{\\partial L_{i}}{\\partial w_{1}} = \\cfrac{\\partial L_{i}}{\\partial E_{i}}*\\cfrac{\\partial E_{i}}{\\partial w_{1}}=2*(y_{i}-t_{i})*x_{i1}$<br><br>\n",
    "$\\cfrac{\\partial L_{i}}{\\partial w_{2}} = \\cfrac{\\partial L_{i}}{\\partial E_{i}}*\\cfrac{\\partial E_{i}}{\\partial w_{2}}=2*(y_{i}-t_{i})*x_{i1}x_{i2}$<br><br>\n",
    "$\\cfrac{\\partial L_{i}}{\\partial w_{3}} = \\cfrac{\\partial L_{i}}{\\partial E_{i}}*\\cfrac{\\partial E_{i}}{\\partial w_{3}}=2*(y_{i}-t_{i})*x_{i2}$<br><br>\n",
    "We update the coefficients by:\n",
    "$$ w_j = w_j - \\eta * \\frac{\\partial L_{i}}{\\partial w_{j}} $$\n",
    "$\\eta$ is the learning rate <br>\n"
   ]
  },
  {
   "cell_type": "code",
   "execution_count": 1,
   "metadata": {
    "collapsed": true
   },
   "outputs": [],
   "source": [
    "import pandas as pd\n",
    "from pandas import Series, DataFrame\n",
    "from pylab import *\n",
    "import numpy as np\n",
    "import matplotlib.pyplot as plt\n",
    "import seaborn as sns\n",
    "import warnings\n",
    "import math\n",
    "warnings.filterwarnings(\"ignore\")\n",
    "%matplotlib inline"
   ]
  },
  {
   "cell_type": "code",
   "execution_count": 2,
   "metadata": {
    "collapsed": true
   },
   "outputs": [],
   "source": [
    "from sklearn.utils import shuffle\n",
    "\n",
    "class SGD:\n",
    "    '''This is a class to conduct the stochastic gradient descend algorithm'''\n",
    "    def __init__(self, eta,reg, epoches):\n",
    "        '''initialize the class with the specific learning rate and number of epoches the user provide'''\n",
    "        self.eta = eta\n",
    "        self.reg = reg\n",
    "        self.epoches = epoches\n",
    "    \n",
    "    def fit(self, X, y,update_rule):\n",
    "        '''fit the model through given numnber of epoch. '''\n",
    "        # Initialize coefficients with all zeros\n",
    "        weights = np.array([0]*4)\n",
    "        w0 = weights[0]\n",
    "        w1 = weights[1]\n",
    "        w2 = weights[2]\n",
    "        w3 = weights[3]\n",
    "        cache0=0\n",
    "        cache1=0\n",
    "        cache2=0\n",
    "        cache3=0\n",
    "        # Iterate through data set the number of times specified in input\n",
    "        for epoch in range(self.epoches):             \n",
    "            # Update all the coefficients according to what we wrote in part 1\n",
    "            for i in range(len(X)):\n",
    "                current_x1 = X[i][0]\n",
    "                current_x2 = X[i][1]\n",
    "                current_t = y[i]\n",
    "                eta = self.eta\n",
    "                current_y = w0 + (w1*current_x1) + (w2*current_x1*current_x2) + (w3*current_x2)\n",
    "                gradients0=2*(current_y - current_t)+2*self.reg*w0\n",
    "                gradients1=2*(current_y - current_t)*current_x1+2*self.reg*w1\n",
    "                gradients2=2*(current_y - current_t)*(current_x1*current_x2)+2*self.reg*w2\n",
    "                gradients3=2*(current_y - current_t)*current_x2+2*self.reg*w3\n",
    "                \n",
    "                if update_rule=='adagrad':\n",
    "                    cache0 = cache0 + (gradients0**2)\n",
    "                    cache1 = cache1 + (gradients1**2)\n",
    "                    cache2 = cache2 + (gradients2**2)\n",
    "                    cache3 = cache3 + (gradients3**2)\n",
    "                    updatecoef0=(eta)/math.sqrt(cache0+1e-6)\n",
    "                    updatecoef1=(eta)/math.sqrt(cache1+1e-6)\n",
    "                    updatecoef2=(eta)/math.sqrt(cache2+1e-6)\n",
    "                    updatecoef3=(eta)/math.sqrt(cache3+1e-6)\n",
    "                elif update_rule=='SGD':\n",
    "                    updatecoef0=eta\n",
    "                    updatecoef1=eta\n",
    "                    updatecoef2=eta\n",
    "                    updatecoef3=eta\n",
    "                w0 = w0 -updatecoef0*gradients0\n",
    "                w1 = w1 -updatecoef1*gradients1\n",
    "                w2 = w2 -updatecoef2*gradients2\n",
    "                w3 = w3 -updatecoef3*gradients3\n",
    "                weights = [w0, w1, w2, w3]\n",
    "        self.weights = weights\n",
    "\n",
    "    def predict(self, X):\n",
    "        '''Predict the value using the fitted model. \n",
    "        Notice: If try to predict without fitting, result will be all weight being zeros.'''\n",
    "        # Get the weights from object attribute\n",
    "        w0 = self.weights[0]\n",
    "        w1 = self.weights[1]\n",
    "        w2 = self.weights[2]\n",
    "        w3 = self.weights[3]\n",
    "        y_pred = []\n",
    "        # Predict for each data in X\n",
    "        for data in X:\n",
    "            current_x1 = float(data[0])\n",
    "            current_x2 = float(data[1])\n",
    "            current_y = w0 + (w1*current_x1) + (w2*current_x1*current_x2) + (w3*current_x2)\n",
    "            # Append the prediction to the pred list\n",
    "            y_pred.append(current_y)\n",
    "        #record this prediction to y_pred\n",
    "        self.y_pred = y_pred\n",
    "        return y_pred"
   ]
  },
  {
   "cell_type": "code",
   "execution_count": 3,
   "metadata": {
    "collapsed": true
   },
   "outputs": [],
   "source": [
    "# Read the data and transform to the X and y we want\n",
    "data_q1 = pd.read_csv('samples.csv')[['x_1', 'x_2', 'y']]\n",
    "X, y = np.array(data_q1[['x_1', 'x_2']]), np.array(data_q1['y'])\n",
    "\n",
    "from sklearn.metrics import mean_squared_error as MSE\n",
    "# Test different parameters\n",
    "\n",
    "learning_rates = [0.0001, 0.001, 0.01,0.1,1,10,100]\n",
    "regs = [0,10,100]\n",
    "# Create MSE list for different learning rate eta\n",
    "\n",
    "# Use this function to try different models\n",
    "def trymodel(Eta, Lambda,method):\n",
    "    model = SGD(Eta, Lambda,10) \n",
    "    model.fit(X, y,method)\n",
    "    prediction = model.predict(X)\n",
    "    try:\n",
    "        mse=MSE(y,prediction)\n",
    "        return mse\n",
    "    except:\n",
    "        return 'error '\n",
    "SGDMSElist=[]\n",
    "adagradlist=[]\n",
    "for Eta in learning_rates:\n",
    "    for Lambda in regs:\n",
    "        message=(trymodel(Eta,Lambda,'SGD'),Eta,Lambda)\n",
    "        SGDMSElist.append(message)\n",
    "for Eta in learning_rates:\n",
    "    for Lambda in regs:\n",
    "        message=(trymodel(Eta,Lambda,'adagrad'),Eta,Lambda)\n",
    "        adagradlist.append(message)"
   ]
  },
  {
   "cell_type": "code",
   "execution_count": 4,
   "metadata": {},
   "outputs": [
    {
     "name": "stdout",
     "output_type": "stream",
     "text": [
      "best SGD combination [(2.7278520489864127e-15, 0.001, 0), (0.12525863182821118, 0.0001, 0)]\n",
      "best adagrad combination [(3.8087463348462628e-21, 1, 0), (1.0581535175457021e-20, 10, 0)]\n"
     ]
    }
   ],
   "source": [
    "print 'best SGD combination',sorted(SGDMSElist,key=lambda x:x[0])[:2]\n",
    "print 'best adagrad combination', sorted(adagradlist,key=lambda x:x[0])[:2]"
   ]
  },
  {
   "cell_type": "markdown",
   "metadata": {},
   "source": [
    "## So we have the best coefficients for SGD and adagrad as below:\n",
    "SGD: learning rate=0.001, regularization constants=0 and learning rate=0.0001, regularization constants=0<br>\n",
    "adagrad: learning rate=1, regularization constants=0 and learning rate=10, regularization constants=0"
   ]
  },
  {
   "cell_type": "code",
   "execution_count": 5,
   "metadata": {
    "collapsed": true
   },
   "outputs": [],
   "source": [
    "def plotMseWeights(Eta,Lambda,method):\n",
    "    figure(figsize=(10,4))\n",
    "    Mse=[]\n",
    "    Weight=[]\n",
    "    num_of_epoch=range(1,11)\n",
    "    for num_epoch in num_of_epoch:\n",
    "        model = SGD(Eta, Lambda,num_epoch) \n",
    "        model.fit(X, y,method)\n",
    "        prediction = model.predict(X)\n",
    "        mse=MSE(y,prediction)\n",
    "        Mse.append(mse)\n",
    "        Weight.append(model.weights)\n",
    "    Weight=np.array(Weight)\n",
    "    subplot(121)\n",
    "    plot(num_of_epoch, Mse)\n",
    "    title1='Eta: '+str(Eta)+' Lambda: '+str(Lambda)+' '+method\n",
    "    title(title1)\n",
    "    xlabel('Number of Epoch')\n",
    "    ylabel('MSE')\n",
    "    df_weights = DataFrame(Weight)\n",
    "    df_weights.columns = ['w0', 'w1', 'w2', 'w3']\n",
    "    subplot(122)\n",
    "    plot(num_of_epoch, df_weights['w0'])\n",
    "    plot(num_of_epoch, df_weights['w1'])\n",
    "    plot(num_of_epoch, df_weights['w2'])\n",
    "    plot(num_of_epoch, df_weights['w3'])\n",
    "    xlabel('Number of Epoch')\n",
    "    ylabel('Weights')\n",
    "    title(title1)\n",
    "    legend(loc = 'best')"
   ]
  },
  {
   "cell_type": "code",
   "execution_count": 6,
   "metadata": {},
   "outputs": [
    {
     "data": {
      "image/png": "[encoded data removed]",
      "text/plain": [
       "<matplotlib.figure.Figure at 0x116faca50>"
      ]
     },
     "metadata": {},
     "output_type": "display_data"
    }
   ],
   "source": [
    "plotMseWeights(0.001,0,'SGD')"
   ]
  },
  {
   "cell_type": "code",
   "execution_count": 7,
   "metadata": {},
   "outputs": [
    {
     "data": {
      "image/png": "[encoded data removed]",
      "text/plain": [
       "<matplotlib.figure.Figure at 0x1174ae690>"
      ]
     },
     "metadata": {},
     "output_type": "display_data"
    }
   ],
   "source": [
    "plotMseWeights(0.0001,0,'SGD')"
   ]
  },
  {
   "cell_type": "code",
   "execution_count": 8,
   "metadata": {},
   "outputs": [
    {
     "data": {
      "image/png": "[encoded data removed]",
      "text/plain": [
       "<matplotlib.figure.Figure at 0x117716ad0>"
      ]
     },
     "metadata": {},
     "output_type": "display_data"
    }
   ],
   "source": [
    "plotMseWeights(1,0,'adagrad')"
   ]
  },
  {
   "cell_type": "code",
   "execution_count": 9,
   "metadata": {},
   "outputs": [
    {
     "data": {
      "image/png": "[encoded data removed]",
      "text/plain": [
       "<matplotlib.figure.Figure at 0x117384ad0>"
      ]
     },
     "metadata": {},
     "output_type": "display_data"
    }
   ],
   "source": [
    "plotMseWeights(10,0,'adagrad')"
   ]
  },
  {
   "cell_type": "markdown",
   "metadata": {},
   "source": [
    "## Answer to 2 questions\n",
    "**Q1.**From the analysis above, we can see that adagrad can allow large learning rate. Actually when I was doing this homework, I found that once the learning rate greater than 0.001, vanilla SGD will just explode and can not converge. While adagrad simply tune the learning rate smaller each step, since cache is monotonically increasing, the coefficient of gradient in the weight updating equation (still call it learning rate) is monotonically decreasing. So as we can see from the graph, the weights hardly change after few iterations."
   ]
  },
  {
   "cell_type": "markdown",
   "metadata": {},
   "source": [
    "**Q2.**One of the draw back of adagrad is as said above, the weight just update really slow after first few iterations. This monotonically decreasing learning rate makes it really aggressive.<br>\n",
    "One way to fix this is to use adadelta, just replace the monotonically increasing cache part of the adagrad with the decaying average over past squared gradients. Which is updating by:<br><br>\n",
    "$$w=w-\\cfrac{\\eta}{\\sqrt{E[g^2]_{t}+\\epsilon}}*g_{t}$$"
   ]
  },
  {
   "cell_type": "markdown",
   "metadata": {},
   "source": [
    "# 2. (6+4=10 pts) Tensor Playground\n",
    "Visit http://playground.tensorflow.org for this problem\n",
    "\n",
    "A. From the far right, select \"Regression\" as the problem type, and select the 2nd of the two data sets ( the right one ).  \n",
    "\n",
    "   i) What sort of test / training loss do you get if you run it for 200 epochs with the following learning rates: .3, .01 and .003 ?  What if you run it for 1000 epochs with these learning rates?  Leave all other values at their defaults ( test/training ratio 50%, Noise 0, Batch Size 10, using Tanh activation function, and No Regularization )\n",
    "   \n",
    "   ii) Keeping learning rate at .3, Activation at Tanh, with all others at their defaults, and running for 200 epochs.  \n",
    "     What sort of test/train loss can you achieve using only 1 neuron in the first hidden layer.  What about for 2,3 or 8 neurons?  Provide screen shots of output layer and comment on how the different output fits look and compare with one another.\n",
    "\n",
    "   iii)Now keeping learning rate at .03 with all others at their defaults, and running for 200 epochs.  \n",
    "       Compare how the activation functions affect the ouput ( ReLU, Sigmoid, Tanh, Linear ). Provide screen shots of output results and comment.\n",
    "\n",
    "\n",
    "B. Neural Nets can fit anything.  Now reset to the initial defaults, and select \"Classification\" as the problem type, and from the Data section, select the bottom right \"Spriral\" data set.  With the idea of trying to minimize training/testing error, provide solutions to the problem for the following 2 scenarios.  i) Using just the first 2 inputs ( as per default ) and ii) Using all 7 of the inputs.  You may use as many layers as you want, whatever activation, however man neurons.  Provide screen shots which show your full network, output and parameters. Briefly justify your decisions, and comment on difficulties/tradeoffs, what helps/what doesn't,etc. \n",
    "\n",
    "## ANSWER"
   ]
  },
  {
   "cell_type": "markdown",
   "metadata": {},
   "source": [
    "**A.**<br>\n",
    "i)Result as follow:<br><br>\n",
    "\n",
    "\n",
    "| Learnig rate | training loss epoch=200 | test loss epoch=200 |training loss epoch=1000 |test lossepoch=1000 | \n",
    "| :-----:| :-----: | :------: |:-----:|:-----:|:-----:|\n",
    "| 0.3| 0.012 | 0.013|0.013|0.012|\n",
    "| 0.01|0.023|0.024|0.018|0.018|\n",
    "| 0.003|0.039|0.040|0.021|0.022|\n",
    "\n",
    "ii)\n",
    "Use 0.3 learning rate:\n",
    "\n",
    "| Number of hidden unit | training loss epoch=200 | test loss epoch=200| \n",
    "| :-----:| :-----: | :------: |\n",
    "| 1| 0.044 | 0.046|\n",
    "| 2|0.034|0.031|\n",
    "| 3|0.021|0.023|\n",
    "| 8|0.007|0.007|\n",
    "\n",
    "Result with 1 hidden unit:<br>\n",
    "<img src=\"ii1.png\" width = \"500\" height = \"300\" /><br><br>\n",
    "Result with 2 hidden unit:<br>\n",
    "\n",
    "<img src=\"ii2.png\" width = \"500\" height = \"300\"  /><br><br>\n",
    "\n",
    "Result with 3 hidden unit:<br>\n",
    "<img src=\"ii3.png\" width = \"500\" height = \"300\"  /><br><br>\n",
    "\n",
    "Result with 8 hidden unit:<br>\n",
    "<img src=\"ii8.png\" width = \"500\" height = \"300\"  /><br><br>\n",
    "\n",
    "We can see from these graphs that as the number of hidden unit growth, the output layer can have better fit for that given dataset. The pattern of that output layer graph just getting more and more complex as the number of hidder unit goes up. The boundary of these two colors just be more and more none linear shape.\n",
    "<br><br>\n",
    "iii)\n",
    "Use 0.03 learning rate, 4 hidden units by default:\n",
    "\n",
    "| Type of activation function| training loss epoch=200 | test loss epoch=200| \n",
    "| :-----:| :-----: | :------: |\n",
    "| ReLu| 0.025 | 0.029|\n",
    "| Sigmoid|0.038|0.043|\n",
    "| Tanh|0.019|0.022|\n",
    "| Linear|0.038|0.043|\n",
    "\n",
    "Result with ReLu:<br>\n",
    "<img src=\"iiiRelu.png\" width = \"500\" height = \"300\" /><br><br>\n",
    "\n",
    "Result with Sigmoid:<br>\n",
    "<img src=\"iiiSigmoid.png\" width = \"500\" height = \"300\"  /><br><br>\n",
    "Result with Tanh:<br>\n",
    "<img src=\"iiiTanh.png\" width = \"500\" height = \"300\"  /><br><br>\n",
    "Result with Linear:<br>\n",
    "<img src=\"iiiLinear.png\" width = \"500\" height = \"300\"  /><br><br>\n",
    "\n",
    "We can see that tanh have the best result and the sigmoid and linear are just slower in the process of loss decreasing. Since sigmoid actually have a rather smaller derivative when the input of sigmoid function is far from zero and linear is expressed in a linear form so it does not fit the non-linear situation and converge really slow.\n",
    "<br><br>\n",
    "\n",
    "**B.**<br>\n",
    "With 2 input, the best result I got is:<br>\n",
    "<img src=\"Bbest2.png\" width = \"1000\" height = \"600\"  /><br><br>\n",
    "With  as 0.1 learning rate, Relu activation function, 3 hidden layers and 5,7,6 number of units in each layer. With over 800 iterations, I got a training loss of 0.007 and test loss of 0.000.<br>\n",
    "In this process, I found that though with more complex neural network(more hidden layer and more units in each layer) we can generate more complex version of classification boundaries, the network is really hard to converge also. And same as we got in part A, Relu is easy to converge and also with a good stability. If we set learning rate too large, sometimes the network's loss just keep fluctuatiing and doesn't converge. And if we set the network too simple with only few hidden units, the total loss would be large.<br><br>\n",
    "With all 7 imput, the best result I got is:<br>\n",
    "<img src=\"Bbest8.png\" width = \"1000\" height = \"600\"  /><br><br>\n",
    "0.03 learning rate and ReLu activation function, only 1 hidden layer with 8 hidden unit, I can get this result of about 0.006 and 0.014 train and test loss.\n"
   ]
  },
  {
   "cell_type": "markdown",
   "metadata": {},
   "source": [
    "# Question 3: Multi-layer Perceptron Regressor (15 points)\n",
    "\n",
    "In this question, you will explore the application of Multi-layer Perceptron (MLP) regression using sklearn package in Python. We will use the Appliances energy prediction dataset for this problem https://archive.ics.uci.edu/ml/datasets/Appliances+energy+prediction.\n",
    "\n",
    "Following code will pre-process the data and split the data into training and test set using [train_test_split](http://scikit-learn.org/stable/modules/generated/sklearn.model_selection.train_test_split.html) with **random state 42** and **test_size = 0.33**.\n",
    "Make sure you have 56 variables and one target variable."
   ]
  },
  {
   "cell_type": "code",
   "execution_count": 10,
   "metadata": {},
   "outputs": [
    {
     "name": "stdout",
     "output_type": "stream",
     "text": [
      "((13222, 56), (13222,), (6513, 56), (6513,))\n"
     ]
    }
   ],
   "source": [
    "import pandas as pd\n",
    "import numpy as np\n",
    "from sklearn.model_selection import (train_test_split,KFold)\n",
    "from sklearn.metrics import mean_squared_error\n",
    "from sklearn.neural_network import MLPRegressor\n",
    "from sklearn.preprocessing import StandardScaler\n",
    "import matplotlib.pyplot as plt\n",
    "import glob\n",
    "%matplotlib inline\n",
    "\n",
    "from sklearn import datasets\n",
    "\n",
    "data = pd.read_csv('./energydata_complete.csv') \n",
    "\n",
    "y = data['Appliances']\n",
    "X = data.drop(['date','Appliances', 'rv1', 'rv2'], axis = 1)\n",
    "\n",
    "\n",
    "from dateutil import parser\n",
    "timeData = np.array(data['date'])\n",
    "\n",
    "days = []\n",
    "hours = []\n",
    "for line in xrange(len(timeData)):\n",
    "    day = parser.parse(timeData[line]).weekday()\n",
    "    hour = parser.parse(timeData[line]).hour\n",
    "    days.append(day)\n",
    "    hours.append(hour)\n",
    "    \n",
    "X = pd.concat([X, pd.get_dummies(days), pd.get_dummies(hours)], axis = 1)\n",
    "\n",
    "\n",
    "X_train, X_test, y_train, y_test = train_test_split(X,y,test_size = 0.33, random_state=42)\n",
    "\n",
    "print(X_train.shape, y_train.shape, X_test.shape, y_test.shape)"
   ]
  },
  {
   "cell_type": "markdown",
   "metadata": {},
   "source": [
    "One more thing to use in this problem is [StandardScaler](http://scikit-learn.org/stable/modules/generated/sklearn.preprocessing.StandardScaler.html). Instead of fitting a model on original data, use StandardScaler to make each feature centered ([Example](http://scikit-learn.org/stable/auto_examples/applications/plot_prediction_latency.html#sphx-glr-auto-examples-applications-plot-prediction-latency-py)). Whenever you have training and test data, fit a scaler on training data and use this scaler on test data. Here, scale only features (independent variables), not target variable y.\n",
    "\n",
    "Use [sklearn.neural_nework.MLPRegressor](http://scikit-learn.org/stable/modules/generated/sklearn.neural_network.MLPRegressor.html#sklearn.neural_network.MLPRegressor) to do a 5-fold cross validation using sklearn's [KFold](http://scikit-learn.org/stable/modules/generated/sklearn.model_selection.KFold.html#sklearn.model_selection.KFold). The cross validation must be performed on the **training data**. "
   ]
  },
  {
   "cell_type": "markdown",
   "metadata": {},
   "source": [
    "1) Use following parameter settings for MLPRegressor:\n",
    "\n",
    "    activation = 'tanh', solver = 'sgd', learning_rate='constant', random_state=42,\n",
    "    batch_size=5000, learning_rate_init = 0.005\n",
    "    \n",
    "Now, consider three different settings for the number of hidden units:\n",
    "    \n",
    "   (a) *hidden_layer_sizes = (2,)* (b) *hidden_layer_sizes = (30,10)* (c) *hidden_layer_sizes = (100,)*\n",
    "    \n",
    "   Report the average Root Mean Squared Error (RMSE) value based on your 5-fold cross validation for each model: (a), (b), and (c) (5pts)\n",
    "      \n",
    "2) Now, using the same number of hidden units used in part 1), train MLPRegressor models on whole training data and report RMSE score for both Train and Test set (Again, use StandardScaler). Which model works the best, (a), (b), or (c)? Briefly analyze the result in terms of the number of hidden units. (3pts)\n",
    "\n",
    "3) MLPRegressor has a built-in attribute *loss\\_curve\\_* which returns the loss at each epoch (misleadingly referred to as \"iteration\" in scikit documentation, though they use epoch in the actual code!). For example, if your model is named as *my_model* you can call it as *my\\_model.loss\\_curve\\_* ([example](http://scikit-learn.org/stable/auto_examples/neural_networks/plot_mlp_training_curves.html#sphx-glr-auto-examples-neural-networks-plot-mlp-training-curves-py)). Plot three curves for model (a), (b), and (c) in one figure, where *X-axis* is epoch  number and *Y-axis* is squared root of *loss\\_curve\\_* value. (2pts)\n",
    "\n",
    "4) Use following parameter settings for MLPRegressor:\n",
    "\n",
    "    activation = 'tanh', solver = 'sgd', learning_rate='constant', random_state=42,\n",
    "    batch_size=5000, hidden_layer_sizes = (15,)\n",
    "    \n",
    "Now, consider three different settings for the learning rates:\n",
    "    \n",
    "   (i) *learning_rate_init = 0.005* (ii) *learning_rate_init = 0.01* (iii) *learning_rate_init = 1*\n",
    "    \n",
    "   Report the average Root Mean Squared Error (RMSE) value based on your 5-fold cross validation for each model: (i), (ii), and (iii) (5pts)\n",
    "\n",
    "\n"
   ]
  },
  {
   "cell_type": "code",
   "execution_count": 11,
   "metadata": {
    "collapsed": true
   },
   "outputs": [],
   "source": [
    "# Centralize and scaling those data\n",
    "Scaler = StandardScaler()\n",
    "X_train = Scaler.fit_transform(X_train)\n",
    "X_train = DataFrame(X_train)\n",
    "X_test = Scaler.transform(X_test)\n",
    "X_test = DataFrame(X_test)"
   ]
  },
  {
   "cell_type": "markdown",
   "metadata": {},
   "source": [
    "## 1) 5-fold cross validation"
   ]
  },
  {
   "cell_type": "code",
   "execution_count": 12,
   "metadata": {
    "collapsed": true
   },
   "outputs": [],
   "source": [
    "# Define the three settings\n",
    "\n",
    "## hidden_layer_sizes = (2,)\n",
    "mlp2 = MLPRegressor(hidden_layer_sizes=(2,), activation='tanh', solver='sgd', learning_rate='constant', random_state=42, \n",
    "                   batch_size=5000, learning_rate_init=0.005)\n",
    "\n",
    "## hidden_layer_sizes = (30,10)\n",
    "mlp30x10 = MLPRegressor(hidden_layer_sizes=(30,10), activation='tanh', solver='sgd', learning_rate='constant', random_state=42,\n",
    "                    batch_size=5000, learning_rate_init=0.005)\n",
    "\n",
    "## hidden_layer_sizes = (100,)\n",
    "mlp100 = MLPRegressor(hidden_layer_sizes=(100,), activation='tanh', solver='sgd', learning_rate='constant', random_state=42,\n",
    "                    batch_size=5000, learning_rate_init=0.005)"
   ]
  },
  {
   "cell_type": "code",
   "execution_count": 13,
   "metadata": {},
   "outputs": [
    {
     "name": "stdout",
     "output_type": "stream",
     "text": [
      "Here is the result for three models with 5-fold validation\n",
      "RMSE for hidden layer size=(2,)is  94.9362385743\n",
      "RMSE for hidden layer size=(30,10)is  102.586729639\n",
      "RMSE for hidden layer size=(100,)is  81.6606039886\n"
     ]
    }
   ],
   "source": [
    "from sklearn.metrics import mean_squared_error as MSE\n",
    "kf = KFold(n_splits=5, random_state=42)\n",
    "kf.get_n_splits(X_train)\n",
    "RMSE2 = []\n",
    "RMSE30x10 = []\n",
    "RMSE100 = []\n",
    "for train, test in kf.split(X_train):\n",
    "    \n",
    "    # fit these three models\n",
    "    mlp2.fit(X_train.iloc[train], y_train.iloc[train])\n",
    "    mlp30x10.fit(X_train.iloc[train], y_train.iloc[train])\n",
    "    mlp100.fit(X_train.iloc[train], y_train.iloc[train])\n",
    "    \n",
    "    #generate the prediction\n",
    "    mlp2_pred = mlp2.predict(X_train.iloc[test])\n",
    "    mlp30x10_pred = mlp30x10.predict(X_train.iloc[test])\n",
    "    mlp100_pred = mlp100.predict(X_train.iloc[test])\n",
    "    \n",
    "    y_true = y_train.iloc[test]\n",
    "    \n",
    "    #calculate the MSE\n",
    "    Mse2 = MSE(y_true, mlp2_pred)\n",
    "    Mse30x10 = MSE(y_true, mlp30x10_pred)\n",
    "    Mse100 = MSE(y_true, mlp100_pred)\n",
    "    \n",
    "    \n",
    "    RMSE2.append(Mse2**0.5)\n",
    "    RMSE30x10.append(Mse30x10**0.5)\n",
    "    RMSE100.append(Mse100**0.5)\n",
    "\n",
    "print 'Here is the result for three models with 5-fold validation'\n",
    "print 'RMSE for hidden layer size=(2,)is ',np.mean(RMSE2)\n",
    "print 'RMSE for hidden layer size=(30,10)is ',np.mean(RMSE30x10)\n",
    "print 'RMSE for hidden layer size=(100,)is ',np.mean(RMSE100)"
   ]
  },
  {
   "cell_type": "markdown",
   "metadata": {},
   "source": [
    "**Findings**<br>\n",
    "We can see that in the 5-fold validation setting, here the hidden layer size of (100,)performed the best and the complex network (30,10) did worse."
   ]
  },
  {
   "cell_type": "markdown",
   "metadata": {},
   "source": [
    "## 2) Train MLPRegressor models on whole training data"
   ]
  },
  {
   "cell_type": "code",
   "execution_count": 14,
   "metadata": {},
   "outputs": [
    {
     "name": "stdout",
     "output_type": "stream",
     "text": [
      "For model with hidden layer size (2,), train RMSE=  92.4398639674  test RMSE=  93.1462304597\n",
      "For model with hidden layer size (30,10), train RMSE=  78.7766484402  test RMSE=  84.6817190796\n",
      "For model with hidden layer size (100,), train RMSE=  67.7820561419  test RMSE=  80.5835014268\n"
     ]
    }
   ],
   "source": [
    "# fit these three models\n",
    "mlp2.fit(X_train, y_train)\n",
    "mlp30x10.fit(X_train, y_train)\n",
    "mlp100.fit(X_train, y_train)\n",
    "\n",
    "#predict the result\n",
    "mlp2_pred_train = mlp2.predict(X_train)\n",
    "mlp2_pred_test = mlp2.predict(X_test)\n",
    "\n",
    "mlp30x10_pred_train = mlp30x10.predict(X_train)\n",
    "mlp30x10_pred_test = mlp30x10.predict(X_test)\n",
    "\n",
    "mlp100_pred_train = mlp100.predict(X_train)\n",
    "mlp100_pred_test = mlp100.predict(X_test)\n",
    "\n",
    "\n",
    "#calculate the RMSEs\n",
    "\n",
    "rmse2_train = MSE(y_train, mlp2_pred_train)**.5\n",
    "rmse2_test = MSE(y_test, mlp2_pred_test)**.5\n",
    "\n",
    "rmse30x10_train = MSE(y_train, mlp30x10_pred_train)**.5\n",
    "rmse30x10_test = MSE(y_test, mlp30x10_pred_test)**.5\n",
    "\n",
    "rmse100_train = MSE(y_train, mlp100_pred_train)**.5\n",
    "rmse100_test = MSE(y_test, mlp100_pred_test)**.5\n",
    "\n",
    "#print the results\n",
    "print 'For model with hidden layer size (2,), train RMSE= ',rmse2_train,' test RMSE= ', rmse2_test\n",
    "print 'For model with hidden layer size (30,10), train RMSE= ',rmse30x10_train,' test RMSE= ', rmse30x10_test\n",
    "print 'For model with hidden layer size (100,), train RMSE= ',rmse100_train,' test RMSE= ', rmse100_test"
   ]
  },
  {
   "cell_type": "markdown",
   "metadata": {},
   "source": [
    " **Explainations**<br>\n",
    "Unlike what we saw in the 5-fold validation. Here the  (30,10) did better than the simpliest one with (2,) hidden layer size. Complex neural network just need more training data so if we are doing it with 5-fold validaton, each time the number of training data is just inadequate so the model performed not well. Once we use the whole data as the training set, it performed better."
   ]
  },
  {
   "cell_type": "markdown",
   "metadata": {},
   "source": [
    "## 3）Plot the loss curve"
   ]
  },
  {
   "cell_type": "code",
   "execution_count": 15,
   "metadata": {},
   "outputs": [
    {
     "data": {
      "text/plain": [
       "<matplotlib.text.Text at 0x117fd51d0>"
      ]
     },
     "execution_count": 15,
     "metadata": {},
     "output_type": "execute_result"
    },
    {
     "data": {
      "image/png": "[encoded data removed]",
      "text/plain": [
       "<matplotlib.figure.Figure at 0x1173a76d0>"
      ]
     },
     "metadata": {},
     "output_type": "display_data"
    }
   ],
   "source": [
    "figure(figsize = (15,5))\n",
    "\n",
    "subplot(131)\n",
    "plot(np.sqrt(mlp2.loss_curve_))\n",
    "title('Hidden layer size=(2,)')\n",
    "xlabel('Iteration')\n",
    "ylabel('Square Root of Loss')\n",
    "\n",
    "subplot(132)\n",
    "plot(np.sqrt(mlp30x10.loss_curve_))\n",
    "title('Hidden layer size=(30,10)')\n",
    "xlabel('Iteration')\n",
    "ylabel('Square Root of Loss')\n",
    "\n",
    "subplot(133)\n",
    "plot(np.sqrt(mlp100.loss_curve_))\n",
    "title('Hidden layer size=(100,)')\n",
    "xlabel('Iteration')\n",
    "ylabel('Square Root of Loss')"
   ]
  },
  {
   "cell_type": "markdown",
   "metadata": {},
   "source": [
    "## 4) Different settings for the learning rates"
   ]
  },
  {
   "cell_type": "code",
   "execution_count": 16,
   "metadata": {},
   "outputs": [
    {
     "name": "stdout",
     "output_type": "stream",
     "text": [
      "Here is the result for three models with 5-fold validation\n",
      "RMSE for learning rate of 0.005 is  88.3324646365\n",
      "RMSE for learning rate of 0.01 is  90.3531300757\n",
      "RMSE for learning rate of 1 is  66247441756.3\n"
     ]
    }
   ],
   "source": [
    "# Define those three models with different initial learning rate\n",
    "mlp0005 = MLPRegressor(hidden_layer_sizes=(15,), activation='tanh', solver='sgd', learning_rate='constant', random_state=42,\n",
    "                    batch_size=5000, learning_rate_init=0.005)\n",
    "mlp001 = MLPRegressor(hidden_layer_sizes=(15,), activation='tanh', solver='sgd', learning_rate='constant', random_state=42,\n",
    "                    batch_size=5000, learning_rate_init=0.01)\n",
    "mlp1 = MLPRegressor(hidden_layer_sizes=(15,), activation='tanh', solver='sgd', learning_rate='constant', random_state=42,\n",
    "                    batch_size=5000, learning_rate_init=1)\n",
    "\n",
    "RMSE0005=[]\n",
    "RMSE001=[]\n",
    "RMSE1=[]\n",
    "for train, test in kf.split(X_train):\n",
    "    \n",
    "    # fit these three models\n",
    "    mlp0005.fit(X_train.iloc[train], y_train.iloc[train])\n",
    "    mlp001.fit(X_train.iloc[train], y_train.iloc[train])\n",
    "    mlp1.fit(X_train.iloc[train], y_train.iloc[train])\n",
    "    \n",
    "    #generate the prediction\n",
    "    mlp0005_pred = mlp0005.predict(X_train.iloc[test])\n",
    "    mlp001_pred = mlp001.predict(X_train.iloc[test])\n",
    "    mlp1_pred = mlp1.predict(X_train.iloc[test])\n",
    "    \n",
    "    y_true = y_train.iloc[test]\n",
    "    \n",
    "    #calculate the MSE\n",
    "    Mse0005 = MSE(y_true, mlp0005_pred)\n",
    "    Mse001 = MSE(y_true, mlp001_pred)\n",
    "    Mse1 = MSE(y_true, mlp1_pred)\n",
    "    \n",
    "    \n",
    "    RMSE0005.append(Mse0005**0.5)\n",
    "    RMSE001.append(Mse001**0.5)\n",
    "    RMSE1.append(Mse1**0.5)\n",
    "\n",
    "print 'Here is the result for three models with 5-fold validation'\n",
    "print 'RMSE for learning rate of 0.005 is ',np.mean(RMSE0005)\n",
    "print 'RMSE for learning rate of 0.01 is ',np.mean(RMSE001)\n",
    "print 'RMSE for learning rate of 1 is ',np.mean(RMSE1)"
   ]
  },
  {
   "cell_type": "markdown",
   "metadata": {},
   "source": [
    "# Question 4: (2+5+3=10 pts) Bayes Decision Theory\n",
    "a. Explain what you understand by class-conditional likelihood, class priors, and posterior probability of a class given an input, and the relationship between them. Please define all symbols and equations used explicitly.\n",
    "( 2 points )\n",
    "\n",
    "b. Suppose you want to learn a binary classifier to predict whether or not a customer will buy a TV. The class label is 0 if the customer does not buy a TV and 1 if they do. For each customer, you are given two features, $x_1$ is the per hour salary and $x_2$ is the age. Assume that the class conditional distribution $p([x_1 , x_2]|C)$ is Gaussian. The mean salary and age of the people who do buy a TV is 15 and 30 respectively and that of those who don’t is 8.5 and 25. Assume that both classes of customers have the same covariance given by the Identity matrix. Further, your sales data suggests that only 1 in 3 people actually bought a TV in the last few years. Mathematically derive the (optimal) Bayes decision boundary for this problem. (5 points)\n",
    "\n",
    "c. Now write code to sample 100 customers from each class (C = 0, 1) under the assumed distribution and the estimated parameters and plot their features. Additionally, plot the decision boundary you obtained in the part (b) on the same plot. (3 points)\n",
    "\n",
    "## ANSWER"
   ]
  },
  {
   "cell_type": "markdown",
   "metadata": {},
   "source": [
    "## Part A\n"
   ]
  },
  {
   "cell_type": "markdown",
   "metadata": {},
   "source": [
    "I think class-conditional likelihood of a class given an input is probability of a feature such as X_1 given that this feature belongs to a specific class C1, mathematically denoted by $p(x_1|C1)$. In addition, class prior in this case refers to $P(C1)$, which means the probability of getting class C1 when we are given a data point. Then, posterior probability stands for $P(C1|X_1)$, which means probability of it belongs to class C1 given it has feature X_1. The relationship between these three can be expressed by $P(C1|X_1) = \\cfrac{P(X_1|C1)*P(C_1)}{P(X_1)}$. So, if we keep class prior constant, as class-conditional likelihood of a given class increases, the posterior probability also increases and they are positively related to each other. On the other hand, if we keep the class-conditional likelihood constant, as class prior increases, the posterior probability decreases and they are negatively related to each other."
   ]
  },
  {
   "cell_type": "markdown",
   "metadata": {},
   "source": [
    "## Part B"
   ]
  },
  {
   "cell_type": "markdown",
   "metadata": {},
   "source": [
    "In this question, we will be using discriminant function to find the optimal Bayes decision boundary and the formula for it is denoted as  $g_i(x)=ln$"
   ]
  },
  {
   "cell_type": "markdown",
   "metadata": {},
   "source": [
    "## Part C"
   ]
  },
  {
   "cell_type": "code",
   "execution_count": 20,
   "metadata": {},
   "outputs": [
    {
     "data": {
      "image/png": "[encoded data removed]",
      "text/plain": [
       "<matplotlib.figure.Figure at 0x118191b90>"
      ]
     },
     "metadata": {},
     "output_type": "display_data"
    }
   ],
   "source": [
    "import numpy as np\n",
    "from matplotlib import pyplot as plt\n",
    "from sklearn.naive_bayes import GaussianNB\n",
    "np.random.seed(42)\n",
    "mu1 = [8.5, 25]\n",
    "cov1 = np.eye(2)\n",
    "\n",
    "mu2 = [15, 30]\n",
    "cov2 = np.eye(2)\n",
    "\n",
    "X1 = np.random.multivariate_normal(mu1, cov1, 100)\n",
    "X2 = np.random.multivariate_normal(mu2, cov2, 100)\n",
    "y = np.zeros(200)\n",
    "y[133:] = 1\n",
    "\n",
    "\n",
    "z=13*X1 + 10*X2 -429.136\n",
    "fig = plt.figure(figsize=(5, 3.75))\n",
    "ax = fig.add_subplot(111)\n",
    "ax.scatter(X1,X2, c=y, cmap=plt.cm.binary, zorder=2)\n",
    "\n",
    "ax.contour(33-0.729*X2, X2, z, colors='k')\n",
    "plt.show()"
   ]
  },
  {
   "cell_type": "markdown",
   "metadata": {},
   "source": [
    "# Question 5: Decision Tree using Python (10 pts)\n",
    "In this problem, you will model the data using decision trees to perform a classification task. Load the BreastTissue.csv dataset. The dataset has been preprocessed. The description of the dataset can be found [here](https://archive.ics.uci.edu/ml/datasets/Breast+Tissue). Using the class tree.DecisionTreeClassifier (http://scikit-learn.org/stable/modules/classes.html#module-sklearn.tree), build two different trees with a maximum depth of two using the split criteria (i) Gini and (ii) Entropy. Use all the data to build trees. Plot the two trees. If your classifier object is called clf, use the following commands to save the generated tree as a '.dot' file that can be used to visualize the tree using Webgraphviz: http://www.webgraphviz.com/\n",
    "\n",
    "Hint: see  http://scikit-learn.org/stable/modules/generated/sklearn.tree.export_graphviz.html"
   ]
  },
  {
   "cell_type": "raw",
   "metadata": {},
   "source": [
    "from sklearn import tree\n",
    "from sklearn.externals.six import StringIO\n",
    "with open(\"decision_tree_gini.dot\", 'w') as f:\n",
    "    f = tree.export_graphviz(clf, out_file=f)"
   ]
  },
  {
   "cell_type": "markdown",
   "metadata": {},
   "source": [
    "Copy paste the contents of your '.dot' file into the text window on the website to visualize the trees. At which node(s) do they differ?"
   ]
  },
  {
   "cell_type": "code",
   "execution_count": 21,
   "metadata": {
    "collapsed": true
   },
   "outputs": [],
   "source": [
    "import pandas as pd\n",
    "data_q5 = pd.read_csv('BreastTissue.csv')\n",
    "X = data_q5.ix[:,2:11]\n",
    "y = data_q5.ix[:,1:2]\n",
    "# transforam categorical y values into numerical value to process decision tree\n",
    "from sklearn import preprocessing\n",
    "le = preprocessing.LabelEncoder()\n",
    "le.fit(y.values)\n",
    "list(le.classes_)\n",
    "data_q5['target']=list(le.transform(y.values)) "
   ]
  },
  {
   "cell_type": "markdown",
   "metadata": {},
   "source": [
    "## Using Gini"
   ]
  },
  {
   "cell_type": "code",
   "execution_count": 23,
   "metadata": {},
   "outputs": [],
   "source": [
    "from sklearn import tree\n",
    "import graphviz \n",
    "clf_gini = tree.DecisionTreeClassifier(criterion=\"gini\",max_depth=2)\n",
    "clf_gini = clf_gini.fit(X,data_q5.target)\n",
    "from sklearn import tree\n",
    "from sklearn.externals.six import StringIO\n",
    "with open(\"decision_tree_gini.dot\", 'w') as f:\n",
    "    f = tree.export_graphviz(clf_gini, out_file=f)"
   ]
  },
  {
   "cell_type": "markdown",
   "metadata": {},
   "source": [
    "## Using Entropy"
   ]
  },
  {
   "cell_type": "code",
   "execution_count": 24,
   "metadata": {
    "collapsed": true
   },
   "outputs": [],
   "source": [
    "from sklearn import tree\n",
    "import graphviz\n",
    "from sklearn.externals.six import StringIO\n",
    "clf_entropy = tree.DecisionTreeClassifier(criterion=\"entropy\",max_depth=2)\n",
    "clf_entropy = clf_entropy.fit(X,data_q5.target)\n",
    "with open(\"decision_tree_entropy.dot\", 'w') as f:\n",
    "    f = tree.export_graphviz(clf_entropy, out_file=f)"
   ]
  },
  {
   "cell_type": "code",
   "execution_count": 25,
   "metadata": {},
   "outputs": [
    {
     "ename": "AttributeError",
     "evalue": "'function' object has no attribute 'tree_'",
     "output_type": "error",
     "traceback": [
      "\u001b[0;31m---------------------------------------------------------------------------\u001b[0m",
      "\u001b[0;31mAttributeError\u001b[0m                            Traceback (most recent call last)",
      "\u001b[0;32m<ipython-input-25-770efc9d5bd6>\u001b[0m in \u001b[0;36m<module>\u001b[0;34m()\u001b[0m\n\u001b[1;32m      2\u001b[0m \u001b[0;32mfrom\u001b[0m \u001b[0msklearn\u001b[0m\u001b[0;34m.\u001b[0m\u001b[0mexternals\u001b[0m\u001b[0;34m.\u001b[0m\u001b[0msix\u001b[0m \u001b[0;32mimport\u001b[0m \u001b[0mStringIO\u001b[0m\u001b[0;34m\u001b[0m\u001b[0m\n\u001b[1;32m      3\u001b[0m \u001b[0;32mwith\u001b[0m \u001b[0mopen\u001b[0m\u001b[0;34m(\u001b[0m\u001b[0;34m\"decision_tree_gini.dot\"\u001b[0m\u001b[0;34m,\u001b[0m \u001b[0;34m'w'\u001b[0m\u001b[0;34m)\u001b[0m \u001b[0;32mas\u001b[0m \u001b[0mf\u001b[0m\u001b[0;34m:\u001b[0m\u001b[0;34m\u001b[0m\u001b[0m\n\u001b[0;32m----> 4\u001b[0;31m     \u001b[0mf\u001b[0m \u001b[0;34m=\u001b[0m \u001b[0mtree\u001b[0m\u001b[0;34m.\u001b[0m\u001b[0mexport_graphviz\u001b[0m\u001b[0;34m(\u001b[0m\u001b[0mclf\u001b[0m\u001b[0;34m,\u001b[0m \u001b[0mout_file\u001b[0m\u001b[0;34m=\u001b[0m\u001b[0mf\u001b[0m\u001b[0;34m)\u001b[0m\u001b[0;34m\u001b[0m\u001b[0m\n\u001b[0m",
      "\u001b[0;32m/Users/Jack/anaconda/lib/python2.7/site-packages/sklearn/tree/export.pyc\u001b[0m in \u001b[0;36mexport_graphviz\u001b[0;34m(decision_tree, out_file, max_depth, feature_names, class_names, label, filled, leaves_parallel, impurity, node_ids, proportion, rotate, rounded, special_characters)\u001b[0m\n\u001b[1;32m    431\u001b[0m             \u001b[0mrecurse\u001b[0m\u001b[0;34m(\u001b[0m\u001b[0mdecision_tree\u001b[0m\u001b[0;34m,\u001b[0m \u001b[0;36m0\u001b[0m\u001b[0;34m,\u001b[0m \u001b[0mcriterion\u001b[0m\u001b[0;34m=\u001b[0m\u001b[0;34m\"impurity\"\u001b[0m\u001b[0;34m)\u001b[0m\u001b[0;34m\u001b[0m\u001b[0m\n\u001b[1;32m    432\u001b[0m         \u001b[0;32melse\u001b[0m\u001b[0;34m:\u001b[0m\u001b[0;34m\u001b[0m\u001b[0m\n\u001b[0;32m--> 433\u001b[0;31m             \u001b[0mrecurse\u001b[0m\u001b[0;34m(\u001b[0m\u001b[0mdecision_tree\u001b[0m\u001b[0;34m.\u001b[0m\u001b[0mtree_\u001b[0m\u001b[0;34m,\u001b[0m \u001b[0;36m0\u001b[0m\u001b[0;34m,\u001b[0m \u001b[0mcriterion\u001b[0m\u001b[0;34m=\u001b[0m\u001b[0mdecision_tree\u001b[0m\u001b[0;34m.\u001b[0m\u001b[0mcriterion\u001b[0m\u001b[0;34m)\u001b[0m\u001b[0;34m\u001b[0m\u001b[0m\n\u001b[0m\u001b[1;32m    434\u001b[0m \u001b[0;34m\u001b[0m\u001b[0m\n\u001b[1;32m    435\u001b[0m         \u001b[0;31m# If required, draw leaf nodes at same depth as each other\u001b[0m\u001b[0;34m\u001b[0m\u001b[0;34m\u001b[0m\u001b[0m\n",
      "\u001b[0;31mAttributeError\u001b[0m: 'function' object has no attribute 'tree_'"
     ]
    }
   ],
   "source": [
    "from sklearn import tree\n",
    "from sklearn.externals.six import StringIO\n",
    "with open(\"decision_tree_gini.dot\", 'w') as f:\n",
    "    f = tree.export_graphviz(clf, out_file=f)"
   ]
  },
  {
   "cell_type": "code",
   "execution_count": null,
   "metadata": {
    "collapsed": true
   },
   "outputs": [],
   "source": []
  }
 ],
 "metadata": {
  "anaconda-cloud": {},
  "kernelspec": {
   "display_name": "Python [default]",
   "language": "python",
   "name": "python2"
  },
  "language_info": {
   "codemirror_mode": {
    "name": "ipython",
    "version": 2
   },
   "file_extension": ".py",
   "mimetype": "text/x-python",
   "name": "python",
   "nbconvert_exporter": "python",
   "pygments_lexer": "ipython2",
   "version": "2.7.13"
  }
 },
 "nbformat": 4,
 "nbformat_minor": 1
}
